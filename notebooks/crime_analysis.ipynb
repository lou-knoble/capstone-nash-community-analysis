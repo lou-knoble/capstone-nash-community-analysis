{
 "cells": [
  {
   "cell_type": "code",
   "execution_count": 132,
   "id": "883fa728-52e8-49ca-af57-5eb989a9c33d",
   "metadata": {},
   "outputs": [],
   "source": [
    "import pandas as pd\n",
    "pd.set_option('display.max_columns', None)"
   ]
  },
  {
   "cell_type": "code",
   "execution_count": 133,
   "id": "8200a52c-389d-4015-bc0e-86b6dd0b5004",
   "metadata": {},
   "outputs": [],
   "source": [
    "# geospatial\n",
    "import geopandas as gpd\n",
    "import matplotlib.pyplot as plt\n",
    "import folium\n",
    "from folium.plugins import MarkerCluster\n",
    "from folium.plugins import FastMarkerCluster"
   ]
  },
  {
   "cell_type": "markdown",
   "id": "1a154bc6-57da-46b6-b5e3-0a65f55e2db9",
   "metadata": {},
   "source": [
    "## Nashville <b>Crime</b> and Community Amenities Analysis\n",
    "\n",
    "This project will be an examination of how crime and accessibility of community resources vary\n",
    "across communities in Nashville and if there are any patterns or correlations to be found\n",
    "between them. I believe that it could shed light on how underprivileged communities with less\n",
    "access to amenities such as housing, green areas, and other resources influence crime rates.\n",
    "The data to be used in this analysis will include local data to Nashville and Davidson county,\n",
    "much of which is obtained through the Nashville Open Data Portal online.\n",
    "\n",
    "<h5><b>Data Question</b></h5>\n",
    "How does crime in Nashville vary across neighborhoods with different community resources,\n",
    "and what correlations or patterns are there?"
   ]
  },
  {
   "cell_type": "markdown",
   "id": "c540d2a9-b5b4-48f4-9ab5-f7558cc93a23",
   "metadata": {},
   "source": [
    "### Cleaning"
   ]
  },
  {
   "cell_type": "code",
   "execution_count": 134,
   "id": "07aaa42c-58e6-4689-b035-6b16db20da81",
   "metadata": {},
   "outputs": [],
   "source": [
    "# Read GeoJson\n",
    "incidents = gpd.read_file('../data/Metro_Nashville_Police_Department_Incidents.geojson')"
   ]
  },
  {
   "cell_type": "code",
   "execution_count": 135,
   "id": "886e51f1-9869-49e1-acec-dc0fc04f0197",
   "metadata": {},
   "outputs": [
    {
     "data": {
      "text/plain": [
       "(894114, 35)"
      ]
     },
     "execution_count": 135,
     "metadata": {},
     "output_type": "execute_result"
    }
   ],
   "source": [
    "# Shape\n",
    "incidents.shape"
   ]
  },
  {
   "cell_type": "code",
   "execution_count": 136,
   "id": "31ea7560-b589-4e24-b67b-0ee26a18abca",
   "metadata": {},
   "outputs": [
    {
     "data": {
      "text/html": [
       "<div>\n",
       "<style scoped>\n",
       "    .dataframe tbody tr th:only-of-type {\n",
       "        vertical-align: middle;\n",
       "    }\n",
       "\n",
       "    .dataframe tbody tr th {\n",
       "        vertical-align: top;\n",
       "    }\n",
       "\n",
       "    .dataframe thead th {\n",
       "        text-align: right;\n",
       "    }\n",
       "</style>\n",
       "<table border=\"1\" class=\"dataframe\">\n",
       "  <thead>\n",
       "    <tr style=\"text-align: right;\">\n",
       "      <th></th>\n",
       "      <th>OBJECTID</th>\n",
       "      <th>Primary_Key</th>\n",
       "      <th>Incident_Number</th>\n",
       "      <th>Report_Type</th>\n",
       "      <th>Report_Type_Description</th>\n",
       "      <th>Incident_Status_Code</th>\n",
       "      <th>Incident_Status_Description</th>\n",
       "      <th>Investigation_Status</th>\n",
       "      <th>Incident_Location</th>\n",
       "      <th>Latitude</th>\n",
       "      <th>Longitude</th>\n",
       "      <th>RPA</th>\n",
       "      <th>Zone</th>\n",
       "      <th>Location_Code</th>\n",
       "      <th>Location_Description</th>\n",
       "      <th>Offense_Number</th>\n",
       "      <th>Offense_NIBRS</th>\n",
       "      <th>Offense_Description</th>\n",
       "      <th>Weapon_Description</th>\n",
       "      <th>Victim_Number</th>\n",
       "      <th>Domestic_Related</th>\n",
       "      <th>Victim_Type</th>\n",
       "      <th>Victim_Description</th>\n",
       "      <th>Victim_Gender</th>\n",
       "      <th>Victim_Race</th>\n",
       "      <th>Victim_Ethnicity</th>\n",
       "      <th>Victim_County_Resident</th>\n",
       "      <th>Mapped_Location</th>\n",
       "      <th>POINT_X</th>\n",
       "      <th>POINT_Y</th>\n",
       "      <th>ZIP_Code</th>\n",
       "      <th>Weapon_Primary</th>\n",
       "      <th>Incident_Occurred</th>\n",
       "      <th>Incident_Reported</th>\n",
       "      <th>geometry</th>\n",
       "    </tr>\n",
       "  </thead>\n",
       "  <tbody>\n",
       "    <tr>\n",
       "      <th>0</th>\n",
       "      <td>1</td>\n",
       "      <td>20180005702_23</td>\n",
       "      <td>20180005702</td>\n",
       "      <td>D</td>\n",
       "      <td>DISPATCHED</td>\n",
       "      <td>O</td>\n",
       "      <td>OPEN</td>\n",
       "      <td>Open</td>\n",
       "      <td>BELL RD</td>\n",
       "      <td>36.170</td>\n",
       "      <td>-86.600</td>\n",
       "      <td>9527.0</td>\n",
       "      <td>521.0</td>\n",
       "      <td>90.0</td>\n",
       "      <td>APARTMENT</td>\n",
       "      <td>2.0</td>\n",
       "      <td>520</td>\n",
       "      <td>WEAPON OFFENSE, CRIMINAL ATTEMPT</td>\n",
       "      <td>HANDGUN</td>\n",
       "      <td>3</td>\n",
       "      <td>No</td>\n",
       "      <td>S</td>\n",
       "      <td>SOCIETY</td>\n",
       "      <td>None</td>\n",
       "      <td>None</td>\n",
       "      <td>None</td>\n",
       "      <td>None</td>\n",
       "      <td>None</td>\n",
       "      <td>None</td>\n",
       "      <td>None</td>\n",
       "      <td>None</td>\n",
       "      <td>01</td>\n",
       "      <td>2018-01-03 02:50:00+00:00</td>\n",
       "      <td>2018-01-03 04:15:00+00:00</td>\n",
       "      <td>POINT (-86.60000 36.17000)</td>\n",
       "    </tr>\n",
       "    <tr>\n",
       "      <th>1</th>\n",
       "      <td>2</td>\n",
       "      <td>20180005926_11</td>\n",
       "      <td>20180005926</td>\n",
       "      <td>S</td>\n",
       "      <td>SUSPECT</td>\n",
       "      <td>A</td>\n",
       "      <td>CLEARED BY ARREST</td>\n",
       "      <td>Closed</td>\n",
       "      <td>DICKERSON PIKE &amp; OLD HICKORY BLVD W</td>\n",
       "      <td>36.269</td>\n",
       "      <td>-86.756</td>\n",
       "      <td>NaN</td>\n",
       "      <td>NaN</td>\n",
       "      <td>13.0</td>\n",
       "      <td>HIGHWAY, ROAD, ALLEY</td>\n",
       "      <td>1.0</td>\n",
       "      <td>35A</td>\n",
       "      <td>MARIJUANA - POSSESS</td>\n",
       "      <td>NONE</td>\n",
       "      <td>1</td>\n",
       "      <td>No</td>\n",
       "      <td>S</td>\n",
       "      <td>SOCIETY</td>\n",
       "      <td>None</td>\n",
       "      <td>None</td>\n",
       "      <td>None</td>\n",
       "      <td>None</td>\n",
       "      <td>None</td>\n",
       "      <td>None</td>\n",
       "      <td>None</td>\n",
       "      <td>37115.0</td>\n",
       "      <td>17</td>\n",
       "      <td>2018-01-03 04:20:00+00:00</td>\n",
       "      <td>2018-01-03 04:42:00+00:00</td>\n",
       "      <td>POINT (-86.75600 36.26900)</td>\n",
       "    </tr>\n",
       "    <tr>\n",
       "      <th>2</th>\n",
       "      <td>3</td>\n",
       "      <td>20180005926_21</td>\n",
       "      <td>20180005926</td>\n",
       "      <td>S</td>\n",
       "      <td>SUSPECT</td>\n",
       "      <td>A</td>\n",
       "      <td>CLEARED BY ARREST</td>\n",
       "      <td>Closed</td>\n",
       "      <td>DICKERSON PIKE &amp; OLD HICKORY BLVD W</td>\n",
       "      <td>36.269</td>\n",
       "      <td>-86.756</td>\n",
       "      <td>NaN</td>\n",
       "      <td>NaN</td>\n",
       "      <td>13.0</td>\n",
       "      <td>HIGHWAY, ROAD, ALLEY</td>\n",
       "      <td>2.0</td>\n",
       "      <td>35B</td>\n",
       "      <td>DRUG PARAPHERNALIA- UNLAWFUL USE</td>\n",
       "      <td>NONE</td>\n",
       "      <td>1</td>\n",
       "      <td>No</td>\n",
       "      <td>S</td>\n",
       "      <td>SOCIETY</td>\n",
       "      <td>None</td>\n",
       "      <td>None</td>\n",
       "      <td>None</td>\n",
       "      <td>None</td>\n",
       "      <td>None</td>\n",
       "      <td>None</td>\n",
       "      <td>None</td>\n",
       "      <td>37115.0</td>\n",
       "      <td>17</td>\n",
       "      <td>2018-01-03 04:20:00+00:00</td>\n",
       "      <td>2018-01-03 04:42:00+00:00</td>\n",
       "      <td>POINT (-86.75600 36.26900)</td>\n",
       "    </tr>\n",
       "  </tbody>\n",
       "</table>\n",
       "</div>"
      ],
      "text/plain": [
       "   OBJECTID     Primary_Key  Incident_Number Report_Type  \\\n",
       "0         1  20180005702_23      20180005702           D   \n",
       "1         2  20180005926_11      20180005926           S   \n",
       "2         3  20180005926_21      20180005926           S   \n",
       "\n",
       "  Report_Type_Description Incident_Status_Code Incident_Status_Description  \\\n",
       "0              DISPATCHED                    O                        OPEN   \n",
       "1                 SUSPECT                    A           CLEARED BY ARREST   \n",
       "2                 SUSPECT                    A           CLEARED BY ARREST   \n",
       "\n",
       "  Investigation_Status                    Incident_Location  Latitude  \\\n",
       "0                 Open                              BELL RD    36.170   \n",
       "1               Closed  DICKERSON PIKE & OLD HICKORY BLVD W    36.269   \n",
       "2               Closed  DICKERSON PIKE & OLD HICKORY BLVD W    36.269   \n",
       "\n",
       "   Longitude     RPA   Zone  Location_Code  Location_Description  \\\n",
       "0    -86.600  9527.0  521.0           90.0             APARTMENT   \n",
       "1    -86.756     NaN    NaN           13.0  HIGHWAY, ROAD, ALLEY   \n",
       "2    -86.756     NaN    NaN           13.0  HIGHWAY, ROAD, ALLEY   \n",
       "\n",
       "   Offense_Number Offense_NIBRS               Offense_Description  \\\n",
       "0             2.0           520  WEAPON OFFENSE, CRIMINAL ATTEMPT   \n",
       "1             1.0           35A               MARIJUANA - POSSESS   \n",
       "2             2.0           35B  DRUG PARAPHERNALIA- UNLAWFUL USE   \n",
       "\n",
       "  Weapon_Description  Victim_Number Domestic_Related Victim_Type  \\\n",
       "0            HANDGUN              3               No           S   \n",
       "1               NONE              1               No           S   \n",
       "2               NONE              1               No           S   \n",
       "\n",
       "  Victim_Description Victim_Gender Victim_Race Victim_Ethnicity  \\\n",
       "0            SOCIETY          None        None             None   \n",
       "1            SOCIETY          None        None             None   \n",
       "2            SOCIETY          None        None             None   \n",
       "\n",
       "  Victim_County_Resident Mapped_Location POINT_X POINT_Y ZIP_Code  \\\n",
       "0                   None            None    None    None     None   \n",
       "1                   None            None    None    None  37115.0   \n",
       "2                   None            None    None    None  37115.0   \n",
       "\n",
       "  Weapon_Primary         Incident_Occurred         Incident_Reported  \\\n",
       "0             01 2018-01-03 02:50:00+00:00 2018-01-03 04:15:00+00:00   \n",
       "1             17 2018-01-03 04:20:00+00:00 2018-01-03 04:42:00+00:00   \n",
       "2             17 2018-01-03 04:20:00+00:00 2018-01-03 04:42:00+00:00   \n",
       "\n",
       "                     geometry  \n",
       "0  POINT (-86.60000 36.17000)  \n",
       "1  POINT (-86.75600 36.26900)  \n",
       "2  POINT (-86.75600 36.26900)  "
      ]
     },
     "execution_count": 136,
     "metadata": {},
     "output_type": "execute_result"
    }
   ],
   "source": [
    "incidents.head(3)"
   ]
  },
  {
   "cell_type": "markdown",
   "id": "64a77073-5cc8-4c8e-98ad-6218cdd78971",
   "metadata": {
    "jp-MarkdownHeadingCollapsed": true
   },
   "source": [
    "#### Dropping Empty or Unnecessary Columns"
   ]
  },
  {
   "cell_type": "code",
   "execution_count": 137,
   "id": "8f070397-267d-4d8b-9969-ad73fadc6ca8",
   "metadata": {},
   "outputs": [],
   "source": [
    "# Set up new DF to trim\n",
    "incidents_trim = incidents"
   ]
  },
  {
   "cell_type": "code",
   "execution_count": 138,
   "id": "ecc32593-b2b0-4d23-86ae-8674eeee6566",
   "metadata": {},
   "outputs": [
    {
     "data": {
      "text/plain": [
       "Index(['OBJECTID', 'Primary_Key', 'Incident_Number', 'Report_Type',\n",
       "       'Report_Type_Description', 'Incident_Status_Code',\n",
       "       'Incident_Status_Description', 'Investigation_Status',\n",
       "       'Incident_Location', 'Latitude', 'Longitude', 'RPA', 'Zone',\n",
       "       'Location_Code', 'Location_Description', 'Offense_Number',\n",
       "       'Offense_NIBRS', 'Offense_Description', 'Weapon_Description',\n",
       "       'Victim_Number', 'Domestic_Related', 'Victim_Type',\n",
       "       'Victim_Description', 'Victim_Gender', 'Victim_Race',\n",
       "       'Victim_Ethnicity', 'Victim_County_Resident', 'Mapped_Location',\n",
       "       'POINT_X', 'POINT_Y', 'ZIP_Code', 'Weapon_Primary', 'Incident_Occurred',\n",
       "       'Incident_Reported', 'geometry'],\n",
       "      dtype='object')"
      ]
     },
     "execution_count": 138,
     "metadata": {},
     "output_type": "execute_result"
    }
   ],
   "source": [
    "incidents_trim.columns"
   ]
  },
  {
   "cell_type": "code",
   "execution_count": 139,
   "id": "a66f7d51-4cf8-4e3e-ad04-c3b88e4c6f82",
   "metadata": {},
   "outputs": [
    {
     "data": {
      "text/plain": [
       "array([None], dtype=object)"
      ]
     },
     "execution_count": 139,
     "metadata": {},
     "output_type": "execute_result"
    }
   ],
   "source": [
    "# These all look like empty columns\n",
    "incidents_trim['POINT_X'].unique()"
   ]
  },
  {
   "cell_type": "code",
   "execution_count": 140,
   "id": "b84a8e21-72a9-44d8-be04-249c28ce6358",
   "metadata": {},
   "outputs": [
    {
     "data": {
      "text/plain": [
       "array([None], dtype=object)"
      ]
     },
     "execution_count": 140,
     "metadata": {},
     "output_type": "execute_result"
    }
   ],
   "source": [
    "incidents_trim['POINT_Y'].unique()"
   ]
  },
  {
   "cell_type": "code",
   "execution_count": 141,
   "id": "216a03b9-682c-4e74-9698-32d86477f2c7",
   "metadata": {},
   "outputs": [
    {
     "data": {
      "text/plain": [
       "array([None], dtype=object)"
      ]
     },
     "execution_count": 141,
     "metadata": {},
     "output_type": "execute_result"
    }
   ],
   "source": [
    "incidents_trim['Mapped_Location'].unique()"
   ]
  },
  {
   "cell_type": "code",
   "execution_count": 142,
   "id": "b0076e51-fcd3-484f-b660-eb6dd2504feb",
   "metadata": {},
   "outputs": [
    {
     "data": {
      "text/html": [
       "<div>\n",
       "<style scoped>\n",
       "    .dataframe tbody tr th:only-of-type {\n",
       "        vertical-align: middle;\n",
       "    }\n",
       "\n",
       "    .dataframe tbody tr th {\n",
       "        vertical-align: top;\n",
       "    }\n",
       "\n",
       "    .dataframe thead th {\n",
       "        text-align: right;\n",
       "    }\n",
       "</style>\n",
       "<table border=\"1\" class=\"dataframe\">\n",
       "  <thead>\n",
       "    <tr style=\"text-align: right;\">\n",
       "      <th></th>\n",
       "      <th>OBJECTID</th>\n",
       "      <th>Primary_Key</th>\n",
       "      <th>Incident_Number</th>\n",
       "      <th>Report_Type</th>\n",
       "      <th>Report_Type_Description</th>\n",
       "      <th>Incident_Status_Code</th>\n",
       "      <th>Incident_Status_Description</th>\n",
       "      <th>Investigation_Status</th>\n",
       "      <th>Incident_Location</th>\n",
       "      <th>Latitude</th>\n",
       "      <th>Longitude</th>\n",
       "      <th>RPA</th>\n",
       "      <th>Zone</th>\n",
       "      <th>Location_Code</th>\n",
       "      <th>Location_Description</th>\n",
       "      <th>Offense_Number</th>\n",
       "      <th>Offense_NIBRS</th>\n",
       "      <th>Offense_Description</th>\n",
       "      <th>Weapon_Description</th>\n",
       "      <th>Victim_Number</th>\n",
       "      <th>Domestic_Related</th>\n",
       "      <th>Victim_Type</th>\n",
       "      <th>Victim_Description</th>\n",
       "      <th>Victim_Gender</th>\n",
       "      <th>Victim_Race</th>\n",
       "      <th>Victim_Ethnicity</th>\n",
       "      <th>Victim_County_Resident</th>\n",
       "      <th>Mapped_Location</th>\n",
       "      <th>POINT_X</th>\n",
       "      <th>POINT_Y</th>\n",
       "      <th>ZIP_Code</th>\n",
       "      <th>Weapon_Primary</th>\n",
       "      <th>Incident_Occurred</th>\n",
       "      <th>Incident_Reported</th>\n",
       "      <th>geometry</th>\n",
       "    </tr>\n",
       "  </thead>\n",
       "  <tbody>\n",
       "    <tr>\n",
       "      <th>894113</th>\n",
       "      <td>894114</td>\n",
       "      <td>20240487277_11</td>\n",
       "      <td>20240487277</td>\n",
       "      <td>D</td>\n",
       "      <td>DISPATCHED</td>\n",
       "      <td>U</td>\n",
       "      <td>UNFOUNDED</td>\n",
       "      <td>Closed</td>\n",
       "      <td>3324 3324</td>\n",
       "      <td>36.084</td>\n",
       "      <td>-86.585</td>\n",
       "      <td>NaN</td>\n",
       "      <td>NaN</td>\n",
       "      <td>53.0</td>\n",
       "      <td>School-Elementary/Secondary</td>\n",
       "      <td>1.0</td>\n",
       "      <td>810</td>\n",
       "      <td>LOST PROPERTY</td>\n",
       "      <td>NONE</td>\n",
       "      <td>1</td>\n",
       "      <td>No</td>\n",
       "      <td>I</td>\n",
       "      <td>INDIVIDUAL (18 AND OVER)</td>\n",
       "      <td>F</td>\n",
       "      <td>W</td>\n",
       "      <td>Non-Hispanic</td>\n",
       "      <td>RESIDENT</td>\n",
       "      <td>None</td>\n",
       "      <td>None</td>\n",
       "      <td>None</td>\n",
       "      <td>37013.0</td>\n",
       "      <td>17</td>\n",
       "      <td>2024-05-24 14:00:00+00:00</td>\n",
       "      <td>2024-07-24 06:51:00+00:00</td>\n",
       "      <td>POINT (-86.58500 36.08400)</td>\n",
       "    </tr>\n",
       "  </tbody>\n",
       "</table>\n",
       "</div>"
      ],
      "text/plain": [
       "        OBJECTID     Primary_Key  Incident_Number Report_Type  \\\n",
       "894113    894114  20240487277_11      20240487277           D   \n",
       "\n",
       "       Report_Type_Description Incident_Status_Code  \\\n",
       "894113              DISPATCHED                    U   \n",
       "\n",
       "       Incident_Status_Description Investigation_Status Incident_Location  \\\n",
       "894113                   UNFOUNDED               Closed         3324 3324   \n",
       "\n",
       "        Latitude  Longitude  RPA  Zone  Location_Code  \\\n",
       "894113    36.084    -86.585  NaN   NaN           53.0   \n",
       "\n",
       "               Location_Description  Offense_Number Offense_NIBRS  \\\n",
       "894113  School-Elementary/Secondary             1.0           810   \n",
       "\n",
       "       Offense_Description Weapon_Description  Victim_Number Domestic_Related  \\\n",
       "894113       LOST PROPERTY               NONE              1               No   \n",
       "\n",
       "       Victim_Type        Victim_Description Victim_Gender Victim_Race  \\\n",
       "894113           I  INDIVIDUAL (18 AND OVER)             F           W   \n",
       "\n",
       "       Victim_Ethnicity Victim_County_Resident Mapped_Location POINT_X  \\\n",
       "894113     Non-Hispanic               RESIDENT            None    None   \n",
       "\n",
       "       POINT_Y ZIP_Code Weapon_Primary         Incident_Occurred  \\\n",
       "894113    None  37013.0             17 2024-05-24 14:00:00+00:00   \n",
       "\n",
       "               Incident_Reported                    geometry  \n",
       "894113 2024-07-24 06:51:00+00:00  POINT (-86.58500 36.08400)  "
      ]
     },
     "execution_count": 142,
     "metadata": {},
     "output_type": "execute_result"
    }
   ],
   "source": [
    "# Object ID just looks like a 1 based index duplicate\n",
    "incidents_trim[incidents_trim['OBJECTID'] == incidents_trim['OBJECTID'].max()]"
   ]
  },
  {
   "cell_type": "code",
   "execution_count": 143,
   "id": "9a1575f2-0cc2-4fdb-99f5-f7cbc2834715",
   "metadata": {},
   "outputs": [
    {
     "data": {
      "text/html": [
       "<div>\n",
       "<style scoped>\n",
       "    .dataframe tbody tr th:only-of-type {\n",
       "        vertical-align: middle;\n",
       "    }\n",
       "\n",
       "    .dataframe tbody tr th {\n",
       "        vertical-align: top;\n",
       "    }\n",
       "\n",
       "    .dataframe thead th {\n",
       "        text-align: right;\n",
       "    }\n",
       "</style>\n",
       "<table border=\"1\" class=\"dataframe\">\n",
       "  <thead>\n",
       "    <tr style=\"text-align: right;\">\n",
       "      <th></th>\n",
       "      <th>Primary_Key</th>\n",
       "      <th>Incident_Number</th>\n",
       "      <th>Location_Code</th>\n",
       "      <th>Location_Description</th>\n",
       "      <th>Offense_Number</th>\n",
       "      <th>Offense_NIBRS</th>\n",
       "      <th>Offense_Description</th>\n",
       "      <th>Weapon_Description</th>\n",
       "      <th>Victim_Number</th>\n",
       "      <th>Domestic_Related</th>\n",
       "      <th>Victim_Type</th>\n",
       "    </tr>\n",
       "  </thead>\n",
       "  <tbody>\n",
       "    <tr>\n",
       "      <th>0</th>\n",
       "      <td>20180005702_23</td>\n",
       "      <td>20180005702</td>\n",
       "      <td>90.0</td>\n",
       "      <td>APARTMENT</td>\n",
       "      <td>2.0</td>\n",
       "      <td>520</td>\n",
       "      <td>WEAPON OFFENSE, CRIMINAL ATTEMPT</td>\n",
       "      <td>HANDGUN</td>\n",
       "      <td>3</td>\n",
       "      <td>No</td>\n",
       "      <td>S</td>\n",
       "    </tr>\n",
       "    <tr>\n",
       "      <th>1</th>\n",
       "      <td>20180005926_11</td>\n",
       "      <td>20180005926</td>\n",
       "      <td>13.0</td>\n",
       "      <td>HIGHWAY, ROAD, ALLEY</td>\n",
       "      <td>1.0</td>\n",
       "      <td>35A</td>\n",
       "      <td>MARIJUANA - POSSESS</td>\n",
       "      <td>NONE</td>\n",
       "      <td>1</td>\n",
       "      <td>No</td>\n",
       "      <td>S</td>\n",
       "    </tr>\n",
       "    <tr>\n",
       "      <th>2</th>\n",
       "      <td>20180005926_21</td>\n",
       "      <td>20180005926</td>\n",
       "      <td>13.0</td>\n",
       "      <td>HIGHWAY, ROAD, ALLEY</td>\n",
       "      <td>2.0</td>\n",
       "      <td>35B</td>\n",
       "      <td>DRUG PARAPHERNALIA- UNLAWFUL USE</td>\n",
       "      <td>NONE</td>\n",
       "      <td>1</td>\n",
       "      <td>No</td>\n",
       "      <td>S</td>\n",
       "    </tr>\n",
       "    <tr>\n",
       "      <th>3</th>\n",
       "      <td>20180004613_11</td>\n",
       "      <td>20180004613</td>\n",
       "      <td>22.0</td>\n",
       "      <td>RESIDENCE, HOME</td>\n",
       "      <td>1.0</td>\n",
       "      <td>220</td>\n",
       "      <td>BURGLARY- AGGRAVATED</td>\n",
       "      <td>PERSONAL (HANDS)</td>\n",
       "      <td>1</td>\n",
       "      <td>No</td>\n",
       "      <td>I</td>\n",
       "    </tr>\n",
       "    <tr>\n",
       "      <th>4</th>\n",
       "      <td>20180004654_22</td>\n",
       "      <td>20180004654</td>\n",
       "      <td>22.0</td>\n",
       "      <td>RESIDENCE, HOME</td>\n",
       "      <td>2.0</td>\n",
       "      <td>220</td>\n",
       "      <td>BURGLARY- AGGRAVATED</td>\n",
       "      <td>NONE</td>\n",
       "      <td>2</td>\n",
       "      <td>No</td>\n",
       "      <td>I</td>\n",
       "    </tr>\n",
       "  </tbody>\n",
       "</table>\n",
       "</div>"
      ],
      "text/plain": [
       "      Primary_Key  Incident_Number  Location_Code  Location_Description  \\\n",
       "0  20180005702_23      20180005702           90.0             APARTMENT   \n",
       "1  20180005926_11      20180005926           13.0  HIGHWAY, ROAD, ALLEY   \n",
       "2  20180005926_21      20180005926           13.0  HIGHWAY, ROAD, ALLEY   \n",
       "3  20180004613_11      20180004613           22.0       RESIDENCE, HOME   \n",
       "4  20180004654_22      20180004654           22.0       RESIDENCE, HOME   \n",
       "\n",
       "   Offense_Number Offense_NIBRS               Offense_Description  \\\n",
       "0             2.0           520  WEAPON OFFENSE, CRIMINAL ATTEMPT   \n",
       "1             1.0           35A               MARIJUANA - POSSESS   \n",
       "2             2.0           35B  DRUG PARAPHERNALIA- UNLAWFUL USE   \n",
       "3             1.0           220              BURGLARY- AGGRAVATED   \n",
       "4             2.0           220              BURGLARY- AGGRAVATED   \n",
       "\n",
       "  Weapon_Description  Victim_Number Domestic_Related Victim_Type  \n",
       "0            HANDGUN              3               No           S  \n",
       "1               NONE              1               No           S  \n",
       "2               NONE              1               No           S  \n",
       "3   PERSONAL (HANDS)              1               No           I  \n",
       "4               NONE              2               No           I  "
      ]
     },
     "execution_count": 143,
     "metadata": {},
     "output_type": "execute_result"
    }
   ],
   "source": [
    "# Let's look at the middle columns that keep getting cut out\n",
    "incidents_trim[['Primary_Key', 'Incident_Number', 'Location_Code', 'Location_Description', 'Offense_Number',\n",
    "       'Offense_NIBRS', 'Offense_Description', 'Weapon_Description', 'Victim_Number', 'Domestic_Related', 'Victim_Type']].head()"
   ]
  },
  {
   "cell_type": "code",
   "execution_count": 144,
   "id": "c90cffd5-20d6-428e-9f99-3273be180228",
   "metadata": {},
   "outputs": [
    {
     "data": {
      "text/html": [
       "<div>\n",
       "<style scoped>\n",
       "    .dataframe tbody tr th:only-of-type {\n",
       "        vertical-align: middle;\n",
       "    }\n",
       "\n",
       "    .dataframe tbody tr th {\n",
       "        vertical-align: top;\n",
       "    }\n",
       "\n",
       "    .dataframe thead th {\n",
       "        text-align: right;\n",
       "    }\n",
       "</style>\n",
       "<table border=\"1\" class=\"dataframe\">\n",
       "  <thead>\n",
       "    <tr style=\"text-align: right;\">\n",
       "      <th></th>\n",
       "      <th>Incident_Number</th>\n",
       "      <th>Location_Description</th>\n",
       "      <th>Offense_Description</th>\n",
       "      <th>Weapon_Description</th>\n",
       "      <th>Victim_Number</th>\n",
       "    </tr>\n",
       "  </thead>\n",
       "  <tbody>\n",
       "    <tr>\n",
       "      <th>0</th>\n",
       "      <td>20180005702</td>\n",
       "      <td>APARTMENT</td>\n",
       "      <td>WEAPON OFFENSE, CRIMINAL ATTEMPT</td>\n",
       "      <td>HANDGUN</td>\n",
       "      <td>3</td>\n",
       "    </tr>\n",
       "    <tr>\n",
       "      <th>798</th>\n",
       "      <td>20180005702</td>\n",
       "      <td>APARTMENT</td>\n",
       "      <td>ROBBERY, AGGRAVATED, HANDGUN</td>\n",
       "      <td>HANDGUN</td>\n",
       "      <td>1</td>\n",
       "    </tr>\n",
       "    <tr>\n",
       "      <th>799</th>\n",
       "      <td>20180005702</td>\n",
       "      <td>APARTMENT</td>\n",
       "      <td>ROBBERY, AGGRAVATED, HANDGUN</td>\n",
       "      <td>HANDGUN</td>\n",
       "      <td>2</td>\n",
       "    </tr>\n",
       "  </tbody>\n",
       "</table>\n",
       "</div>"
      ],
      "text/plain": [
       "     Incident_Number Location_Description               Offense_Description  \\\n",
       "0        20180005702            APARTMENT  WEAPON OFFENSE, CRIMINAL ATTEMPT   \n",
       "798      20180005702            APARTMENT      ROBBERY, AGGRAVATED, HANDGUN   \n",
       "799      20180005702            APARTMENT      ROBBERY, AGGRAVATED, HANDGUN   \n",
       "\n",
       "    Weapon_Description  Victim_Number  \n",
       "0              HANDGUN              3  \n",
       "798            HANDGUN              1  \n",
       "799            HANDGUN              2  "
      ]
     },
     "execution_count": 144,
     "metadata": {},
     "output_type": "execute_result"
    }
   ],
   "source": [
    "# Checking Victim Num\n",
    "incidents_trim[['Incident_Number', 'Location_Description', 'Offense_Description', 'Weapon_Description', 'Victim_Number']][incidents_trim['Incident_Number'] == 20180005702]"
   ]
  },
  {
   "cell_type": "markdown",
   "id": "1f940a6c-6168-4da0-9a7c-579406c6642f",
   "metadata": {},
   "source": [
    "<h5><b>UNNECESSARY COLUMNS</b></h5>\n",
    "RPA: MNPD reporting zone for the incident<br>\n",
    "Zone: MNPD zone / patrol area where the incident occurred<br>\n",
    "Object ID just is just a 1 based index duplicate<br>\n",
    "\n",
    "<h5><b>EMPTY COLUMNS</b></h5>\n",
    "Mapped_Location<br>\n",
    "POINT_X<br>\n",
    "POINT_Y<br>"
   ]
  },
  {
   "cell_type": "code",
   "execution_count": 145,
   "id": "f6b4dc53-a096-4839-b18c-04cde191dbb3",
   "metadata": {},
   "outputs": [],
   "source": [
    "# Dropping unnecessary columns\n",
    "incidents_trim = incidents_trim.drop(columns=['OBJECTID', 'RPA', 'Zone', 'Mapped_Location', 'POINT_X', 'POINT_Y'])"
   ]
  },
  {
   "cell_type": "code",
   "execution_count": 146,
   "id": "f4e8d7a8-1a66-4fcc-a6d0-c97551b76765",
   "metadata": {},
   "outputs": [
    {
     "data": {
      "text/html": [
       "<div>\n",
       "<style scoped>\n",
       "    .dataframe tbody tr th:only-of-type {\n",
       "        vertical-align: middle;\n",
       "    }\n",
       "\n",
       "    .dataframe tbody tr th {\n",
       "        vertical-align: top;\n",
       "    }\n",
       "\n",
       "    .dataframe thead th {\n",
       "        text-align: right;\n",
       "    }\n",
       "</style>\n",
       "<table border=\"1\" class=\"dataframe\">\n",
       "  <thead>\n",
       "    <tr style=\"text-align: right;\">\n",
       "      <th></th>\n",
       "      <th>Primary_Key</th>\n",
       "      <th>Incident_Number</th>\n",
       "      <th>Report_Type</th>\n",
       "      <th>Report_Type_Description</th>\n",
       "      <th>Incident_Status_Code</th>\n",
       "      <th>Incident_Status_Description</th>\n",
       "      <th>Investigation_Status</th>\n",
       "      <th>Incident_Location</th>\n",
       "      <th>Latitude</th>\n",
       "      <th>Longitude</th>\n",
       "      <th>Location_Code</th>\n",
       "      <th>Location_Description</th>\n",
       "      <th>Offense_Number</th>\n",
       "      <th>Offense_NIBRS</th>\n",
       "      <th>Offense_Description</th>\n",
       "      <th>Weapon_Description</th>\n",
       "      <th>Victim_Number</th>\n",
       "      <th>Domestic_Related</th>\n",
       "      <th>Victim_Type</th>\n",
       "      <th>Victim_Description</th>\n",
       "      <th>Victim_Gender</th>\n",
       "      <th>Victim_Race</th>\n",
       "      <th>Victim_Ethnicity</th>\n",
       "      <th>Victim_County_Resident</th>\n",
       "      <th>ZIP_Code</th>\n",
       "      <th>Weapon_Primary</th>\n",
       "      <th>Incident_Occurred</th>\n",
       "      <th>Incident_Reported</th>\n",
       "      <th>geometry</th>\n",
       "    </tr>\n",
       "  </thead>\n",
       "  <tbody>\n",
       "    <tr>\n",
       "      <th>0</th>\n",
       "      <td>20180005702_23</td>\n",
       "      <td>20180005702</td>\n",
       "      <td>D</td>\n",
       "      <td>DISPATCHED</td>\n",
       "      <td>O</td>\n",
       "      <td>OPEN</td>\n",
       "      <td>Open</td>\n",
       "      <td>BELL RD</td>\n",
       "      <td>36.170</td>\n",
       "      <td>-86.600</td>\n",
       "      <td>90.0</td>\n",
       "      <td>APARTMENT</td>\n",
       "      <td>2.0</td>\n",
       "      <td>520</td>\n",
       "      <td>WEAPON OFFENSE, CRIMINAL ATTEMPT</td>\n",
       "      <td>HANDGUN</td>\n",
       "      <td>3</td>\n",
       "      <td>No</td>\n",
       "      <td>S</td>\n",
       "      <td>SOCIETY</td>\n",
       "      <td>None</td>\n",
       "      <td>None</td>\n",
       "      <td>None</td>\n",
       "      <td>None</td>\n",
       "      <td>None</td>\n",
       "      <td>01</td>\n",
       "      <td>2018-01-03 02:50:00+00:00</td>\n",
       "      <td>2018-01-03 04:15:00+00:00</td>\n",
       "      <td>POINT (-86.60000 36.17000)</td>\n",
       "    </tr>\n",
       "    <tr>\n",
       "      <th>1</th>\n",
       "      <td>20180005926_11</td>\n",
       "      <td>20180005926</td>\n",
       "      <td>S</td>\n",
       "      <td>SUSPECT</td>\n",
       "      <td>A</td>\n",
       "      <td>CLEARED BY ARREST</td>\n",
       "      <td>Closed</td>\n",
       "      <td>DICKERSON PIKE &amp; OLD HICKORY BLVD W</td>\n",
       "      <td>36.269</td>\n",
       "      <td>-86.756</td>\n",
       "      <td>13.0</td>\n",
       "      <td>HIGHWAY, ROAD, ALLEY</td>\n",
       "      <td>1.0</td>\n",
       "      <td>35A</td>\n",
       "      <td>MARIJUANA - POSSESS</td>\n",
       "      <td>NONE</td>\n",
       "      <td>1</td>\n",
       "      <td>No</td>\n",
       "      <td>S</td>\n",
       "      <td>SOCIETY</td>\n",
       "      <td>None</td>\n",
       "      <td>None</td>\n",
       "      <td>None</td>\n",
       "      <td>None</td>\n",
       "      <td>37115.0</td>\n",
       "      <td>17</td>\n",
       "      <td>2018-01-03 04:20:00+00:00</td>\n",
       "      <td>2018-01-03 04:42:00+00:00</td>\n",
       "      <td>POINT (-86.75600 36.26900)</td>\n",
       "    </tr>\n",
       "    <tr>\n",
       "      <th>2</th>\n",
       "      <td>20180005926_21</td>\n",
       "      <td>20180005926</td>\n",
       "      <td>S</td>\n",
       "      <td>SUSPECT</td>\n",
       "      <td>A</td>\n",
       "      <td>CLEARED BY ARREST</td>\n",
       "      <td>Closed</td>\n",
       "      <td>DICKERSON PIKE &amp; OLD HICKORY BLVD W</td>\n",
       "      <td>36.269</td>\n",
       "      <td>-86.756</td>\n",
       "      <td>13.0</td>\n",
       "      <td>HIGHWAY, ROAD, ALLEY</td>\n",
       "      <td>2.0</td>\n",
       "      <td>35B</td>\n",
       "      <td>DRUG PARAPHERNALIA- UNLAWFUL USE</td>\n",
       "      <td>NONE</td>\n",
       "      <td>1</td>\n",
       "      <td>No</td>\n",
       "      <td>S</td>\n",
       "      <td>SOCIETY</td>\n",
       "      <td>None</td>\n",
       "      <td>None</td>\n",
       "      <td>None</td>\n",
       "      <td>None</td>\n",
       "      <td>37115.0</td>\n",
       "      <td>17</td>\n",
       "      <td>2018-01-03 04:20:00+00:00</td>\n",
       "      <td>2018-01-03 04:42:00+00:00</td>\n",
       "      <td>POINT (-86.75600 36.26900)</td>\n",
       "    </tr>\n",
       "    <tr>\n",
       "      <th>3</th>\n",
       "      <td>20180004613_11</td>\n",
       "      <td>20180004613</td>\n",
       "      <td>D</td>\n",
       "      <td>DISPATCHED</td>\n",
       "      <td>A</td>\n",
       "      <td>CLEARED BY ARREST</td>\n",
       "      <td>Closed</td>\n",
       "      <td>1519 1519</td>\n",
       "      <td>36.149</td>\n",
       "      <td>-86.720</td>\n",
       "      <td>22.0</td>\n",
       "      <td>RESIDENCE, HOME</td>\n",
       "      <td>1.0</td>\n",
       "      <td>220</td>\n",
       "      <td>BURGLARY- AGGRAVATED</td>\n",
       "      <td>PERSONAL (HANDS)</td>\n",
       "      <td>1</td>\n",
       "      <td>No</td>\n",
       "      <td>I</td>\n",
       "      <td>INDIVIDUAL (18 AND OVER)</td>\n",
       "      <td>M</td>\n",
       "      <td>W</td>\n",
       "      <td>Non-Hispanic</td>\n",
       "      <td>RESIDENT</td>\n",
       "      <td>37210.0</td>\n",
       "      <td>09</td>\n",
       "      <td>2018-01-02 20:02:00+00:00</td>\n",
       "      <td>2018-01-02 22:37:00+00:00</td>\n",
       "      <td>POINT (-86.72000 36.14900)</td>\n",
       "    </tr>\n",
       "    <tr>\n",
       "      <th>4</th>\n",
       "      <td>20180004654_22</td>\n",
       "      <td>20180004654</td>\n",
       "      <td>D</td>\n",
       "      <td>DISPATCHED</td>\n",
       "      <td>A</td>\n",
       "      <td>CLEARED BY ARREST</td>\n",
       "      <td>Closed</td>\n",
       "      <td>824 824</td>\n",
       "      <td>36.161</td>\n",
       "      <td>-86.798</td>\n",
       "      <td>22.0</td>\n",
       "      <td>RESIDENCE, HOME</td>\n",
       "      <td>2.0</td>\n",
       "      <td>220</td>\n",
       "      <td>BURGLARY- AGGRAVATED</td>\n",
       "      <td>NONE</td>\n",
       "      <td>2</td>\n",
       "      <td>No</td>\n",
       "      <td>I</td>\n",
       "      <td>INDIVIDUAL (18 AND OVER)</td>\n",
       "      <td>M</td>\n",
       "      <td>B</td>\n",
       "      <td>Non-Hispanic</td>\n",
       "      <td>RESIDENT</td>\n",
       "      <td>37203.0</td>\n",
       "      <td>17</td>\n",
       "      <td>2018-01-02 20:19:00+00:00</td>\n",
       "      <td>2018-01-02 21:29:00+00:00</td>\n",
       "      <td>POINT (-86.79800 36.16100)</td>\n",
       "    </tr>\n",
       "  </tbody>\n",
       "</table>\n",
       "</div>"
      ],
      "text/plain": [
       "      Primary_Key  Incident_Number Report_Type Report_Type_Description  \\\n",
       "0  20180005702_23      20180005702           D              DISPATCHED   \n",
       "1  20180005926_11      20180005926           S                 SUSPECT   \n",
       "2  20180005926_21      20180005926           S                 SUSPECT   \n",
       "3  20180004613_11      20180004613           D              DISPATCHED   \n",
       "4  20180004654_22      20180004654           D              DISPATCHED   \n",
       "\n",
       "  Incident_Status_Code Incident_Status_Description Investigation_Status  \\\n",
       "0                    O                        OPEN                 Open   \n",
       "1                    A           CLEARED BY ARREST               Closed   \n",
       "2                    A           CLEARED BY ARREST               Closed   \n",
       "3                    A           CLEARED BY ARREST               Closed   \n",
       "4                    A           CLEARED BY ARREST               Closed   \n",
       "\n",
       "                     Incident_Location  Latitude  Longitude  Location_Code  \\\n",
       "0                              BELL RD    36.170    -86.600           90.0   \n",
       "1  DICKERSON PIKE & OLD HICKORY BLVD W    36.269    -86.756           13.0   \n",
       "2  DICKERSON PIKE & OLD HICKORY BLVD W    36.269    -86.756           13.0   \n",
       "3                            1519 1519    36.149    -86.720           22.0   \n",
       "4                              824 824    36.161    -86.798           22.0   \n",
       "\n",
       "   Location_Description  Offense_Number Offense_NIBRS  \\\n",
       "0             APARTMENT             2.0           520   \n",
       "1  HIGHWAY, ROAD, ALLEY             1.0           35A   \n",
       "2  HIGHWAY, ROAD, ALLEY             2.0           35B   \n",
       "3       RESIDENCE, HOME             1.0           220   \n",
       "4       RESIDENCE, HOME             2.0           220   \n",
       "\n",
       "                Offense_Description Weapon_Description  Victim_Number  \\\n",
       "0  WEAPON OFFENSE, CRIMINAL ATTEMPT            HANDGUN              3   \n",
       "1               MARIJUANA - POSSESS               NONE              1   \n",
       "2  DRUG PARAPHERNALIA- UNLAWFUL USE               NONE              1   \n",
       "3              BURGLARY- AGGRAVATED   PERSONAL (HANDS)              1   \n",
       "4              BURGLARY- AGGRAVATED               NONE              2   \n",
       "\n",
       "  Domestic_Related Victim_Type        Victim_Description Victim_Gender  \\\n",
       "0               No           S                   SOCIETY          None   \n",
       "1               No           S                   SOCIETY          None   \n",
       "2               No           S                   SOCIETY          None   \n",
       "3               No           I  INDIVIDUAL (18 AND OVER)             M   \n",
       "4               No           I  INDIVIDUAL (18 AND OVER)             M   \n",
       "\n",
       "  Victim_Race Victim_Ethnicity Victim_County_Resident ZIP_Code Weapon_Primary  \\\n",
       "0        None             None                   None     None             01   \n",
       "1        None             None                   None  37115.0             17   \n",
       "2        None             None                   None  37115.0             17   \n",
       "3           W     Non-Hispanic               RESIDENT  37210.0             09   \n",
       "4           B     Non-Hispanic               RESIDENT  37203.0             17   \n",
       "\n",
       "          Incident_Occurred         Incident_Reported  \\\n",
       "0 2018-01-03 02:50:00+00:00 2018-01-03 04:15:00+00:00   \n",
       "1 2018-01-03 04:20:00+00:00 2018-01-03 04:42:00+00:00   \n",
       "2 2018-01-03 04:20:00+00:00 2018-01-03 04:42:00+00:00   \n",
       "3 2018-01-02 20:02:00+00:00 2018-01-02 22:37:00+00:00   \n",
       "4 2018-01-02 20:19:00+00:00 2018-01-02 21:29:00+00:00   \n",
       "\n",
       "                     geometry  \n",
       "0  POINT (-86.60000 36.17000)  \n",
       "1  POINT (-86.75600 36.26900)  \n",
       "2  POINT (-86.75600 36.26900)  \n",
       "3  POINT (-86.72000 36.14900)  \n",
       "4  POINT (-86.79800 36.16100)  "
      ]
     },
     "execution_count": 146,
     "metadata": {},
     "output_type": "execute_result"
    }
   ],
   "source": [
    "incidents_trim.head()"
   ]
  },
  {
   "cell_type": "markdown",
   "id": "202fd441-996c-4a5a-b6ab-ee2dc5770f50",
   "metadata": {
    "jp-MarkdownHeadingCollapsed": true
   },
   "source": [
    "#### Renaming Columns"
   ]
  },
  {
   "cell_type": "code",
   "execution_count": 147,
   "id": "a5670f61-0f6c-41fe-b03f-0386393ce41b",
   "metadata": {},
   "outputs": [
    {
     "data": {
      "text/plain": [
       "Index(['Primary_Key', 'Incident_Number', 'Report_Type',\n",
       "       'Report_Type_Description', 'Incident_Status_Code',\n",
       "       'Incident_Status_Description', 'Investigation_Status',\n",
       "       'Incident_Location', 'Latitude', 'Longitude', 'Location_Code',\n",
       "       'Location_Description', 'Offense_Number', 'Offense_NIBRS',\n",
       "       'Offense_Description', 'Weapon_Description', 'Victim_Number',\n",
       "       'Domestic_Related', 'Victim_Type', 'Victim_Description',\n",
       "       'Victim_Gender', 'Victim_Race', 'Victim_Ethnicity',\n",
       "       'Victim_County_Resident', 'ZIP_Code', 'Weapon_Primary',\n",
       "       'Incident_Occurred', 'Incident_Reported', 'geometry'],\n",
       "      dtype='object')"
      ]
     },
     "execution_count": 147,
     "metadata": {},
     "output_type": "execute_result"
    }
   ],
   "source": [
    "incidents_trim.columns"
   ]
  },
  {
   "cell_type": "code",
   "execution_count": 148,
   "id": "f3b4b86e-d1b7-4bc7-82ac-3a231f5d624d",
   "metadata": {},
   "outputs": [],
   "source": [
    "incidents_trim = incidents_trim.rename(columns={'Primary_Key' : 'primary_key',\n",
    "                               'Incident_Number' : 'inc_num',\n",
    "                               'Report_Type' : 'report_code',\n",
    "                               'Report_Type_Description' : 'report_desc',\n",
    "                               'Incident_Status_Code' : 'inc_status_code',\n",
    "                               'Incident_Status_Description' : 'inc_status_desc',\n",
    "                               'Investigation_Status' : 'investigation_status', \n",
    "                               'Incident_Location' : 'inc_loc',\n",
    "                               'Latitude' : 'lat',\n",
    "                               'Longitude' : 'long',\n",
    "                               'Location_Code' : 'loc_code',\n",
    "                               'Location_Description' : 'loc_desc',\n",
    "                               'Offense_Number' : 'offense_num',\n",
    "                               'Offense_NIBRS' : 'offense_nibrs',\n",
    "                               'Offense_Description' : 'offense_desc',\n",
    "                               'Weapon_Description' : 'weapon',\n",
    "                               'Victim_Number' : 'v_num', \n",
    "                               'Domestic_Related' : 'domestic_flag',\n",
    "                               'Victim_Type' : 'v_type',\n",
    "                               'Victim_Description' : 'v_desc',\n",
    "                               'Victim_Gender' : 'v_gender',\n",
    "                               'Victim_Race' : 'v_race',\n",
    "                               'Victim_Ethnicity' : 'v_ethnicity',\n",
    "                               'Victim_County_Resident' : 'v_county_resident',\n",
    "                               'ZIP_Code' : 'zip',\n",
    "                               'Weapon_Primary' : 'weapon_code',\n",
    "                               'Incident_Occurred' : 'inc_time',\n",
    "                               'Incident_Reported' : 'report_time'\n",
    "                              })\n",
    "                               "
   ]
  },
  {
   "cell_type": "markdown",
   "id": "fa8af2d3-f2f4-43d3-b076-4a8bf3b60544",
   "metadata": {
    "jp-MarkdownHeadingCollapsed": true
   },
   "source": [
    "#### Saving flags separately from main dataframe"
   ]
  },
  {
   "cell_type": "code",
   "execution_count": 149,
   "id": "0bbbc885-62ec-4c4a-b3d6-20bf0dd8e911",
   "metadata": {},
   "outputs": [
    {
     "data": {
      "text/plain": [
       "14.5"
      ]
     },
     "execution_count": 149,
     "metadata": {},
     "output_type": "execute_result"
    }
   ],
   "source": [
    "len(incidents_trim.columns)/2"
   ]
  },
  {
   "cell_type": "code",
   "execution_count": 150,
   "id": "f3327ef4-7a66-4a3a-87ed-ace5b79001e8",
   "metadata": {},
   "outputs": [
    {
     "data": {
      "text/html": [
       "<div>\n",
       "<style scoped>\n",
       "    .dataframe tbody tr th:only-of-type {\n",
       "        vertical-align: middle;\n",
       "    }\n",
       "\n",
       "    .dataframe tbody tr th {\n",
       "        vertical-align: top;\n",
       "    }\n",
       "\n",
       "    .dataframe thead th {\n",
       "        text-align: right;\n",
       "    }\n",
       "</style>\n",
       "<table border=\"1\" class=\"dataframe\">\n",
       "  <thead>\n",
       "    <tr style=\"text-align: right;\">\n",
       "      <th></th>\n",
       "      <th>primary_key</th>\n",
       "      <th>inc_num</th>\n",
       "      <th>report_code</th>\n",
       "      <th>report_desc</th>\n",
       "      <th>inc_status_code</th>\n",
       "      <th>inc_status_desc</th>\n",
       "      <th>investigation_status</th>\n",
       "      <th>inc_loc</th>\n",
       "      <th>lat</th>\n",
       "      <th>long</th>\n",
       "      <th>loc_code</th>\n",
       "      <th>loc_desc</th>\n",
       "      <th>offense_num</th>\n",
       "      <th>offense_nibrs</th>\n",
       "      <th>offense_desc</th>\n",
       "    </tr>\n",
       "  </thead>\n",
       "  <tbody>\n",
       "    <tr>\n",
       "      <th>0</th>\n",
       "      <td>20180005702_23</td>\n",
       "      <td>20180005702</td>\n",
       "      <td>D</td>\n",
       "      <td>DISPATCHED</td>\n",
       "      <td>O</td>\n",
       "      <td>OPEN</td>\n",
       "      <td>Open</td>\n",
       "      <td>BELL RD</td>\n",
       "      <td>36.170</td>\n",
       "      <td>-86.600</td>\n",
       "      <td>90.0</td>\n",
       "      <td>APARTMENT</td>\n",
       "      <td>2.0</td>\n",
       "      <td>520</td>\n",
       "      <td>WEAPON OFFENSE, CRIMINAL ATTEMPT</td>\n",
       "    </tr>\n",
       "    <tr>\n",
       "      <th>1</th>\n",
       "      <td>20180005926_11</td>\n",
       "      <td>20180005926</td>\n",
       "      <td>S</td>\n",
       "      <td>SUSPECT</td>\n",
       "      <td>A</td>\n",
       "      <td>CLEARED BY ARREST</td>\n",
       "      <td>Closed</td>\n",
       "      <td>DICKERSON PIKE &amp; OLD HICKORY BLVD W</td>\n",
       "      <td>36.269</td>\n",
       "      <td>-86.756</td>\n",
       "      <td>13.0</td>\n",
       "      <td>HIGHWAY, ROAD, ALLEY</td>\n",
       "      <td>1.0</td>\n",
       "      <td>35A</td>\n",
       "      <td>MARIJUANA - POSSESS</td>\n",
       "    </tr>\n",
       "  </tbody>\n",
       "</table>\n",
       "</div>"
      ],
      "text/plain": [
       "      primary_key      inc_num report_code report_desc inc_status_code  \\\n",
       "0  20180005702_23  20180005702           D  DISPATCHED               O   \n",
       "1  20180005926_11  20180005926           S     SUSPECT               A   \n",
       "\n",
       "     inc_status_desc investigation_status  \\\n",
       "0               OPEN                 Open   \n",
       "1  CLEARED BY ARREST               Closed   \n",
       "\n",
       "                               inc_loc     lat    long  loc_code  \\\n",
       "0                              BELL RD  36.170 -86.600      90.0   \n",
       "1  DICKERSON PIKE & OLD HICKORY BLVD W  36.269 -86.756      13.0   \n",
       "\n",
       "               loc_desc  offense_num offense_nibrs  \\\n",
       "0             APARTMENT          2.0           520   \n",
       "1  HIGHWAY, ROAD, ALLEY          1.0           35A   \n",
       "\n",
       "                       offense_desc  \n",
       "0  WEAPON OFFENSE, CRIMINAL ATTEMPT  \n",
       "1               MARIJUANA - POSSESS  "
      ]
     },
     "execution_count": 150,
     "metadata": {},
     "output_type": "execute_result"
    }
   ],
   "source": [
    "# First Half\n",
    "incidents_trim[['primary_key', 'inc_num', 'report_code', 'report_desc',\n",
    "                'inc_status_code', 'inc_status_desc', 'investigation_status',\n",
    "                'inc_loc', 'lat', 'long', 'loc_code', 'loc_desc',\n",
    "                'offense_num', 'offense_nibrs', 'offense_desc'\n",
    "               ]].head(2)"
   ]
  },
  {
   "cell_type": "code",
   "execution_count": 151,
   "id": "4b558e03-70df-4de0-b414-4c53bc8ffe64",
   "metadata": {},
   "outputs": [
    {
     "data": {
      "text/plain": [
       "array(['DISPATCHED', 'SUSPECT', 'WITNESS', None], dtype=object)"
      ]
     },
     "execution_count": 151,
     "metadata": {},
     "output_type": "execute_result"
    }
   ],
   "source": [
    "incidents_trim['report_desc'].unique()"
   ]
  },
  {
   "cell_type": "code",
   "execution_count": 152,
   "id": "23154c00-86c6-4352-be73-4fe40b1376f5",
   "metadata": {},
   "outputs": [
    {
     "data": {
      "text/plain": [
       "array(['OPEN', 'CLEARED BY ARREST', 'UNFOUNDED', 'REFUSED TO COOPERATE',\n",
       "       'PROSECUTION DECLINED', 'DEATH OF OFFENDER',\n",
       "       'JUVENILE, NO CUSTODY', None, 'EXTRADITION DECLINED'], dtype=object)"
      ]
     },
     "execution_count": 152,
     "metadata": {},
     "output_type": "execute_result"
    }
   ],
   "source": [
    "incidents_trim['inc_status_desc'].unique()"
   ]
  },
  {
   "cell_type": "code",
   "execution_count": 153,
   "id": "aaefecfa-e42b-4f5f-be22-16f898f5da86",
   "metadata": {},
   "outputs": [
    {
     "data": {
      "text/plain": [
       "62"
      ]
     },
     "execution_count": 153,
     "metadata": {},
     "output_type": "execute_result"
    }
   ],
   "source": [
    "# I'm leaving location code in because of the somewhat vast variety of entries\n",
    "# Plan is to condense some of the location categories into more general places in the future, codes might be useful for that\n",
    "incidents_trim['loc_desc'].nunique()"
   ]
  },
  {
   "cell_type": "code",
   "execution_count": 154,
   "id": "cf4bb301-9910-44ec-ba90-8f869a117f11",
   "metadata": {},
   "outputs": [
    {
     "data": {
      "text/html": [
       "<div>\n",
       "<style scoped>\n",
       "    .dataframe tbody tr th:only-of-type {\n",
       "        vertical-align: middle;\n",
       "    }\n",
       "\n",
       "    .dataframe tbody tr th {\n",
       "        vertical-align: top;\n",
       "    }\n",
       "\n",
       "    .dataframe thead th {\n",
       "        text-align: right;\n",
       "    }\n",
       "</style>\n",
       "<table border=\"1\" class=\"dataframe\">\n",
       "  <thead>\n",
       "    <tr style=\"text-align: right;\">\n",
       "      <th></th>\n",
       "      <th>weapon</th>\n",
       "      <th>v_num</th>\n",
       "      <th>domestic_flag</th>\n",
       "      <th>v_type</th>\n",
       "      <th>v_desc</th>\n",
       "      <th>v_gender</th>\n",
       "      <th>v_race</th>\n",
       "      <th>v_ethnicity</th>\n",
       "      <th>v_county_resident</th>\n",
       "      <th>zip</th>\n",
       "      <th>weapon_code</th>\n",
       "      <th>inc_time</th>\n",
       "      <th>report_time</th>\n",
       "      <th>geometry</th>\n",
       "    </tr>\n",
       "  </thead>\n",
       "  <tbody>\n",
       "    <tr>\n",
       "      <th>0</th>\n",
       "      <td>HANDGUN</td>\n",
       "      <td>3</td>\n",
       "      <td>No</td>\n",
       "      <td>S</td>\n",
       "      <td>SOCIETY</td>\n",
       "      <td>None</td>\n",
       "      <td>None</td>\n",
       "      <td>None</td>\n",
       "      <td>None</td>\n",
       "      <td>None</td>\n",
       "      <td>01</td>\n",
       "      <td>2018-01-03 02:50:00+00:00</td>\n",
       "      <td>2018-01-03 04:15:00+00:00</td>\n",
       "      <td>POINT (-86.60000 36.17000)</td>\n",
       "    </tr>\n",
       "    <tr>\n",
       "      <th>1</th>\n",
       "      <td>NONE</td>\n",
       "      <td>1</td>\n",
       "      <td>No</td>\n",
       "      <td>S</td>\n",
       "      <td>SOCIETY</td>\n",
       "      <td>None</td>\n",
       "      <td>None</td>\n",
       "      <td>None</td>\n",
       "      <td>None</td>\n",
       "      <td>37115.0</td>\n",
       "      <td>17</td>\n",
       "      <td>2018-01-03 04:20:00+00:00</td>\n",
       "      <td>2018-01-03 04:42:00+00:00</td>\n",
       "      <td>POINT (-86.75600 36.26900)</td>\n",
       "    </tr>\n",
       "  </tbody>\n",
       "</table>\n",
       "</div>"
      ],
      "text/plain": [
       "    weapon  v_num domestic_flag v_type   v_desc v_gender v_race v_ethnicity  \\\n",
       "0  HANDGUN      3            No      S  SOCIETY     None   None        None   \n",
       "1     NONE      1            No      S  SOCIETY     None   None        None   \n",
       "\n",
       "  v_county_resident      zip weapon_code                  inc_time  \\\n",
       "0              None     None          01 2018-01-03 02:50:00+00:00   \n",
       "1              None  37115.0          17 2018-01-03 04:20:00+00:00   \n",
       "\n",
       "                report_time                    geometry  \n",
       "0 2018-01-03 04:15:00+00:00  POINT (-86.60000 36.17000)  \n",
       "1 2018-01-03 04:42:00+00:00  POINT (-86.75600 36.26900)  "
      ]
     },
     "execution_count": 154,
     "metadata": {},
     "output_type": "execute_result"
    }
   ],
   "source": [
    "# Second Half\n",
    "incidents_trim[['weapon', 'v_num', 'domestic_flag', 'v_type', 'v_desc',\n",
    "                'v_gender', 'v_race', 'v_ethnicity', 'v_county_resident', 'zip',\n",
    "                'weapon_code', 'inc_time', 'report_time', 'geometry'\n",
    "               ]].head(2)"
   ]
  },
  {
   "cell_type": "code",
   "execution_count": 155,
   "id": "69f06745-c5e7-47c1-9c2f-c38ce17ae808",
   "metadata": {},
   "outputs": [
    {
     "data": {
      "text/plain": [
       "array(['HANDGUN', 'NONE', 'PERSONAL (HANDS)', 'CLUB', 'Unarmed', 'DRUGS',\n",
       "       'LETHAL/CUTTING INSTRUMENT', 'OTHER', 'REVOLVER', 'SHOTGUN',\n",
       "       'MOTOR VEHICLE', 'HANDGUN - SEMIAUTOMATIC', None,\n",
       "       'FIRE/INCENDIARY DEVICES', 'RIFLE', 'OTHER FIREARM', 'POISON',\n",
       "       'EXPLOSIVES', 'ASPHYXIATION'], dtype=object)"
      ]
     },
     "execution_count": 155,
     "metadata": {},
     "output_type": "execute_result"
    }
   ],
   "source": [
    "incidents_trim['weapon'].unique()"
   ]
  },
  {
   "cell_type": "code",
   "execution_count": 156,
   "id": "4afd59be-5bd5-48db-ac6d-c3e61e3fb1ad",
   "metadata": {},
   "outputs": [
    {
     "data": {
      "text/plain": [
       "array(['SOCIETY', 'INDIVIDUAL (18 AND OVER)', 'BUSINESS', 'UNKNOWN',\n",
       "       'POLICE OFFICER', 'RELIGIOUS', 'GOVERNMENT',\n",
       "       'FINANCIAL INSTITUTION', 'OTHER', None,\n",
       "       'CITIZEN INFORMATION NOTICE', 'DOMESTIC VIOLENCE NOTICE'],\n",
       "      dtype=object)"
      ]
     },
     "execution_count": 156,
     "metadata": {},
     "output_type": "execute_result"
    }
   ],
   "source": [
    "incidents_trim['v_desc'].unique()"
   ]
  },
  {
   "cell_type": "code",
   "execution_count": 157,
   "id": "718a8c80-febf-404f-8d11-411f9cf7dcbc",
   "metadata": {},
   "outputs": [
    {
     "data": {
      "text/plain": [
       "array([None, 'W', 'B', 'U', 'A', 'P', 'I', 'O', 'H', '03', 'T', 'C'],\n",
       "      dtype=object)"
      ]
     },
     "execution_count": 157,
     "metadata": {},
     "output_type": "execute_result"
    }
   ],
   "source": [
    "# This is the only race information I have so it will be kept\n",
    "incidents_trim['v_race'].unique()\n",
    "# 03 is not a code in the metadata, maybe a mistake?"
   ]
  },
  {
   "cell_type": "code",
   "execution_count": 158,
   "id": "833b91ee-9f05-4d0c-8597-7cbf549d2a6b",
   "metadata": {},
   "outputs": [
    {
     "data": {
      "text/plain": [
       "array([None, 'Non-Hispanic', 'Hispanic', 'Unknown'], dtype=object)"
      ]
     },
     "execution_count": 158,
     "metadata": {},
     "output_type": "execute_result"
    }
   ],
   "source": [
    "incidents_trim['v_ethnicity'].unique()"
   ]
  },
  {
   "cell_type": "code",
   "execution_count": 159,
   "id": "a31a0789-4dc0-4806-b3a1-17d7290b4f50",
   "metadata": {},
   "outputs": [],
   "source": [
    "# SAVING TO FLAG SPECIFIC DATAFRAME\n",
    "\n",
    "# This will allow me to work with the text/description data more easily and still be able to include the codes later if\n",
    "# I need to, using the primary_key column to rejoin them\n",
    "incidents_flags = incidents_trim[['primary_key', 'inc_num', 'report_code', 'inc_status_code', 'offense_nibrs', 'v_type', 'weapon_code']]"
   ]
  },
  {
   "cell_type": "code",
   "execution_count": 160,
   "id": "1f6a3b62-e013-4675-acde-4422d4726ce1",
   "metadata": {},
   "outputs": [],
   "source": [
    "# DROPPING FROM INCIDENTS_TRIM\n",
    "incidents_trim = incidents_trim.drop(columns = ['report_code', 'inc_status_code', 'offense_nibrs', 'v_type', 'weapon_code'])"
   ]
  },
  {
   "cell_type": "markdown",
   "id": "0a405852-0a20-4bee-94b9-95dd49bf7dc1",
   "metadata": {
    "jp-MarkdownHeadingCollapsed": true
   },
   "source": [
    "#### Column Type Cleaning"
   ]
  },
  {
   "cell_type": "code",
   "execution_count": 161,
   "id": "78ad6e3d-006c-4f78-a8c3-c8a09cdca870",
   "metadata": {},
   "outputs": [
    {
     "data": {
      "text/html": [
       "<div>\n",
       "<style scoped>\n",
       "    .dataframe tbody tr th:only-of-type {\n",
       "        vertical-align: middle;\n",
       "    }\n",
       "\n",
       "    .dataframe tbody tr th {\n",
       "        vertical-align: top;\n",
       "    }\n",
       "\n",
       "    .dataframe thead th {\n",
       "        text-align: right;\n",
       "    }\n",
       "</style>\n",
       "<table border=\"1\" class=\"dataframe\">\n",
       "  <thead>\n",
       "    <tr style=\"text-align: right;\">\n",
       "      <th></th>\n",
       "      <th>primary_key</th>\n",
       "      <th>inc_num</th>\n",
       "      <th>report_desc</th>\n",
       "      <th>inc_status_desc</th>\n",
       "      <th>investigation_status</th>\n",
       "      <th>inc_loc</th>\n",
       "      <th>lat</th>\n",
       "      <th>long</th>\n",
       "      <th>loc_code</th>\n",
       "      <th>loc_desc</th>\n",
       "      <th>offense_num</th>\n",
       "      <th>offense_desc</th>\n",
       "      <th>weapon</th>\n",
       "      <th>v_num</th>\n",
       "      <th>domestic_flag</th>\n",
       "      <th>v_desc</th>\n",
       "      <th>v_gender</th>\n",
       "      <th>v_race</th>\n",
       "      <th>v_ethnicity</th>\n",
       "      <th>v_county_resident</th>\n",
       "      <th>zip</th>\n",
       "      <th>inc_time</th>\n",
       "      <th>report_time</th>\n",
       "      <th>geometry</th>\n",
       "    </tr>\n",
       "  </thead>\n",
       "  <tbody>\n",
       "    <tr>\n",
       "      <th>0</th>\n",
       "      <td>20180005702_23</td>\n",
       "      <td>20180005702</td>\n",
       "      <td>DISPATCHED</td>\n",
       "      <td>OPEN</td>\n",
       "      <td>Open</td>\n",
       "      <td>BELL RD</td>\n",
       "      <td>36.17</td>\n",
       "      <td>-86.6</td>\n",
       "      <td>90.0</td>\n",
       "      <td>APARTMENT</td>\n",
       "      <td>2.0</td>\n",
       "      <td>WEAPON OFFENSE, CRIMINAL ATTEMPT</td>\n",
       "      <td>HANDGUN</td>\n",
       "      <td>3</td>\n",
       "      <td>No</td>\n",
       "      <td>SOCIETY</td>\n",
       "      <td>None</td>\n",
       "      <td>None</td>\n",
       "      <td>None</td>\n",
       "      <td>None</td>\n",
       "      <td>None</td>\n",
       "      <td>2018-01-03 02:50:00+00:00</td>\n",
       "      <td>2018-01-03 04:15:00+00:00</td>\n",
       "      <td>POINT (-86.60000 36.17000)</td>\n",
       "    </tr>\n",
       "  </tbody>\n",
       "</table>\n",
       "</div>"
      ],
      "text/plain": [
       "      primary_key      inc_num report_desc inc_status_desc  \\\n",
       "0  20180005702_23  20180005702  DISPATCHED            OPEN   \n",
       "\n",
       "  investigation_status  inc_loc    lat  long  loc_code   loc_desc  \\\n",
       "0                 Open  BELL RD  36.17 -86.6      90.0  APARTMENT   \n",
       "\n",
       "   offense_num                      offense_desc   weapon  v_num  \\\n",
       "0          2.0  WEAPON OFFENSE, CRIMINAL ATTEMPT  HANDGUN      3   \n",
       "\n",
       "  domestic_flag   v_desc v_gender v_race v_ethnicity v_county_resident   zip  \\\n",
       "0            No  SOCIETY     None   None        None              None  None   \n",
       "\n",
       "                   inc_time               report_time  \\\n",
       "0 2018-01-03 02:50:00+00:00 2018-01-03 04:15:00+00:00   \n",
       "\n",
       "                     geometry  \n",
       "0  POINT (-86.60000 36.17000)  "
      ]
     },
     "execution_count": 161,
     "metadata": {},
     "output_type": "execute_result"
    }
   ],
   "source": [
    "incidents_trim.head(1)"
   ]
  },
  {
   "cell_type": "code",
   "execution_count": 162,
   "id": "a652f6fb-360c-4cff-8e46-7dd3e90abe7e",
   "metadata": {},
   "outputs": [
    {
     "data": {
      "text/plain": [
       "primary_key                          object\n",
       "inc_num                               int64\n",
       "report_desc                          object\n",
       "inc_status_desc                      object\n",
       "investigation_status                 object\n",
       "inc_loc                              object\n",
       "lat                                 float64\n",
       "long                                float64\n",
       "loc_code                            float64\n",
       "loc_desc                             object\n",
       "offense_num                         float64\n",
       "offense_desc                         object\n",
       "weapon                               object\n",
       "v_num                                 int64\n",
       "domestic_flag                        object\n",
       "v_desc                               object\n",
       "v_gender                             object\n",
       "v_race                               object\n",
       "v_ethnicity                          object\n",
       "v_county_resident                    object\n",
       "zip                                  object\n",
       "inc_time                datetime64[ns, UTC]\n",
       "report_time             datetime64[ns, UTC]\n",
       "geometry                           geometry\n",
       "dtype: object"
      ]
     },
     "execution_count": 162,
     "metadata": {},
     "output_type": "execute_result"
    }
   ],
   "source": [
    "incidents_trim.dtypes"
   ]
  },
  {
   "cell_type": "code",
   "execution_count": 163,
   "id": "3f97926f-614b-40f9-a509-981d3be7f87d",
   "metadata": {},
   "outputs": [],
   "source": [
    "# Casting inc_num as text\n",
    "incidents_trim['inc_num'] = incidents_trim['inc_num'].astype(str)"
   ]
  },
  {
   "cell_type": "code",
   "execution_count": 164,
   "id": "4a9ee1c9-a6be-4097-bd9a-99cc44fe7de7",
   "metadata": {},
   "outputs": [],
   "source": [
    "# Casting loc_code as text\n",
    "incidents_trim['loc_code'] = incidents_trim['loc_code'].astype(str).str.replace('.0', '')"
   ]
  },
  {
   "cell_type": "code",
   "execution_count": 165,
   "id": "b2167e76-aa4d-4015-b6fa-124fc2bf41c9",
   "metadata": {},
   "outputs": [],
   "source": [
    "# Trimming '.0' from zip col\n",
    "incidents_trim['zip'] = incidents_trim['zip'].str.replace('.0', '')"
   ]
  },
  {
   "cell_type": "code",
   "execution_count": 166,
   "id": "2a293be9-d306-49bb-854b-487f20abfc62",
   "metadata": {},
   "outputs": [],
   "source": [
    "# Fixing '+00:00' from datetime columns\n",
    "incidents_trim['inc_time'] = incidents_trim['inc_time'].dt.strftime('%Y-%m-%d %H:%M:%S')\n",
    "incidents_trim['report_time'] = incidents_trim['report_time'].dt.strftime('%Y-%m-%d %H:%M:%S')"
   ]
  },
  {
   "cell_type": "code",
   "execution_count": 167,
   "id": "4b20586c-0525-43a7-83a2-97ad5be3c1a7",
   "metadata": {},
   "outputs": [
    {
     "data": {
      "text/plain": [
       "inc_time       object\n",
       "report_time    object\n",
       "dtype: object"
      ]
     },
     "execution_count": 167,
     "metadata": {},
     "output_type": "execute_result"
    }
   ],
   "source": [
    "# It's a string now i guess\n",
    "incidents_trim[['inc_time', 'report_time']].dtypes"
   ]
  },
  {
   "cell_type": "code",
   "execution_count": 168,
   "id": "eb2a8f29-bc6d-4730-8f55-431f3cf63059",
   "metadata": {},
   "outputs": [],
   "source": [
    "incidents_trim['inc_time'] = pd.to_datetime(incidents_trim['inc_time'], format='%Y-%m-%d %H:%M:%S')\n",
    "incidents_trim['report_time'] = pd.to_datetime(incidents_trim['report_time'], format='%Y-%m-%d %H:%M:%S')"
   ]
  },
  {
   "cell_type": "code",
   "execution_count": 169,
   "id": "ad466d73-a02b-4f7b-8bd6-52e885871c78",
   "metadata": {},
   "outputs": [
    {
     "data": {
      "text/plain": [
       "inc_time       datetime64[ns]\n",
       "report_time    datetime64[ns]\n",
       "dtype: object"
      ]
     },
     "execution_count": 169,
     "metadata": {},
     "output_type": "execute_result"
    }
   ],
   "source": [
    "# Yay fixed\n",
    "incidents_trim[['inc_time', 'report_time']].dtypes"
   ]
  },
  {
   "cell_type": "markdown",
   "id": "ca98a5e9-d990-4ad1-ad4c-5e3d7294eea0",
   "metadata": {
    "jp-MarkdownHeadingCollapsed": true
   },
   "source": [
    "#### Adding Year Col"
   ]
  },
  {
   "cell_type": "code",
   "execution_count": 170,
   "id": "e10c5979-e919-480b-b83c-1b2836ea0f6f",
   "metadata": {},
   "outputs": [
    {
     "data": {
      "text/html": [
       "<div>\n",
       "<style scoped>\n",
       "    .dataframe tbody tr th:only-of-type {\n",
       "        vertical-align: middle;\n",
       "    }\n",
       "\n",
       "    .dataframe tbody tr th {\n",
       "        vertical-align: top;\n",
       "    }\n",
       "\n",
       "    .dataframe thead th {\n",
       "        text-align: right;\n",
       "    }\n",
       "</style>\n",
       "<table border=\"1\" class=\"dataframe\">\n",
       "  <thead>\n",
       "    <tr style=\"text-align: right;\">\n",
       "      <th></th>\n",
       "      <th>primary_key</th>\n",
       "      <th>inc_num</th>\n",
       "      <th>report_desc</th>\n",
       "      <th>inc_status_desc</th>\n",
       "      <th>investigation_status</th>\n",
       "      <th>inc_loc</th>\n",
       "      <th>lat</th>\n",
       "      <th>long</th>\n",
       "      <th>loc_code</th>\n",
       "      <th>loc_desc</th>\n",
       "      <th>offense_num</th>\n",
       "      <th>offense_desc</th>\n",
       "      <th>weapon</th>\n",
       "      <th>v_num</th>\n",
       "      <th>domestic_flag</th>\n",
       "      <th>v_desc</th>\n",
       "      <th>v_gender</th>\n",
       "      <th>v_race</th>\n",
       "      <th>v_ethnicity</th>\n",
       "      <th>v_county_resident</th>\n",
       "      <th>zip</th>\n",
       "      <th>inc_time</th>\n",
       "      <th>report_time</th>\n",
       "      <th>geometry</th>\n",
       "    </tr>\n",
       "  </thead>\n",
       "  <tbody>\n",
       "    <tr>\n",
       "      <th>0</th>\n",
       "      <td>20180005702_23</td>\n",
       "      <td>20180005702</td>\n",
       "      <td>DISPATCHED</td>\n",
       "      <td>OPEN</td>\n",
       "      <td>Open</td>\n",
       "      <td>BELL RD</td>\n",
       "      <td>36.170</td>\n",
       "      <td>-86.600</td>\n",
       "      <td>90</td>\n",
       "      <td>APARTMENT</td>\n",
       "      <td>2.0</td>\n",
       "      <td>WEAPON OFFENSE, CRIMINAL ATTEMPT</td>\n",
       "      <td>HANDGUN</td>\n",
       "      <td>3</td>\n",
       "      <td>No</td>\n",
       "      <td>SOCIETY</td>\n",
       "      <td>None</td>\n",
       "      <td>None</td>\n",
       "      <td>None</td>\n",
       "      <td>None</td>\n",
       "      <td>None</td>\n",
       "      <td>2018-01-03 02:50:00</td>\n",
       "      <td>2018-01-03 04:15:00</td>\n",
       "      <td>POINT (-86.60000 36.17000)</td>\n",
       "    </tr>\n",
       "    <tr>\n",
       "      <th>1</th>\n",
       "      <td>20180005926_11</td>\n",
       "      <td>20180005926</td>\n",
       "      <td>SUSPECT</td>\n",
       "      <td>CLEARED BY ARREST</td>\n",
       "      <td>Closed</td>\n",
       "      <td>DICKERSON PIKE &amp; OLD HICKORY BLVD W</td>\n",
       "      <td>36.269</td>\n",
       "      <td>-86.756</td>\n",
       "      <td>13</td>\n",
       "      <td>HIGHWAY, ROAD, ALLEY</td>\n",
       "      <td>1.0</td>\n",
       "      <td>MARIJUANA - POSSESS</td>\n",
       "      <td>NONE</td>\n",
       "      <td>1</td>\n",
       "      <td>No</td>\n",
       "      <td>SOCIETY</td>\n",
       "      <td>None</td>\n",
       "      <td>None</td>\n",
       "      <td>None</td>\n",
       "      <td>None</td>\n",
       "      <td>37115</td>\n",
       "      <td>2018-01-03 04:20:00</td>\n",
       "      <td>2018-01-03 04:42:00</td>\n",
       "      <td>POINT (-86.75600 36.26900)</td>\n",
       "    </tr>\n",
       "  </tbody>\n",
       "</table>\n",
       "</div>"
      ],
      "text/plain": [
       "      primary_key      inc_num report_desc    inc_status_desc  \\\n",
       "0  20180005702_23  20180005702  DISPATCHED               OPEN   \n",
       "1  20180005926_11  20180005926     SUSPECT  CLEARED BY ARREST   \n",
       "\n",
       "  investigation_status                              inc_loc     lat    long  \\\n",
       "0                 Open                              BELL RD  36.170 -86.600   \n",
       "1               Closed  DICKERSON PIKE & OLD HICKORY BLVD W  36.269 -86.756   \n",
       "\n",
       "  loc_code              loc_desc  offense_num  \\\n",
       "0       90             APARTMENT          2.0   \n",
       "1       13  HIGHWAY, ROAD, ALLEY          1.0   \n",
       "\n",
       "                       offense_desc   weapon  v_num domestic_flag   v_desc  \\\n",
       "0  WEAPON OFFENSE, CRIMINAL ATTEMPT  HANDGUN      3            No  SOCIETY   \n",
       "1               MARIJUANA - POSSESS     NONE      1            No  SOCIETY   \n",
       "\n",
       "  v_gender v_race v_ethnicity v_county_resident    zip            inc_time  \\\n",
       "0     None   None        None              None   None 2018-01-03 02:50:00   \n",
       "1     None   None        None              None  37115 2018-01-03 04:20:00   \n",
       "\n",
       "          report_time                    geometry  \n",
       "0 2018-01-03 04:15:00  POINT (-86.60000 36.17000)  \n",
       "1 2018-01-03 04:42:00  POINT (-86.75600 36.26900)  "
      ]
     },
     "execution_count": 170,
     "metadata": {},
     "output_type": "execute_result"
    }
   ],
   "source": [
    "incidents_trim.head(2)"
   ]
  },
  {
   "cell_type": "code",
   "execution_count": 171,
   "id": "acd65e41-2429-40ea-97d2-bd73c8ea890f",
   "metadata": {},
   "outputs": [],
   "source": [
    "# Adding specific year column for incident time\n",
    "incidents_trim['inc_yr'] = incidents_trim['inc_time'].dt.year"
   ]
  },
  {
   "cell_type": "code",
   "execution_count": 172,
   "id": "476bcac9-0ceb-414d-8f2f-c8c174f62644",
   "metadata": {},
   "outputs": [
    {
     "data": {
      "text/html": [
       "<div>\n",
       "<style scoped>\n",
       "    .dataframe tbody tr th:only-of-type {\n",
       "        vertical-align: middle;\n",
       "    }\n",
       "\n",
       "    .dataframe tbody tr th {\n",
       "        vertical-align: top;\n",
       "    }\n",
       "\n",
       "    .dataframe thead th {\n",
       "        text-align: right;\n",
       "    }\n",
       "</style>\n",
       "<table border=\"1\" class=\"dataframe\">\n",
       "  <thead>\n",
       "    <tr style=\"text-align: right;\">\n",
       "      <th></th>\n",
       "      <th>primary_key</th>\n",
       "      <th>inc_num</th>\n",
       "      <th>report_desc</th>\n",
       "      <th>inc_status_desc</th>\n",
       "      <th>investigation_status</th>\n",
       "      <th>inc_loc</th>\n",
       "      <th>lat</th>\n",
       "      <th>long</th>\n",
       "      <th>loc_code</th>\n",
       "      <th>loc_desc</th>\n",
       "      <th>offense_num</th>\n",
       "      <th>offense_desc</th>\n",
       "      <th>weapon</th>\n",
       "      <th>v_num</th>\n",
       "      <th>domestic_flag</th>\n",
       "      <th>v_desc</th>\n",
       "      <th>v_gender</th>\n",
       "      <th>v_race</th>\n",
       "      <th>v_ethnicity</th>\n",
       "      <th>v_county_resident</th>\n",
       "      <th>zip</th>\n",
       "      <th>inc_time</th>\n",
       "      <th>report_time</th>\n",
       "      <th>geometry</th>\n",
       "      <th>inc_yr</th>\n",
       "    </tr>\n",
       "  </thead>\n",
       "  <tbody>\n",
       "    <tr>\n",
       "      <th>0</th>\n",
       "      <td>20180005702_23</td>\n",
       "      <td>20180005702</td>\n",
       "      <td>DISPATCHED</td>\n",
       "      <td>OPEN</td>\n",
       "      <td>Open</td>\n",
       "      <td>BELL RD</td>\n",
       "      <td>36.17</td>\n",
       "      <td>-86.6</td>\n",
       "      <td>90</td>\n",
       "      <td>APARTMENT</td>\n",
       "      <td>2.0</td>\n",
       "      <td>WEAPON OFFENSE, CRIMINAL ATTEMPT</td>\n",
       "      <td>HANDGUN</td>\n",
       "      <td>3</td>\n",
       "      <td>No</td>\n",
       "      <td>SOCIETY</td>\n",
       "      <td>None</td>\n",
       "      <td>None</td>\n",
       "      <td>None</td>\n",
       "      <td>None</td>\n",
       "      <td>None</td>\n",
       "      <td>2018-01-03 02:50:00</td>\n",
       "      <td>2018-01-03 04:15:00</td>\n",
       "      <td>POINT (-86.60000 36.17000)</td>\n",
       "      <td>2018</td>\n",
       "    </tr>\n",
       "  </tbody>\n",
       "</table>\n",
       "</div>"
      ],
      "text/plain": [
       "      primary_key      inc_num report_desc inc_status_desc  \\\n",
       "0  20180005702_23  20180005702  DISPATCHED            OPEN   \n",
       "\n",
       "  investigation_status  inc_loc    lat  long loc_code   loc_desc  offense_num  \\\n",
       "0                 Open  BELL RD  36.17 -86.6       90  APARTMENT          2.0   \n",
       "\n",
       "                       offense_desc   weapon  v_num domestic_flag   v_desc  \\\n",
       "0  WEAPON OFFENSE, CRIMINAL ATTEMPT  HANDGUN      3            No  SOCIETY   \n",
       "\n",
       "  v_gender v_race v_ethnicity v_county_resident   zip            inc_time  \\\n",
       "0     None   None        None              None  None 2018-01-03 02:50:00   \n",
       "\n",
       "          report_time                    geometry  inc_yr  \n",
       "0 2018-01-03 04:15:00  POINT (-86.60000 36.17000)    2018  "
      ]
     },
     "execution_count": 172,
     "metadata": {},
     "output_type": "execute_result"
    }
   ],
   "source": [
    "# Perf\n",
    "incidents_trim.head(1)"
   ]
  },
  {
   "cell_type": "markdown",
   "id": "4bfcd852-10e9-43a1-b8c7-a878ab0ace6e",
   "metadata": {},
   "source": [
    "#### Combining rows with same geometry"
   ]
  },
  {
   "cell_type": "code",
   "execution_count": 173,
   "id": "e124c62f-da19-4a54-a9b7-07d1bc88a6ed",
   "metadata": {},
   "outputs": [
    {
     "data": {
      "text/html": [
       "<div>\n",
       "<style scoped>\n",
       "    .dataframe tbody tr th:only-of-type {\n",
       "        vertical-align: middle;\n",
       "    }\n",
       "\n",
       "    .dataframe tbody tr th {\n",
       "        vertical-align: top;\n",
       "    }\n",
       "\n",
       "    .dataframe thead th {\n",
       "        text-align: right;\n",
       "    }\n",
       "</style>\n",
       "<table border=\"1\" class=\"dataframe\">\n",
       "  <thead>\n",
       "    <tr style=\"text-align: right;\">\n",
       "      <th></th>\n",
       "      <th>primary_key</th>\n",
       "      <th>inc_num</th>\n",
       "      <th>report_desc</th>\n",
       "      <th>inc_status_desc</th>\n",
       "      <th>investigation_status</th>\n",
       "      <th>inc_loc</th>\n",
       "      <th>lat</th>\n",
       "      <th>long</th>\n",
       "      <th>loc_code</th>\n",
       "      <th>loc_desc</th>\n",
       "      <th>offense_num</th>\n",
       "      <th>offense_desc</th>\n",
       "      <th>weapon</th>\n",
       "      <th>v_num</th>\n",
       "      <th>domestic_flag</th>\n",
       "      <th>v_desc</th>\n",
       "      <th>v_gender</th>\n",
       "      <th>v_race</th>\n",
       "      <th>v_ethnicity</th>\n",
       "      <th>v_county_resident</th>\n",
       "      <th>zip</th>\n",
       "      <th>inc_time</th>\n",
       "      <th>report_time</th>\n",
       "      <th>geometry</th>\n",
       "      <th>inc_yr</th>\n",
       "    </tr>\n",
       "  </thead>\n",
       "  <tbody>\n",
       "    <tr>\n",
       "      <th>0</th>\n",
       "      <td>20180005702_23</td>\n",
       "      <td>20180005702</td>\n",
       "      <td>DISPATCHED</td>\n",
       "      <td>OPEN</td>\n",
       "      <td>Open</td>\n",
       "      <td>BELL RD</td>\n",
       "      <td>36.17</td>\n",
       "      <td>-86.6</td>\n",
       "      <td>90</td>\n",
       "      <td>APARTMENT</td>\n",
       "      <td>2.0</td>\n",
       "      <td>WEAPON OFFENSE, CRIMINAL ATTEMPT</td>\n",
       "      <td>HANDGUN</td>\n",
       "      <td>3</td>\n",
       "      <td>No</td>\n",
       "      <td>SOCIETY</td>\n",
       "      <td>None</td>\n",
       "      <td>None</td>\n",
       "      <td>None</td>\n",
       "      <td>None</td>\n",
       "      <td>None</td>\n",
       "      <td>2018-01-03 02:50:00</td>\n",
       "      <td>2018-01-03 04:15:00</td>\n",
       "      <td>POINT (-86.60000 36.17000)</td>\n",
       "      <td>2018</td>\n",
       "    </tr>\n",
       "    <tr>\n",
       "      <th>798</th>\n",
       "      <td>20180005702_11</td>\n",
       "      <td>20180005702</td>\n",
       "      <td>DISPATCHED</td>\n",
       "      <td>OPEN</td>\n",
       "      <td>Open</td>\n",
       "      <td>BELL RD</td>\n",
       "      <td>36.17</td>\n",
       "      <td>-86.6</td>\n",
       "      <td>90</td>\n",
       "      <td>APARTMENT</td>\n",
       "      <td>1.0</td>\n",
       "      <td>ROBBERY, AGGRAVATED, HANDGUN</td>\n",
       "      <td>HANDGUN</td>\n",
       "      <td>1</td>\n",
       "      <td>No</td>\n",
       "      <td>INDIVIDUAL (18 AND OVER)</td>\n",
       "      <td>M</td>\n",
       "      <td>U</td>\n",
       "      <td>Non-Hispanic</td>\n",
       "      <td>RESIDENT</td>\n",
       "      <td>None</td>\n",
       "      <td>2018-01-03 02:50:00</td>\n",
       "      <td>2018-01-03 04:15:00</td>\n",
       "      <td>POINT (-86.60000 36.17000)</td>\n",
       "      <td>2018</td>\n",
       "    </tr>\n",
       "    <tr>\n",
       "      <th>799</th>\n",
       "      <td>20180005702_12</td>\n",
       "      <td>20180005702</td>\n",
       "      <td>DISPATCHED</td>\n",
       "      <td>OPEN</td>\n",
       "      <td>Open</td>\n",
       "      <td>BELL RD</td>\n",
       "      <td>36.17</td>\n",
       "      <td>-86.6</td>\n",
       "      <td>90</td>\n",
       "      <td>APARTMENT</td>\n",
       "      <td>1.0</td>\n",
       "      <td>ROBBERY, AGGRAVATED, HANDGUN</td>\n",
       "      <td>HANDGUN</td>\n",
       "      <td>2</td>\n",
       "      <td>No</td>\n",
       "      <td>BUSINESS</td>\n",
       "      <td>None</td>\n",
       "      <td>None</td>\n",
       "      <td>None</td>\n",
       "      <td>None</td>\n",
       "      <td>None</td>\n",
       "      <td>2018-01-03 02:50:00</td>\n",
       "      <td>2018-01-03 04:15:00</td>\n",
       "      <td>POINT (-86.60000 36.17000)</td>\n",
       "      <td>2018</td>\n",
       "    </tr>\n",
       "  </tbody>\n",
       "</table>\n",
       "</div>"
      ],
      "text/plain": [
       "        primary_key      inc_num report_desc inc_status_desc  \\\n",
       "0    20180005702_23  20180005702  DISPATCHED            OPEN   \n",
       "798  20180005702_11  20180005702  DISPATCHED            OPEN   \n",
       "799  20180005702_12  20180005702  DISPATCHED            OPEN   \n",
       "\n",
       "    investigation_status  inc_loc    lat  long loc_code   loc_desc  \\\n",
       "0                   Open  BELL RD  36.17 -86.6       90  APARTMENT   \n",
       "798                 Open  BELL RD  36.17 -86.6       90  APARTMENT   \n",
       "799                 Open  BELL RD  36.17 -86.6       90  APARTMENT   \n",
       "\n",
       "     offense_num                      offense_desc   weapon  v_num  \\\n",
       "0            2.0  WEAPON OFFENSE, CRIMINAL ATTEMPT  HANDGUN      3   \n",
       "798          1.0      ROBBERY, AGGRAVATED, HANDGUN  HANDGUN      1   \n",
       "799          1.0      ROBBERY, AGGRAVATED, HANDGUN  HANDGUN      2   \n",
       "\n",
       "    domestic_flag                    v_desc v_gender v_race   v_ethnicity  \\\n",
       "0              No                   SOCIETY     None   None          None   \n",
       "798            No  INDIVIDUAL (18 AND OVER)        M      U  Non-Hispanic   \n",
       "799            No                  BUSINESS     None   None          None   \n",
       "\n",
       "    v_county_resident   zip            inc_time         report_time  \\\n",
       "0                None  None 2018-01-03 02:50:00 2018-01-03 04:15:00   \n",
       "798          RESIDENT  None 2018-01-03 02:50:00 2018-01-03 04:15:00   \n",
       "799              None  None 2018-01-03 02:50:00 2018-01-03 04:15:00   \n",
       "\n",
       "                       geometry  inc_yr  \n",
       "0    POINT (-86.60000 36.17000)    2018  \n",
       "798  POINT (-86.60000 36.17000)    2018  \n",
       "799  POINT (-86.60000 36.17000)    2018  "
      ]
     },
     "execution_count": 173,
     "metadata": {},
     "output_type": "execute_result"
    }
   ],
   "source": [
    "incidents_trim[incidents_trim['inc_num'] == '20180005702']"
   ]
  },
  {
   "cell_type": "code",
   "execution_count": 174,
   "id": "09080fe6-eb69-4e32-97d6-63c90a548310",
   "metadata": {},
   "outputs": [
    {
     "data": {
      "text/plain": [
       "14119"
      ]
     },
     "execution_count": 174,
     "metadata": {},
     "output_type": "execute_result"
    }
   ],
   "source": [
    "# Unique geometry in 2018\n",
    "incidents_trim[incidents_trim['inc_yr'] == 2018]['geometry'].nunique()"
   ]
  },
  {
   "cell_type": "code",
   "execution_count": 175,
   "id": "08984ac1-1351-4e19-b189-d700f251964f",
   "metadata": {},
   "outputs": [
    {
     "data": {
      "text/plain": [
       "124502"
      ]
     },
     "execution_count": 175,
     "metadata": {},
     "output_type": "execute_result"
    }
   ],
   "source": [
    "# All rows in 2018\n",
    "incidents_trim[incidents_trim['inc_yr'] == 2018].shape[0]"
   ]
  },
  {
   "cell_type": "code",
   "execution_count": 176,
   "id": "ecf3059f-1c12-4b53-8b47-4ae259f01d84",
   "metadata": {},
   "outputs": [
    {
     "data": {
      "text/plain": [
       "13713"
      ]
     },
     "execution_count": 176,
     "metadata": {},
     "output_type": "execute_result"
    }
   ],
   "source": [
    "#---------------------------------------------------------------------\n",
    "# Unique geometry in 2019\n",
    "incidents_trim[incidents_trim['inc_yr'] == 2019]['geometry'].nunique()"
   ]
  },
  {
   "cell_type": "code",
   "execution_count": 177,
   "id": "3f87d4df-ed8e-480e-9049-4c49736cda29",
   "metadata": {},
   "outputs": [
    {
     "data": {
      "text/plain": [
       "119736"
      ]
     },
     "execution_count": 177,
     "metadata": {},
     "output_type": "execute_result"
    }
   ],
   "source": [
    "# All rows in 2019\n",
    "incidents_trim[incidents_trim['inc_yr'] == 2019].shape[0]"
   ]
  },
  {
   "cell_type": "code",
   "execution_count": 178,
   "id": "d32cb2b4-07c6-40d8-bdcc-60afab39436d",
   "metadata": {},
   "outputs": [],
   "source": [
    "# what the frick"
   ]
  },
  {
   "cell_type": "markdown",
   "id": "c36e8fb5-255f-4bc9-a2cb-25c299847dd3",
   "metadata": {},
   "source": [
    "The question now is.... WHAT DO I DO!!!<br>\n",
    "<br>\n",
    "I see no point in plotting points on top of points, and, frankly, I need to be picky with what I plot or how I plot it to conserve every ounce of plotting space I have.<br>\n",
    "<br>\n",
    "Combining rows somehow with the geometry column makes the most sense, BUT then I'm positive I would combine some rows that are totally unrelated incidents.<br>\n",
    "Is there a meaningful way I could combine that information to make the single point informative and respective of each incident at that location?<br>"
   ]
  },
  {
   "cell_type": "markdown",
   "id": "b663317a-8c8c-4257-aad0-3a418bb3b796",
   "metadata": {},
   "source": [
    "#### Grouping offenses by type"
   ]
  },
  {
   "cell_type": "code",
   "execution_count": 179,
   "id": "fa220b7a-5e60-4a82-8afc-da7aa19b2705",
   "metadata": {},
   "outputs": [
    {
     "data": {
      "text/html": [
       "<div>\n",
       "<style scoped>\n",
       "    .dataframe tbody tr th:only-of-type {\n",
       "        vertical-align: middle;\n",
       "    }\n",
       "\n",
       "    .dataframe tbody tr th {\n",
       "        vertical-align: top;\n",
       "    }\n",
       "\n",
       "    .dataframe thead th {\n",
       "        text-align: right;\n",
       "    }\n",
       "</style>\n",
       "<table border=\"1\" class=\"dataframe\">\n",
       "  <thead>\n",
       "    <tr style=\"text-align: right;\">\n",
       "      <th></th>\n",
       "      <th>primary_key</th>\n",
       "      <th>inc_num</th>\n",
       "      <th>report_desc</th>\n",
       "      <th>inc_status_desc</th>\n",
       "      <th>investigation_status</th>\n",
       "      <th>inc_loc</th>\n",
       "      <th>lat</th>\n",
       "      <th>long</th>\n",
       "      <th>loc_code</th>\n",
       "      <th>loc_desc</th>\n",
       "      <th>offense_num</th>\n",
       "      <th>offense_desc</th>\n",
       "      <th>weapon</th>\n",
       "      <th>v_num</th>\n",
       "      <th>domestic_flag</th>\n",
       "      <th>v_desc</th>\n",
       "      <th>v_gender</th>\n",
       "      <th>v_race</th>\n",
       "      <th>v_ethnicity</th>\n",
       "      <th>v_county_resident</th>\n",
       "      <th>zip</th>\n",
       "      <th>inc_time</th>\n",
       "      <th>report_time</th>\n",
       "      <th>geometry</th>\n",
       "      <th>inc_yr</th>\n",
       "    </tr>\n",
       "  </thead>\n",
       "  <tbody>\n",
       "    <tr>\n",
       "      <th>0</th>\n",
       "      <td>20180005702_23</td>\n",
       "      <td>20180005702</td>\n",
       "      <td>DISPATCHED</td>\n",
       "      <td>OPEN</td>\n",
       "      <td>Open</td>\n",
       "      <td>BELL RD</td>\n",
       "      <td>36.170</td>\n",
       "      <td>-86.600</td>\n",
       "      <td>90</td>\n",
       "      <td>APARTMENT</td>\n",
       "      <td>2.0</td>\n",
       "      <td>WEAPON OFFENSE, CRIMINAL ATTEMPT</td>\n",
       "      <td>HANDGUN</td>\n",
       "      <td>3</td>\n",
       "      <td>No</td>\n",
       "      <td>SOCIETY</td>\n",
       "      <td>None</td>\n",
       "      <td>None</td>\n",
       "      <td>None</td>\n",
       "      <td>None</td>\n",
       "      <td>None</td>\n",
       "      <td>2018-01-03 02:50:00</td>\n",
       "      <td>2018-01-03 04:15:00</td>\n",
       "      <td>POINT (-86.60000 36.17000)</td>\n",
       "      <td>2018</td>\n",
       "    </tr>\n",
       "    <tr>\n",
       "      <th>1</th>\n",
       "      <td>20180005926_11</td>\n",
       "      <td>20180005926</td>\n",
       "      <td>SUSPECT</td>\n",
       "      <td>CLEARED BY ARREST</td>\n",
       "      <td>Closed</td>\n",
       "      <td>DICKERSON PIKE &amp; OLD HICKORY BLVD W</td>\n",
       "      <td>36.269</td>\n",
       "      <td>-86.756</td>\n",
       "      <td>13</td>\n",
       "      <td>HIGHWAY, ROAD, ALLEY</td>\n",
       "      <td>1.0</td>\n",
       "      <td>MARIJUANA - POSSESS</td>\n",
       "      <td>NONE</td>\n",
       "      <td>1</td>\n",
       "      <td>No</td>\n",
       "      <td>SOCIETY</td>\n",
       "      <td>None</td>\n",
       "      <td>None</td>\n",
       "      <td>None</td>\n",
       "      <td>None</td>\n",
       "      <td>37115</td>\n",
       "      <td>2018-01-03 04:20:00</td>\n",
       "      <td>2018-01-03 04:42:00</td>\n",
       "      <td>POINT (-86.75600 36.26900)</td>\n",
       "      <td>2018</td>\n",
       "    </tr>\n",
       "  </tbody>\n",
       "</table>\n",
       "</div>"
      ],
      "text/plain": [
       "      primary_key      inc_num report_desc    inc_status_desc  \\\n",
       "0  20180005702_23  20180005702  DISPATCHED               OPEN   \n",
       "1  20180005926_11  20180005926     SUSPECT  CLEARED BY ARREST   \n",
       "\n",
       "  investigation_status                              inc_loc     lat    long  \\\n",
       "0                 Open                              BELL RD  36.170 -86.600   \n",
       "1               Closed  DICKERSON PIKE & OLD HICKORY BLVD W  36.269 -86.756   \n",
       "\n",
       "  loc_code              loc_desc  offense_num  \\\n",
       "0       90             APARTMENT          2.0   \n",
       "1       13  HIGHWAY, ROAD, ALLEY          1.0   \n",
       "\n",
       "                       offense_desc   weapon  v_num domestic_flag   v_desc  \\\n",
       "0  WEAPON OFFENSE, CRIMINAL ATTEMPT  HANDGUN      3            No  SOCIETY   \n",
       "1               MARIJUANA - POSSESS     NONE      1            No  SOCIETY   \n",
       "\n",
       "  v_gender v_race v_ethnicity v_county_resident    zip            inc_time  \\\n",
       "0     None   None        None              None   None 2018-01-03 02:50:00   \n",
       "1     None   None        None              None  37115 2018-01-03 04:20:00   \n",
       "\n",
       "          report_time                    geometry  inc_yr  \n",
       "0 2018-01-03 04:15:00  POINT (-86.60000 36.17000)    2018  \n",
       "1 2018-01-03 04:42:00  POINT (-86.75600 36.26900)    2018  "
      ]
     },
     "execution_count": 179,
     "metadata": {},
     "output_type": "execute_result"
    }
   ],
   "source": [
    "incidents_trim.head(2)"
   ]
  },
  {
   "cell_type": "code",
   "execution_count": 180,
   "id": "cdbcc085-fba9-419b-bd4f-4212f253c399",
   "metadata": {},
   "outputs": [
    {
     "data": {
      "text/plain": [
       "594"
      ]
     },
     "execution_count": 180,
     "metadata": {},
     "output_type": "execute_result"
    }
   ],
   "source": [
    "# Not viable too vast\n",
    "incidents_trim['offense_desc'].nunique()"
   ]
  },
  {
   "cell_type": "code",
   "execution_count": 181,
   "id": "4b129784-006a-4ff9-9926-a53d002ace57",
   "metadata": {},
   "outputs": [
    {
     "data": {
      "text/html": [
       "<div>\n",
       "<style scoped>\n",
       "    .dataframe tbody tr th:only-of-type {\n",
       "        vertical-align: middle;\n",
       "    }\n",
       "\n",
       "    .dataframe tbody tr th {\n",
       "        vertical-align: top;\n",
       "    }\n",
       "\n",
       "    .dataframe thead th {\n",
       "        text-align: right;\n",
       "    }\n",
       "</style>\n",
       "<table border=\"1\" class=\"dataframe\">\n",
       "  <thead>\n",
       "    <tr style=\"text-align: right;\">\n",
       "      <th></th>\n",
       "      <th>primary_key</th>\n",
       "      <th>inc_num</th>\n",
       "      <th>report_code</th>\n",
       "      <th>inc_status_code</th>\n",
       "      <th>offense_nibrs</th>\n",
       "      <th>v_type</th>\n",
       "      <th>weapon_code</th>\n",
       "    </tr>\n",
       "  </thead>\n",
       "  <tbody>\n",
       "    <tr>\n",
       "      <th>0</th>\n",
       "      <td>20180005702_23</td>\n",
       "      <td>20180005702</td>\n",
       "      <td>D</td>\n",
       "      <td>O</td>\n",
       "      <td>520</td>\n",
       "      <td>S</td>\n",
       "      <td>01</td>\n",
       "    </tr>\n",
       "  </tbody>\n",
       "</table>\n",
       "</div>"
      ],
      "text/plain": [
       "      primary_key      inc_num report_code inc_status_code offense_nibrs  \\\n",
       "0  20180005702_23  20180005702           D               O           520   \n",
       "\n",
       "  v_type weapon_code  \n",
       "0      S          01  "
      ]
     },
     "execution_count": 181,
     "metadata": {},
     "output_type": "execute_result"
    }
   ],
   "source": [
    "# I believe it's time to whip out my secret weapon...\n",
    "# NIBRS!!!!!\n",
    "incidents_flags.head(1)"
   ]
  },
  {
   "cell_type": "code",
   "execution_count": 182,
   "id": "3589d46a-6e13-4ea9-a927-238059e4327f",
   "metadata": {},
   "outputs": [
    {
     "data": {
      "text/plain": [
       "74"
      ]
     },
     "execution_count": 182,
     "metadata": {},
     "output_type": "execute_result"
    }
   ],
   "source": [
    "# Much better... still a little rough but I got it\n",
    "incidents_flags['offense_nibrs'].nunique()"
   ]
  },
  {
   "cell_type": "code",
   "execution_count": 183,
   "id": "50f60390-2cf7-48c8-a0b0-3281d74cf1dc",
   "metadata": {},
   "outputs": [],
   "source": [
    "# Rejoining the NIBRS column ONLY\n",
    "incidents_trim = incidents_trim.merge(incidents_flags[['primary_key', 'offense_nibrs']], on='primary_key', how='left')"
   ]
  },
  {
   "cell_type": "markdown",
   "id": "0e989003-a3c8-4cf5-81f4-c9dffaf7d22b",
   "metadata": {},
   "source": [
    "<h3>I'm referencing the metadata EXTENSIVELY for my next trick</h3>"
   ]
  },
  {
   "cell_type": "markdown",
   "id": "babdcbef-28d3-47b1-9973-c7611ee79957",
   "metadata": {},
   "source": [
    "<p><b>THEFT</b>: '23_', 220 (Burglary), 240 (Motor Vehicle Theft), 120 (robbery)<br>\n",
    "<br>\n",
    "<b>MURDER</b>: 09A<br>\n",
    "<br>\n",
    "<b>SEXUAL CRIMES</b>: '11_' (forcible), 64A Sexual Human Trafficking, '40_' (Prostitution)<br>\n",
    "<br>\n",
    "<b>DRUG CRIMES</b>: '35_'<br>\n",
    "<br>\n",
    "<b>PROPERTY CRIMES</b>: 200 Arson, 290 Property Offenses<br>\n",
    "<br>\n",
    "<b>DRUNKENNESS/DUI</b>: 90D, 90E<br>\n",
    "<br>\n",
    "<b>SUICIDES</b>: 690</p>"
   ]
  },
  {
   "cell_type": "code",
   "execution_count": 197,
   "id": "d6fb06e5-3255-4fc5-82c1-d10590eeef6a",
   "metadata": {},
   "outputs": [],
   "source": [
    "# Define row based function to apply to dataframe\n",
    "def sort_crimes(offense_nibrs):\n",
    "    print('1: ' + str(offense_nibrs))\n",
    "    # MURDER\n",
    "    if '09A' in offense_nibrs:\n",
    "        return 'MURDER'\n",
    "    # SUICIDE\n",
    "    elif '690' in offense_nibrs:\n",
    "        return 'SUICIDE'\n",
    "    # SEXUAL CRIMES\n",
    "    elif offense_nibrs.startswith('11') or offense_nibrs.startswith('40') or '64A' in offense_nibrs:\n",
    "        return 'SEXUAL'\n",
    "    # THEFT\n",
    "    elif offense_nibrs.startswith('23') or offense_nibrs in ['220', '240', '120']:\n",
    "        return 'THEFT'\n",
    "    # DRUG\n",
    "    elif offense_nibrs.startswith('35'):\n",
    "        return 'DRUG'\n",
    "    # PROPERTY\n",
    "    elif offense_nibrs in ['200', '290']:\n",
    "        return 'PROPERTY'\n",
    "    # DUI/DRUNKENNESS\n",
    "    elif offense_nibrs in ['90D', '90E']:\n",
    "        return 'INTOXICATION'\n",
    "    else:\n",
    "        return 'OTHER'"
   ]
  },
  {
   "cell_type": "code",
   "execution_count": 198,
   "id": "17713b71-84b7-475a-b5ad-01605ea669c8",
   "metadata": {},
   "outputs": [],
   "source": [
    "# Initializing empty column\n",
    "incidents_trim['crime_cat'] = 'placeholder'"
   ]
  },
  {
   "cell_type": "code",
   "execution_count": 199,
   "id": "a3c9f20c-a2b8-49c3-90f8-c550b0c8fd64",
   "metadata": {},
   "outputs": [
    {
     "data": {
      "text/html": [
       "<div>\n",
       "<style scoped>\n",
       "    .dataframe tbody tr th:only-of-type {\n",
       "        vertical-align: middle;\n",
       "    }\n",
       "\n",
       "    .dataframe tbody tr th {\n",
       "        vertical-align: top;\n",
       "    }\n",
       "\n",
       "    .dataframe thead th {\n",
       "        text-align: right;\n",
       "    }\n",
       "</style>\n",
       "<table border=\"1\" class=\"dataframe\">\n",
       "  <thead>\n",
       "    <tr style=\"text-align: right;\">\n",
       "      <th></th>\n",
       "      <th>primary_key</th>\n",
       "      <th>inc_num</th>\n",
       "      <th>report_desc</th>\n",
       "      <th>inc_status_desc</th>\n",
       "      <th>investigation_status</th>\n",
       "      <th>inc_loc</th>\n",
       "      <th>lat</th>\n",
       "      <th>long</th>\n",
       "      <th>loc_code</th>\n",
       "      <th>loc_desc</th>\n",
       "      <th>offense_num</th>\n",
       "      <th>offense_desc</th>\n",
       "      <th>weapon</th>\n",
       "      <th>v_num</th>\n",
       "      <th>domestic_flag</th>\n",
       "      <th>v_desc</th>\n",
       "      <th>v_gender</th>\n",
       "      <th>v_race</th>\n",
       "      <th>v_ethnicity</th>\n",
       "      <th>v_county_resident</th>\n",
       "      <th>zip</th>\n",
       "      <th>inc_time</th>\n",
       "      <th>report_time</th>\n",
       "      <th>geometry</th>\n",
       "      <th>inc_yr</th>\n",
       "      <th>offense_nibrs</th>\n",
       "      <th>crime_cat</th>\n",
       "    </tr>\n",
       "  </thead>\n",
       "  <tbody>\n",
       "    <tr>\n",
       "      <th>0</th>\n",
       "      <td>20180005702_23</td>\n",
       "      <td>20180005702</td>\n",
       "      <td>DISPATCHED</td>\n",
       "      <td>OPEN</td>\n",
       "      <td>Open</td>\n",
       "      <td>BELL RD</td>\n",
       "      <td>36.17</td>\n",
       "      <td>-86.6</td>\n",
       "      <td>90</td>\n",
       "      <td>APARTMENT</td>\n",
       "      <td>2.0</td>\n",
       "      <td>WEAPON OFFENSE, CRIMINAL ATTEMPT</td>\n",
       "      <td>HANDGUN</td>\n",
       "      <td>3</td>\n",
       "      <td>No</td>\n",
       "      <td>SOCIETY</td>\n",
       "      <td>None</td>\n",
       "      <td>None</td>\n",
       "      <td>None</td>\n",
       "      <td>None</td>\n",
       "      <td>None</td>\n",
       "      <td>2018-01-03 02:50:00</td>\n",
       "      <td>2018-01-03 04:15:00</td>\n",
       "      <td>POINT (-86.60000 36.17000)</td>\n",
       "      <td>2018</td>\n",
       "      <td>520</td>\n",
       "      <td>placeholder</td>\n",
       "    </tr>\n",
       "  </tbody>\n",
       "</table>\n",
       "</div>"
      ],
      "text/plain": [
       "      primary_key      inc_num report_desc inc_status_desc  \\\n",
       "0  20180005702_23  20180005702  DISPATCHED            OPEN   \n",
       "\n",
       "  investigation_status  inc_loc    lat  long loc_code   loc_desc  offense_num  \\\n",
       "0                 Open  BELL RD  36.17 -86.6       90  APARTMENT          2.0   \n",
       "\n",
       "                       offense_desc   weapon  v_num domestic_flag   v_desc  \\\n",
       "0  WEAPON OFFENSE, CRIMINAL ATTEMPT  HANDGUN      3            No  SOCIETY   \n",
       "\n",
       "  v_gender v_race v_ethnicity v_county_resident   zip            inc_time  \\\n",
       "0     None   None        None              None  None 2018-01-03 02:50:00   \n",
       "\n",
       "          report_time                    geometry  inc_yr offense_nibrs  \\\n",
       "0 2018-01-03 04:15:00  POINT (-86.60000 36.17000)    2018           520   \n",
       "\n",
       "     crime_cat  \n",
       "0  placeholder  "
      ]
     },
     "execution_count": 199,
     "metadata": {},
     "output_type": "execute_result"
    }
   ],
   "source": [
    "incidents_trim.head(1)"
   ]
  },
  {
   "cell_type": "code",
   "execution_count": 202,
   "id": "7941572e-983b-41e7-8134-210d8717f81b",
   "metadata": {},
   "outputs": [
    {
     "data": {
      "text/html": [
       "<div>\n",
       "<style scoped>\n",
       "    .dataframe tbody tr th:only-of-type {\n",
       "        vertical-align: middle;\n",
       "    }\n",
       "\n",
       "    .dataframe tbody tr th {\n",
       "        vertical-align: top;\n",
       "    }\n",
       "\n",
       "    .dataframe thead th {\n",
       "        text-align: right;\n",
       "    }\n",
       "</style>\n",
       "<table border=\"1\" class=\"dataframe\">\n",
       "  <thead>\n",
       "    <tr style=\"text-align: right;\">\n",
       "      <th></th>\n",
       "      <th>offense_nibrs</th>\n",
       "      <th>crime_cat</th>\n",
       "    </tr>\n",
       "  </thead>\n",
       "  <tbody>\n",
       "    <tr>\n",
       "      <th>0</th>\n",
       "      <td>520</td>\n",
       "      <td>placeholder</td>\n",
       "    </tr>\n",
       "    <tr>\n",
       "      <th>1</th>\n",
       "      <td>35A</td>\n",
       "      <td>placeholder</td>\n",
       "    </tr>\n",
       "    <tr>\n",
       "      <th>2</th>\n",
       "      <td>35B</td>\n",
       "      <td>placeholder</td>\n",
       "    </tr>\n",
       "    <tr>\n",
       "      <th>3</th>\n",
       "      <td>220</td>\n",
       "      <td>placeholder</td>\n",
       "    </tr>\n",
       "    <tr>\n",
       "      <th>4</th>\n",
       "      <td>220</td>\n",
       "      <td>placeholder</td>\n",
       "    </tr>\n",
       "    <tr>\n",
       "      <th>5</th>\n",
       "      <td>290</td>\n",
       "      <td>placeholder</td>\n",
       "    </tr>\n",
       "    <tr>\n",
       "      <th>6</th>\n",
       "      <td>23F</td>\n",
       "      <td>placeholder</td>\n",
       "    </tr>\n",
       "    <tr>\n",
       "      <th>7</th>\n",
       "      <td>23F</td>\n",
       "      <td>placeholder</td>\n",
       "    </tr>\n",
       "    <tr>\n",
       "      <th>8</th>\n",
       "      <td>780</td>\n",
       "      <td>placeholder</td>\n",
       "    </tr>\n",
       "    <tr>\n",
       "      <th>9</th>\n",
       "      <td>810</td>\n",
       "      <td>placeholder</td>\n",
       "    </tr>\n",
       "    <tr>\n",
       "      <th>10</th>\n",
       "      <td>740</td>\n",
       "      <td>placeholder</td>\n",
       "    </tr>\n",
       "    <tr>\n",
       "      <th>11</th>\n",
       "      <td>740</td>\n",
       "      <td>placeholder</td>\n",
       "    </tr>\n",
       "    <tr>\n",
       "      <th>12</th>\n",
       "      <td>13C</td>\n",
       "      <td>placeholder</td>\n",
       "    </tr>\n",
       "    <tr>\n",
       "      <th>13</th>\n",
       "      <td>13B</td>\n",
       "      <td>placeholder</td>\n",
       "    </tr>\n",
       "    <tr>\n",
       "      <th>14</th>\n",
       "      <td>13B</td>\n",
       "      <td>placeholder</td>\n",
       "    </tr>\n",
       "    <tr>\n",
       "      <th>15</th>\n",
       "      <td>740</td>\n",
       "      <td>placeholder</td>\n",
       "    </tr>\n",
       "    <tr>\n",
       "      <th>16</th>\n",
       "      <td>740</td>\n",
       "      <td>placeholder</td>\n",
       "    </tr>\n",
       "    <tr>\n",
       "      <th>17</th>\n",
       "      <td>23G</td>\n",
       "      <td>placeholder</td>\n",
       "    </tr>\n",
       "    <tr>\n",
       "      <th>18</th>\n",
       "      <td>13C</td>\n",
       "      <td>placeholder</td>\n",
       "    </tr>\n",
       "    <tr>\n",
       "      <th>19</th>\n",
       "      <td>13C</td>\n",
       "      <td>placeholder</td>\n",
       "    </tr>\n",
       "  </tbody>\n",
       "</table>\n",
       "</div>"
      ],
      "text/plain": [
       "   offense_nibrs    crime_cat\n",
       "0            520  placeholder\n",
       "1            35A  placeholder\n",
       "2            35B  placeholder\n",
       "3            220  placeholder\n",
       "4            220  placeholder\n",
       "5            290  placeholder\n",
       "6            23F  placeholder\n",
       "7            23F  placeholder\n",
       "8            780  placeholder\n",
       "9            810  placeholder\n",
       "10           740  placeholder\n",
       "11           740  placeholder\n",
       "12           13C  placeholder\n",
       "13           13B  placeholder\n",
       "14           13B  placeholder\n",
       "15           740  placeholder\n",
       "16           740  placeholder\n",
       "17           23G  placeholder\n",
       "18           13C  placeholder\n",
       "19           13C  placeholder"
      ]
     },
     "execution_count": 202,
     "metadata": {},
     "output_type": "execute_result"
    }
   ],
   "source": [
    "incidents_trim[['offense_nibrs', 'crime_cat']][0:20]"
   ]
  },
  {
   "cell_type": "code",
   "execution_count": 200,
   "id": "cccba3ac-7b50-4531-8630-1fc0326aa3f3",
   "metadata": {},
   "outputs": [
    {
     "name": "stdout",
     "output_type": "stream",
     "text": [
      "1: 0     520\n",
      "1     35A\n",
      "2     35B\n",
      "3     220\n",
      "4     220\n",
      "5     290\n",
      "6     23F\n",
      "7     23F\n",
      "8     780\n",
      "9     810\n",
      "10    740\n",
      "11    740\n",
      "12    13C\n",
      "13    13B\n",
      "14    13B\n",
      "15    740\n",
      "16    740\n",
      "17    23G\n",
      "18    13C\n",
      "19    13C\n",
      "Name: offense_nibrs, dtype: object\n"
     ]
    },
    {
     "ename": "AttributeError",
     "evalue": "'Series' object has no attribute 'startswith'",
     "output_type": "error",
     "traceback": [
      "\u001b[1;31m---------------------------------------------------------------------------\u001b[0m",
      "\u001b[1;31mAttributeError\u001b[0m                            Traceback (most recent call last)",
      "\u001b[1;32m~\\AppData\\Local\\Temp\\ipykernel_13688\\3249921671.py\u001b[0m in \u001b[0;36m?\u001b[1;34m()\u001b[0m\n\u001b[0;32m      1\u001b[0m \u001b[1;31m# testing\u001b[0m\u001b[1;33m\u001b[0m\u001b[1;33m\u001b[0m\u001b[0m\n\u001b[1;32m----> 2\u001b[1;33m \u001b[0mincidents_trim\u001b[0m\u001b[1;33m[\u001b[0m\u001b[1;33m[\u001b[0m\u001b[1;34m'offense_nibrs'\u001b[0m\u001b[1;33m,\u001b[0m \u001b[1;34m'crime_cat'\u001b[0m\u001b[1;33m]\u001b[0m\u001b[1;33m]\u001b[0m\u001b[1;33m[\u001b[0m\u001b[1;36m0\u001b[0m\u001b[1;33m:\u001b[0m\u001b[1;36m20\u001b[0m\u001b[1;33m]\u001b[0m\u001b[1;33m.\u001b[0m\u001b[0mapply\u001b[0m\u001b[1;33m(\u001b[0m\u001b[0msort_crimes\u001b[0m\u001b[1;33m,\u001b[0m \u001b[0maxis\u001b[0m\u001b[1;33m=\u001b[0m\u001b[1;36m0\u001b[0m\u001b[1;33m)\u001b[0m\u001b[1;33m\u001b[0m\u001b[1;33m\u001b[0m\u001b[0m\n\u001b[0m",
      "\u001b[1;32m~\\anaconda3\\envs\\geospatial\\lib\\site-packages\\pandas\\core\\frame.py\u001b[0m in \u001b[0;36m?\u001b[1;34m(self, func, axis, raw, result_type, args, by_row, engine, engine_kwargs, **kwargs)\u001b[0m\n\u001b[0;32m  10370\u001b[0m             \u001b[0mengine_kwargs\u001b[0m\u001b[1;33m=\u001b[0m\u001b[0mengine_kwargs\u001b[0m\u001b[1;33m,\u001b[0m\u001b[1;33m\u001b[0m\u001b[1;33m\u001b[0m\u001b[0m\n\u001b[0;32m  10371\u001b[0m             \u001b[0margs\u001b[0m\u001b[1;33m=\u001b[0m\u001b[0margs\u001b[0m\u001b[1;33m,\u001b[0m\u001b[1;33m\u001b[0m\u001b[1;33m\u001b[0m\u001b[0m\n\u001b[0;32m  10372\u001b[0m             \u001b[0mkwargs\u001b[0m\u001b[1;33m=\u001b[0m\u001b[0mkwargs\u001b[0m\u001b[1;33m,\u001b[0m\u001b[1;33m\u001b[0m\u001b[1;33m\u001b[0m\u001b[0m\n\u001b[0;32m  10373\u001b[0m         )\n\u001b[1;32m> 10374\u001b[1;33m         \u001b[1;32mreturn\u001b[0m \u001b[0mop\u001b[0m\u001b[1;33m.\u001b[0m\u001b[0mapply\u001b[0m\u001b[1;33m(\u001b[0m\u001b[1;33m)\u001b[0m\u001b[1;33m.\u001b[0m\u001b[0m__finalize__\u001b[0m\u001b[1;33m(\u001b[0m\u001b[0mself\u001b[0m\u001b[1;33m,\u001b[0m \u001b[0mmethod\u001b[0m\u001b[1;33m=\u001b[0m\u001b[1;34m\"apply\"\u001b[0m\u001b[1;33m)\u001b[0m\u001b[1;33m\u001b[0m\u001b[1;33m\u001b[0m\u001b[0m\n\u001b[0m",
      "\u001b[1;32m~\\anaconda3\\envs\\geospatial\\lib\\site-packages\\pandas\\core\\apply.py\u001b[0m in \u001b[0;36m?\u001b[1;34m(self)\u001b[0m\n\u001b[0;32m    912\u001b[0m         \u001b[1;31m# raw\u001b[0m\u001b[1;33m\u001b[0m\u001b[1;33m\u001b[0m\u001b[0m\n\u001b[0;32m    913\u001b[0m         \u001b[1;32melif\u001b[0m \u001b[0mself\u001b[0m\u001b[1;33m.\u001b[0m\u001b[0mraw\u001b[0m\u001b[1;33m:\u001b[0m\u001b[1;33m\u001b[0m\u001b[1;33m\u001b[0m\u001b[0m\n\u001b[0;32m    914\u001b[0m             \u001b[1;32mreturn\u001b[0m \u001b[0mself\u001b[0m\u001b[1;33m.\u001b[0m\u001b[0mapply_raw\u001b[0m\u001b[1;33m(\u001b[0m\u001b[0mengine\u001b[0m\u001b[1;33m=\u001b[0m\u001b[0mself\u001b[0m\u001b[1;33m.\u001b[0m\u001b[0mengine\u001b[0m\u001b[1;33m,\u001b[0m \u001b[0mengine_kwargs\u001b[0m\u001b[1;33m=\u001b[0m\u001b[0mself\u001b[0m\u001b[1;33m.\u001b[0m\u001b[0mengine_kwargs\u001b[0m\u001b[1;33m)\u001b[0m\u001b[1;33m\u001b[0m\u001b[1;33m\u001b[0m\u001b[0m\n\u001b[0;32m    915\u001b[0m \u001b[1;33m\u001b[0m\u001b[0m\n\u001b[1;32m--> 916\u001b[1;33m         \u001b[1;32mreturn\u001b[0m \u001b[0mself\u001b[0m\u001b[1;33m.\u001b[0m\u001b[0mapply_standard\u001b[0m\u001b[1;33m(\u001b[0m\u001b[1;33m)\u001b[0m\u001b[1;33m\u001b[0m\u001b[1;33m\u001b[0m\u001b[0m\n\u001b[0m",
      "\u001b[1;32m~\\anaconda3\\envs\\geospatial\\lib\\site-packages\\pandas\\core\\apply.py\u001b[0m in \u001b[0;36m?\u001b[1;34m(self)\u001b[0m\n\u001b[0;32m   1061\u001b[0m     \u001b[1;32mdef\u001b[0m \u001b[0mapply_standard\u001b[0m\u001b[1;33m(\u001b[0m\u001b[0mself\u001b[0m\u001b[1;33m)\u001b[0m\u001b[1;33m:\u001b[0m\u001b[1;33m\u001b[0m\u001b[1;33m\u001b[0m\u001b[0m\n\u001b[0;32m   1062\u001b[0m         \u001b[1;32mif\u001b[0m \u001b[0mself\u001b[0m\u001b[1;33m.\u001b[0m\u001b[0mengine\u001b[0m \u001b[1;33m==\u001b[0m \u001b[1;34m\"python\"\u001b[0m\u001b[1;33m:\u001b[0m\u001b[1;33m\u001b[0m\u001b[1;33m\u001b[0m\u001b[0m\n\u001b[1;32m-> 1063\u001b[1;33m             \u001b[0mresults\u001b[0m\u001b[1;33m,\u001b[0m \u001b[0mres_index\u001b[0m \u001b[1;33m=\u001b[0m \u001b[0mself\u001b[0m\u001b[1;33m.\u001b[0m\u001b[0mapply_series_generator\u001b[0m\u001b[1;33m(\u001b[0m\u001b[1;33m)\u001b[0m\u001b[1;33m\u001b[0m\u001b[1;33m\u001b[0m\u001b[0m\n\u001b[0m\u001b[0;32m   1064\u001b[0m         \u001b[1;32melse\u001b[0m\u001b[1;33m:\u001b[0m\u001b[1;33m\u001b[0m\u001b[1;33m\u001b[0m\u001b[0m\n\u001b[0;32m   1065\u001b[0m             \u001b[0mresults\u001b[0m\u001b[1;33m,\u001b[0m \u001b[0mres_index\u001b[0m \u001b[1;33m=\u001b[0m \u001b[0mself\u001b[0m\u001b[1;33m.\u001b[0m\u001b[0mapply_series_numba\u001b[0m\u001b[1;33m(\u001b[0m\u001b[1;33m)\u001b[0m\u001b[1;33m\u001b[0m\u001b[1;33m\u001b[0m\u001b[0m\n\u001b[0;32m   1066\u001b[0m \u001b[1;33m\u001b[0m\u001b[0m\n",
      "\u001b[1;32m~\\anaconda3\\envs\\geospatial\\lib\\site-packages\\pandas\\core\\apply.py\u001b[0m in \u001b[0;36m?\u001b[1;34m(self)\u001b[0m\n\u001b[0;32m   1077\u001b[0m \u001b[1;33m\u001b[0m\u001b[0m\n\u001b[0;32m   1078\u001b[0m         \u001b[1;32mwith\u001b[0m \u001b[0moption_context\u001b[0m\u001b[1;33m(\u001b[0m\u001b[1;34m\"mode.chained_assignment\"\u001b[0m\u001b[1;33m,\u001b[0m \u001b[1;32mNone\u001b[0m\u001b[1;33m)\u001b[0m\u001b[1;33m:\u001b[0m\u001b[1;33m\u001b[0m\u001b[1;33m\u001b[0m\u001b[0m\n\u001b[0;32m   1079\u001b[0m             \u001b[1;32mfor\u001b[0m \u001b[0mi\u001b[0m\u001b[1;33m,\u001b[0m \u001b[0mv\u001b[0m \u001b[1;32min\u001b[0m \u001b[0menumerate\u001b[0m\u001b[1;33m(\u001b[0m\u001b[0mseries_gen\u001b[0m\u001b[1;33m)\u001b[0m\u001b[1;33m:\u001b[0m\u001b[1;33m\u001b[0m\u001b[1;33m\u001b[0m\u001b[0m\n\u001b[0;32m   1080\u001b[0m                 \u001b[1;31m# ignore SettingWithCopy here in case the user mutates\u001b[0m\u001b[1;33m\u001b[0m\u001b[1;33m\u001b[0m\u001b[0m\n\u001b[1;32m-> 1081\u001b[1;33m                 \u001b[0mresults\u001b[0m\u001b[1;33m[\u001b[0m\u001b[0mi\u001b[0m\u001b[1;33m]\u001b[0m \u001b[1;33m=\u001b[0m \u001b[0mself\u001b[0m\u001b[1;33m.\u001b[0m\u001b[0mfunc\u001b[0m\u001b[1;33m(\u001b[0m\u001b[0mv\u001b[0m\u001b[1;33m,\u001b[0m \u001b[1;33m*\u001b[0m\u001b[0mself\u001b[0m\u001b[1;33m.\u001b[0m\u001b[0margs\u001b[0m\u001b[1;33m,\u001b[0m \u001b[1;33m**\u001b[0m\u001b[0mself\u001b[0m\u001b[1;33m.\u001b[0m\u001b[0mkwargs\u001b[0m\u001b[1;33m)\u001b[0m\u001b[1;33m\u001b[0m\u001b[1;33m\u001b[0m\u001b[0m\n\u001b[0m\u001b[0;32m   1082\u001b[0m                 \u001b[1;32mif\u001b[0m \u001b[0misinstance\u001b[0m\u001b[1;33m(\u001b[0m\u001b[0mresults\u001b[0m\u001b[1;33m[\u001b[0m\u001b[0mi\u001b[0m\u001b[1;33m]\u001b[0m\u001b[1;33m,\u001b[0m \u001b[0mABCSeries\u001b[0m\u001b[1;33m)\u001b[0m\u001b[1;33m:\u001b[0m\u001b[1;33m\u001b[0m\u001b[1;33m\u001b[0m\u001b[0m\n\u001b[0;32m   1083\u001b[0m                     \u001b[1;31m# If we have a view on v, we need to make a copy because\u001b[0m\u001b[1;33m\u001b[0m\u001b[1;33m\u001b[0m\u001b[0m\n\u001b[0;32m   1084\u001b[0m                     \u001b[1;31m#  series_generator will swap out the underlying data\u001b[0m\u001b[1;33m\u001b[0m\u001b[1;33m\u001b[0m\u001b[0m\n",
      "\u001b[1;32m~\\AppData\\Local\\Temp\\ipykernel_13688\\294570289.py\u001b[0m in \u001b[0;36m?\u001b[1;34m(offense_nibrs)\u001b[0m\n\u001b[0;32m      7\u001b[0m     \u001b[1;31m# SUICIDE\u001b[0m\u001b[1;33m\u001b[0m\u001b[1;33m\u001b[0m\u001b[0m\n\u001b[0;32m      8\u001b[0m     \u001b[1;32melif\u001b[0m \u001b[1;34m'690'\u001b[0m \u001b[1;32min\u001b[0m \u001b[0moffense_nibrs\u001b[0m\u001b[1;33m:\u001b[0m\u001b[1;33m\u001b[0m\u001b[1;33m\u001b[0m\u001b[0m\n\u001b[0;32m      9\u001b[0m         \u001b[1;32mreturn\u001b[0m \u001b[1;34m'SUICIDE'\u001b[0m\u001b[1;33m\u001b[0m\u001b[1;33m\u001b[0m\u001b[0m\n\u001b[0;32m     10\u001b[0m     \u001b[1;31m# SEXUAL CRIMES\u001b[0m\u001b[1;33m\u001b[0m\u001b[1;33m\u001b[0m\u001b[0m\n\u001b[1;32m---> 11\u001b[1;33m     \u001b[1;32melif\u001b[0m \u001b[0moffense_nibrs\u001b[0m\u001b[1;33m.\u001b[0m\u001b[0mstartswith\u001b[0m\u001b[1;33m(\u001b[0m\u001b[1;34m'11'\u001b[0m\u001b[1;33m)\u001b[0m \u001b[1;32mor\u001b[0m \u001b[0moffense_nibrs\u001b[0m\u001b[1;33m.\u001b[0m\u001b[0mstartswith\u001b[0m\u001b[1;33m(\u001b[0m\u001b[1;34m'40'\u001b[0m\u001b[1;33m)\u001b[0m \u001b[1;32mor\u001b[0m \u001b[1;34m'64A'\u001b[0m \u001b[1;32min\u001b[0m \u001b[0moffense_nibrs\u001b[0m\u001b[1;33m:\u001b[0m\u001b[1;33m\u001b[0m\u001b[1;33m\u001b[0m\u001b[0m\n\u001b[0m\u001b[0;32m     12\u001b[0m         \u001b[1;32mreturn\u001b[0m \u001b[1;34m'SEXUAL'\u001b[0m\u001b[1;33m\u001b[0m\u001b[1;33m\u001b[0m\u001b[0m\n\u001b[0;32m     13\u001b[0m     \u001b[1;31m# THEFT\u001b[0m\u001b[1;33m\u001b[0m\u001b[1;33m\u001b[0m\u001b[0m\n\u001b[0;32m     14\u001b[0m     \u001b[1;32melif\u001b[0m \u001b[0moffense_nibrs\u001b[0m\u001b[1;33m.\u001b[0m\u001b[0mstartswith\u001b[0m\u001b[1;33m(\u001b[0m\u001b[1;34m'23'\u001b[0m\u001b[1;33m)\u001b[0m \u001b[1;32mor\u001b[0m \u001b[0moffense_nibrs\u001b[0m \u001b[1;32min\u001b[0m \u001b[1;33m[\u001b[0m\u001b[1;34m'220'\u001b[0m\u001b[1;33m,\u001b[0m \u001b[1;34m'240'\u001b[0m\u001b[1;33m,\u001b[0m \u001b[1;34m'120'\u001b[0m\u001b[1;33m]\u001b[0m\u001b[1;33m:\u001b[0m\u001b[1;33m\u001b[0m\u001b[1;33m\u001b[0m\u001b[0m\n",
      "\u001b[1;32m~\\anaconda3\\envs\\geospatial\\lib\\site-packages\\pandas\\core\\generic.py\u001b[0m in \u001b[0;36m?\u001b[1;34m(self, name)\u001b[0m\n\u001b[0;32m   6295\u001b[0m             \u001b[1;32mand\u001b[0m \u001b[0mname\u001b[0m \u001b[1;32mnot\u001b[0m \u001b[1;32min\u001b[0m \u001b[0mself\u001b[0m\u001b[1;33m.\u001b[0m\u001b[0m_accessors\u001b[0m\u001b[1;33m\u001b[0m\u001b[1;33m\u001b[0m\u001b[0m\n\u001b[0;32m   6296\u001b[0m             \u001b[1;32mand\u001b[0m \u001b[0mself\u001b[0m\u001b[1;33m.\u001b[0m\u001b[0m_info_axis\u001b[0m\u001b[1;33m.\u001b[0m\u001b[0m_can_hold_identifiers_and_holds_name\u001b[0m\u001b[1;33m(\u001b[0m\u001b[0mname\u001b[0m\u001b[1;33m)\u001b[0m\u001b[1;33m\u001b[0m\u001b[1;33m\u001b[0m\u001b[0m\n\u001b[0;32m   6297\u001b[0m         ):\n\u001b[0;32m   6298\u001b[0m             \u001b[1;32mreturn\u001b[0m \u001b[0mself\u001b[0m\u001b[1;33m[\u001b[0m\u001b[0mname\u001b[0m\u001b[1;33m]\u001b[0m\u001b[1;33m\u001b[0m\u001b[1;33m\u001b[0m\u001b[0m\n\u001b[1;32m-> 6299\u001b[1;33m         \u001b[1;32mreturn\u001b[0m \u001b[0mobject\u001b[0m\u001b[1;33m.\u001b[0m\u001b[0m__getattribute__\u001b[0m\u001b[1;33m(\u001b[0m\u001b[0mself\u001b[0m\u001b[1;33m,\u001b[0m \u001b[0mname\u001b[0m\u001b[1;33m)\u001b[0m\u001b[1;33m\u001b[0m\u001b[1;33m\u001b[0m\u001b[0m\n\u001b[0m",
      "\u001b[1;31mAttributeError\u001b[0m: 'Series' object has no attribute 'startswith'"
     ]
    }
   ],
   "source": [
    "# testing\n",
    "\n",
    "# !!! the function is recieving a list as offense_nibrs?\n",
    "incidents_trim[['offense_nibrs', 'crime_cat']][0:20].apply(sort_crimes, axis=0)"
   ]
  },
  {
   "cell_type": "markdown",
   "id": "b3eecd01-bc3a-44d4-a7ec-028552918dee",
   "metadata": {},
   "source": [
    "#### Adding Polygons and polygon identification"
   ]
  },
  {
   "cell_type": "code",
   "execution_count": 42,
   "id": "285a6d16-2429-484c-a6bf-be05726a9c21",
   "metadata": {},
   "outputs": [],
   "source": [
    "# Reading in police precinct data for polygons!! yay\n",
    "precinct_polygons = gpd.read_file('../data/nashville-tn-police-precincts.gpkg')"
   ]
  },
  {
   "cell_type": "code",
   "execution_count": 43,
   "id": "2d953917-ee3a-43e0-b74e-734bb25f9ce8",
   "metadata": {},
   "outputs": [
    {
     "data": {
      "text/html": [
       "<div>\n",
       "<style scoped>\n",
       "    .dataframe tbody tr th:only-of-type {\n",
       "        vertical-align: middle;\n",
       "    }\n",
       "\n",
       "    .dataframe tbody tr th {\n",
       "        vertical-align: top;\n",
       "    }\n",
       "\n",
       "    .dataframe thead th {\n",
       "        text-align: right;\n",
       "    }\n",
       "</style>\n",
       "<table border=\"1\" class=\"dataframe\">\n",
       "  <thead>\n",
       "    <tr style=\"text-align: right;\">\n",
       "      <th></th>\n",
       "      <th>GLOBALID</th>\n",
       "      <th>STArea</th>\n",
       "      <th>PRECINCT</th>\n",
       "      <th>STLength</th>\n",
       "      <th>geometry</th>\n",
       "    </tr>\n",
       "  </thead>\n",
       "  <tbody>\n",
       "    <tr>\n",
       "      <th>0</th>\n",
       "      <td>{02BF999B-4A77-4BE8-B649-F9C1B6791098}</td>\n",
       "      <td>2.495822e+09</td>\n",
       "      <td>HERMITAGE</td>\n",
       "      <td>521816.110974</td>\n",
       "      <td>MULTIPOLYGON Z (((-9637158.117 4325329.726 0.0...</td>\n",
       "    </tr>\n",
       "    <tr>\n",
       "      <th>1</th>\n",
       "      <td>{6BBB73D8-5BD5-46AE-9F1D-7E45CF656617}</td>\n",
       "      <td>3.287797e+09</td>\n",
       "      <td>NORTH</td>\n",
       "      <td>334750.611226</td>\n",
       "      <td>MULTIPOLYGON Z (((-9674900.996 4349896.956 0.0...</td>\n",
       "    </tr>\n",
       "    <tr>\n",
       "      <th>2</th>\n",
       "      <td>{AEC0E873-A9E6-4C51-995B-589E9368D587}</td>\n",
       "      <td>3.036712e+09</td>\n",
       "      <td>WEST</td>\n",
       "      <td>314367.315791</td>\n",
       "      <td>MULTIPOLYGON Z (((-9684570.064 4318251.690 0.0...</td>\n",
       "    </tr>\n",
       "    <tr>\n",
       "      <th>3</th>\n",
       "      <td>{FC11B41E-DA35-4041-82E3-E3DE1D18052E}</td>\n",
       "      <td>9.854197e+07</td>\n",
       "      <td>CENTRAL</td>\n",
       "      <td>46234.671731</td>\n",
       "      <td>MULTIPOLYGON Z (((-9659776.741 4321136.257 0.0...</td>\n",
       "    </tr>\n",
       "    <tr>\n",
       "      <th>4</th>\n",
       "      <td>{99AB52A5-D98D-47AC-8C6E-989CA7B7FF4D}</td>\n",
       "      <td>1.316292e+09</td>\n",
       "      <td>MIDTOWN-HILLS</td>\n",
       "      <td>185915.976901</td>\n",
       "      <td>MULTIPOLYGON Z (((-9667810.747 4306523.185 0.0...</td>\n",
       "    </tr>\n",
       "  </tbody>\n",
       "</table>\n",
       "</div>"
      ],
      "text/plain": [
       "                                 GLOBALID        STArea       PRECINCT  \\\n",
       "0  {02BF999B-4A77-4BE8-B649-F9C1B6791098}  2.495822e+09      HERMITAGE   \n",
       "1  {6BBB73D8-5BD5-46AE-9F1D-7E45CF656617}  3.287797e+09          NORTH   \n",
       "2  {AEC0E873-A9E6-4C51-995B-589E9368D587}  3.036712e+09           WEST   \n",
       "3  {FC11B41E-DA35-4041-82E3-E3DE1D18052E}  9.854197e+07        CENTRAL   \n",
       "4  {99AB52A5-D98D-47AC-8C6E-989CA7B7FF4D}  1.316292e+09  MIDTOWN-HILLS   \n",
       "\n",
       "        STLength                                           geometry  \n",
       "0  521816.110974  MULTIPOLYGON Z (((-9637158.117 4325329.726 0.0...  \n",
       "1  334750.611226  MULTIPOLYGON Z (((-9674900.996 4349896.956 0.0...  \n",
       "2  314367.315791  MULTIPOLYGON Z (((-9684570.064 4318251.690 0.0...  \n",
       "3   46234.671731  MULTIPOLYGON Z (((-9659776.741 4321136.257 0.0...  \n",
       "4  185915.976901  MULTIPOLYGON Z (((-9667810.747 4306523.185 0.0...  "
      ]
     },
     "execution_count": 43,
     "metadata": {},
     "output_type": "execute_result"
    }
   ],
   "source": [
    "# PERF\n",
    "precinct_polygons.head()"
   ]
  },
  {
   "cell_type": "code",
   "execution_count": 44,
   "id": "16e92b9c-6e65-4cbe-ba02-7f729004a722",
   "metadata": {},
   "outputs": [
    {
     "data": {
      "text/plain": [
       "(9, 5)"
      ]
     },
     "execution_count": 44,
     "metadata": {},
     "output_type": "execute_result"
    }
   ],
   "source": [
    "precinct_polygons.shape"
   ]
  },
  {
   "cell_type": "code",
   "execution_count": 45,
   "id": "c7df3501-85eb-40ae-96e3-e1767e255624",
   "metadata": {},
   "outputs": [],
   "source": [
    "precinct_polygons = precinct_polygons.to_crs(crs='EPSG:4326')"
   ]
  },
  {
   "cell_type": "code",
   "execution_count": 63,
   "id": "f3bf4172-f4a5-4182-8223-90ba3cf76b54",
   "metadata": {},
   "outputs": [
    {
     "name": "stderr",
     "output_type": "stream",
     "text": [
      "C:\\Users\\nunuk\\AppData\\Local\\Temp\\ipykernel_13688\\1905541681.py:1: UserWarning: The indices of the two GeoSeries are different.\n",
      "  precinct_polygons[0:1].contains(incidents_trim[0:5])\n"
     ]
    },
    {
     "data": {
      "text/plain": [
       "0     True\n",
       "1    False\n",
       "2    False\n",
       "3    False\n",
       "4    False\n",
       "dtype: bool"
      ]
     },
     "execution_count": 63,
     "metadata": {},
     "output_type": "execute_result"
    }
   ],
   "source": [
    "precinct_polygons[0:1].contains(incidents_trim[0:5])"
   ]
  },
  {
   "cell_type": "markdown",
   "id": "c6311a9d-d67a-4188-9c4e-65518b159e51",
   "metadata": {
    "jp-MarkdownHeadingCollapsed": true
   },
   "source": [
    "##### doing little maps cause i'm excited :D"
   ]
  },
  {
   "cell_type": "code",
   "execution_count": 47,
   "id": "b76238cb-1075-46e3-aff3-7c4528d830fb",
   "metadata": {},
   "outputs": [
    {
     "data": {
      "text/plain": [
       "<Axes: >"
      ]
     },
     "execution_count": 47,
     "metadata": {},
     "output_type": "execute_result"
    },
    {
     "data": {
      "image/png": "[encoded data removed]",
      "text/plain": [
       "<Figure size 200x200 with 1 Axes>"
      ]
     },
     "metadata": {},
     "output_type": "display_data"
    }
   ],
   "source": [
    "precinct_polygons.plot(figsize=(2,2))"
   ]
  },
  {
   "cell_type": "code",
   "execution_count": 48,
   "id": "5c99a1bd-16ad-43c8-842e-6ec22eeef04e",
   "metadata": {},
   "outputs": [
    {
     "data": {
      "image/png": "[encoded data removed]",
      "text/plain": [
       "<Figure size 400x400 with 1 Axes>"
      ]
     },
     "metadata": {},
     "output_type": "display_data"
    }
   ],
   "source": [
    "# YIPPEE\n",
    "ax = precinct_polygons.plot(figsize=(4,4), color='lightblue')\n",
    "incidents_trim[incidents_trim['inc_yr'] == 2025][0:200].plot(ax = ax);\n",
    "plt.show();"
   ]
  },
  {
   "cell_type": "markdown",
   "id": "63747932-48ff-49fd-ad05-34dfccc8adca",
   "metadata": {},
   "source": [
    "##### back to regularly scheduled programming"
   ]
  },
  {
   "cell_type": "code",
   "execution_count": null,
   "id": "1cc5d040-3ac7-408c-aebc-c4d6a6595e10",
   "metadata": {},
   "outputs": [],
   "source": [
    "# I need to do a spatial join\n",
    "# After my spatial join, I need to eliminate duplicates and join the polygon identifier column to my incidents trim dataframe."
   ]
  },
  {
   "cell_type": "code",
   "execution_count": 50,
   "id": "4f4cbbb8-4cf8-4726-a790-28b931b36a2f",
   "metadata": {},
   "outputs": [
    {
     "data": {
      "text/html": [
       "<div>\n",
       "<style scoped>\n",
       "    .dataframe tbody tr th:only-of-type {\n",
       "        vertical-align: middle;\n",
       "    }\n",
       "\n",
       "    .dataframe tbody tr th {\n",
       "        vertical-align: top;\n",
       "    }\n",
       "\n",
       "    .dataframe thead th {\n",
       "        text-align: right;\n",
       "    }\n",
       "</style>\n",
       "<table border=\"1\" class=\"dataframe\">\n",
       "  <thead>\n",
       "    <tr style=\"text-align: right;\">\n",
       "      <th></th>\n",
       "      <th>primary_key</th>\n",
       "      <th>inc_num</th>\n",
       "      <th>report_desc</th>\n",
       "      <th>inc_status_desc</th>\n",
       "      <th>investigation_status</th>\n",
       "      <th>inc_loc</th>\n",
       "      <th>lat</th>\n",
       "      <th>long</th>\n",
       "      <th>loc_code</th>\n",
       "      <th>loc_desc</th>\n",
       "      <th>offense_num</th>\n",
       "      <th>offense_desc</th>\n",
       "      <th>weapon</th>\n",
       "      <th>v_num</th>\n",
       "      <th>domestic_flag</th>\n",
       "      <th>v_desc</th>\n",
       "      <th>v_gender</th>\n",
       "      <th>v_race</th>\n",
       "      <th>v_ethnicity</th>\n",
       "      <th>v_county_resident</th>\n",
       "      <th>zip</th>\n",
       "      <th>inc_time</th>\n",
       "      <th>report_time</th>\n",
       "      <th>geometry</th>\n",
       "      <th>inc_yr</th>\n",
       "    </tr>\n",
       "  </thead>\n",
       "  <tbody>\n",
       "    <tr>\n",
       "      <th>0</th>\n",
       "      <td>20180005702_23</td>\n",
       "      <td>20180005702</td>\n",
       "      <td>DISPATCHED</td>\n",
       "      <td>OPEN</td>\n",
       "      <td>Open</td>\n",
       "      <td>BELL RD</td>\n",
       "      <td>36.17</td>\n",
       "      <td>-86.6</td>\n",
       "      <td>90</td>\n",
       "      <td>APARTMENT</td>\n",
       "      <td>2.0</td>\n",
       "      <td>WEAPON OFFENSE, CRIMINAL ATTEMPT</td>\n",
       "      <td>HANDGUN</td>\n",
       "      <td>3</td>\n",
       "      <td>No</td>\n",
       "      <td>SOCIETY</td>\n",
       "      <td>None</td>\n",
       "      <td>None</td>\n",
       "      <td>None</td>\n",
       "      <td>None</td>\n",
       "      <td>None</td>\n",
       "      <td>2018-01-03 02:50:00</td>\n",
       "      <td>2018-01-03 04:15:00</td>\n",
       "      <td>POINT (-86.60000 36.17000)</td>\n",
       "      <td>2018</td>\n",
       "    </tr>\n",
       "  </tbody>\n",
       "</table>\n",
       "</div>"
      ],
      "text/plain": [
       "      primary_key      inc_num report_desc inc_status_desc  \\\n",
       "0  20180005702_23  20180005702  DISPATCHED            OPEN   \n",
       "\n",
       "  investigation_status  inc_loc    lat  long loc_code   loc_desc  offense_num  \\\n",
       "0                 Open  BELL RD  36.17 -86.6       90  APARTMENT          2.0   \n",
       "\n",
       "                       offense_desc   weapon  v_num domestic_flag   v_desc  \\\n",
       "0  WEAPON OFFENSE, CRIMINAL ATTEMPT  HANDGUN      3            No  SOCIETY   \n",
       "\n",
       "  v_gender v_race v_ethnicity v_county_resident   zip            inc_time  \\\n",
       "0     None   None        None              None  None 2018-01-03 02:50:00   \n",
       "\n",
       "          report_time                    geometry  inc_yr  \n",
       "0 2018-01-03 04:15:00  POINT (-86.60000 36.17000)    2018  "
      ]
     },
     "execution_count": 50,
     "metadata": {},
     "output_type": "execute_result"
    }
   ],
   "source": [
    "incidents_trim.head(1)"
   ]
  },
  {
   "cell_type": "code",
   "execution_count": 65,
   "id": "65299157-5b14-4b9e-9f51-4c3d2a4da08b",
   "metadata": {},
   "outputs": [
    {
     "data": {
      "text/html": [
       "<div>\n",
       "<style scoped>\n",
       "    .dataframe tbody tr th:only-of-type {\n",
       "        vertical-align: middle;\n",
       "    }\n",
       "\n",
       "    .dataframe tbody tr th {\n",
       "        vertical-align: top;\n",
       "    }\n",
       "\n",
       "    .dataframe thead th {\n",
       "        text-align: right;\n",
       "    }\n",
       "</style>\n",
       "<table border=\"1\" class=\"dataframe\">\n",
       "  <thead>\n",
       "    <tr style=\"text-align: right;\">\n",
       "      <th></th>\n",
       "      <th>primary_key</th>\n",
       "      <th>geometry</th>\n",
       "    </tr>\n",
       "  </thead>\n",
       "  <tbody>\n",
       "    <tr>\n",
       "      <th>0</th>\n",
       "      <td>20180005702_23</td>\n",
       "      <td>POINT (-86.60000 36.17000)</td>\n",
       "    </tr>\n",
       "  </tbody>\n",
       "</table>\n",
       "</div>"
      ],
      "text/plain": [
       "      primary_key                    geometry\n",
       "0  20180005702_23  POINT (-86.60000 36.17000)"
      ]
     },
     "execution_count": 65,
     "metadata": {},
     "output_type": "execute_result"
    }
   ],
   "source": [
    "# I am PRETTY SURE this is all I need from incidents_trim\n",
    "incidents_trim[['primary_key', 'geometry']].head(1)"
   ]
  },
  {
   "cell_type": "code",
   "execution_count": 69,
   "id": "7181cbf9-ced9-476d-995c-30cd89c43290",
   "metadata": {},
   "outputs": [
    {
     "data": {
      "text/html": [
       "<div>\n",
       "<style scoped>\n",
       "    .dataframe tbody tr th:only-of-type {\n",
       "        vertical-align: middle;\n",
       "    }\n",
       "\n",
       "    .dataframe tbody tr th {\n",
       "        vertical-align: top;\n",
       "    }\n",
       "\n",
       "    .dataframe thead th {\n",
       "        text-align: right;\n",
       "    }\n",
       "</style>\n",
       "<table border=\"1\" class=\"dataframe\">\n",
       "  <thead>\n",
       "    <tr style=\"text-align: right;\">\n",
       "      <th></th>\n",
       "      <th>PRECINCT</th>\n",
       "      <th>geometry</th>\n",
       "    </tr>\n",
       "  </thead>\n",
       "  <tbody>\n",
       "    <tr>\n",
       "      <th>0</th>\n",
       "      <td>HERMITAGE</td>\n",
       "      <td>MULTIPOLYGON Z (((-86.57206 36.17936 0.00000, ...</td>\n",
       "    </tr>\n",
       "  </tbody>\n",
       "</table>\n",
       "</div>"
      ],
      "text/plain": [
       "    PRECINCT                                           geometry\n",
       "0  HERMITAGE  MULTIPOLYGON Z (((-86.57206 36.17936 0.00000, ..."
      ]
     },
     "execution_count": 69,
     "metadata": {},
     "output_type": "execute_result"
    }
   ],
   "source": [
    "# Should be it from precinct polygons\n",
    "precinct_polygons[['PRECINCT', 'geometry']].head(1)"
   ]
  },
  {
   "cell_type": "code",
   "execution_count": 71,
   "id": "4308c9ab-c80b-4142-bed7-756a46fe07c5",
   "metadata": {},
   "outputs": [
    {
     "data": {
      "text/html": [
       "<div>\n",
       "<style scoped>\n",
       "    .dataframe tbody tr th:only-of-type {\n",
       "        vertical-align: middle;\n",
       "    }\n",
       "\n",
       "    .dataframe tbody tr th {\n",
       "        vertical-align: top;\n",
       "    }\n",
       "\n",
       "    .dataframe thead th {\n",
       "        text-align: right;\n",
       "    }\n",
       "</style>\n",
       "<table border=\"1\" class=\"dataframe\">\n",
       "  <thead>\n",
       "    <tr style=\"text-align: right;\">\n",
       "      <th></th>\n",
       "      <th>primary_key</th>\n",
       "      <th>geometry</th>\n",
       "      <th>index_right</th>\n",
       "      <th>PRECINCT</th>\n",
       "    </tr>\n",
       "  </thead>\n",
       "  <tbody>\n",
       "    <tr>\n",
       "      <th>0</th>\n",
       "      <td>20180005702_23</td>\n",
       "      <td>POINT (-86.60000 36.17000)</td>\n",
       "      <td>0</td>\n",
       "      <td>HERMITAGE</td>\n",
       "    </tr>\n",
       "    <tr>\n",
       "      <th>1</th>\n",
       "      <td>20180005926_11</td>\n",
       "      <td>POINT (-86.75600 36.26900)</td>\n",
       "      <td>7</td>\n",
       "      <td>MADISON</td>\n",
       "    </tr>\n",
       "    <tr>\n",
       "      <th>2</th>\n",
       "      <td>20180005926_21</td>\n",
       "      <td>POINT (-86.75600 36.26900)</td>\n",
       "      <td>7</td>\n",
       "      <td>MADISON</td>\n",
       "    </tr>\n",
       "    <tr>\n",
       "      <th>3</th>\n",
       "      <td>20180004613_11</td>\n",
       "      <td>POINT (-86.72000 36.14900)</td>\n",
       "      <td>0</td>\n",
       "      <td>HERMITAGE</td>\n",
       "    </tr>\n",
       "    <tr>\n",
       "      <th>4</th>\n",
       "      <td>20180004654_22</td>\n",
       "      <td>POINT (-86.79800 36.16100)</td>\n",
       "      <td>1</td>\n",
       "      <td>NORTH</td>\n",
       "    </tr>\n",
       "    <tr>\n",
       "      <th>5</th>\n",
       "      <td>20180006084_11</td>\n",
       "      <td>POINT (-86.65000 36.09000)</td>\n",
       "      <td>0</td>\n",
       "      <td>HERMITAGE</td>\n",
       "    </tr>\n",
       "    <tr>\n",
       "      <th>6</th>\n",
       "      <td>20180007079_11</td>\n",
       "      <td>POINT (-86.80700 36.16400)</td>\n",
       "      <td>1</td>\n",
       "      <td>NORTH</td>\n",
       "    </tr>\n",
       "    <tr>\n",
       "      <th>7</th>\n",
       "      <td>20180007079_12</td>\n",
       "      <td>POINT (-86.80700 36.16400)</td>\n",
       "      <td>1</td>\n",
       "      <td>NORTH</td>\n",
       "    </tr>\n",
       "    <tr>\n",
       "      <th>8</th>\n",
       "      <td>20180007631_11</td>\n",
       "      <td>POINT (-86.71500 36.09200)</td>\n",
       "      <td>6</td>\n",
       "      <td>SOUTH</td>\n",
       "    </tr>\n",
       "    <tr>\n",
       "      <th>9</th>\n",
       "      <td>20180004767_11</td>\n",
       "      <td>POINT (-86.69800 36.01100)</td>\n",
       "      <td>6</td>\n",
       "      <td>SOUTH</td>\n",
       "    </tr>\n",
       "  </tbody>\n",
       "</table>\n",
       "</div>"
      ],
      "text/plain": [
       "      primary_key                    geometry  index_right   PRECINCT\n",
       "0  20180005702_23  POINT (-86.60000 36.17000)            0  HERMITAGE\n",
       "1  20180005926_11  POINT (-86.75600 36.26900)            7    MADISON\n",
       "2  20180005926_21  POINT (-86.75600 36.26900)            7    MADISON\n",
       "3  20180004613_11  POINT (-86.72000 36.14900)            0  HERMITAGE\n",
       "4  20180004654_22  POINT (-86.79800 36.16100)            1      NORTH\n",
       "5  20180006084_11  POINT (-86.65000 36.09000)            0  HERMITAGE\n",
       "6  20180007079_11  POINT (-86.80700 36.16400)            1      NORTH\n",
       "7  20180007079_12  POINT (-86.80700 36.16400)            1      NORTH\n",
       "8  20180007631_11  POINT (-86.71500 36.09200)            6      SOUTH\n",
       "9  20180004767_11  POINT (-86.69800 36.01100)            6      SOUTH"
      ]
     },
     "execution_count": 71,
     "metadata": {},
     "output_type": "execute_result"
    }
   ],
   "source": [
    "# Testing... looks good\n",
    "gpd.sjoin(incidents_trim[['primary_key', 'geometry']][0:10], precinct_polygons[['PRECINCT', 'geometry']], how='left', predicate='intersects')"
   ]
  },
  {
   "cell_type": "code",
   "execution_count": 74,
   "id": "7e5ebdd1-0692-4499-bbec-e561d189ba67",
   "metadata": {},
   "outputs": [],
   "source": [
    "# Save entire spatial joined dataframe to sjoin for cleaning\n",
    "sjoin = gpd.sjoin(incidents_trim[['primary_key', 'geometry']], precinct_polygons[['PRECINCT', 'geometry']], how='left', predicate='intersects')"
   ]
  },
  {
   "cell_type": "code",
   "execution_count": 75,
   "id": "acfdd377-2a66-420d-9d79-eb5532ecd030",
   "metadata": {},
   "outputs": [
    {
     "data": {
      "text/html": [
       "<div>\n",
       "<style scoped>\n",
       "    .dataframe tbody tr th:only-of-type {\n",
       "        vertical-align: middle;\n",
       "    }\n",
       "\n",
       "    .dataframe tbody tr th {\n",
       "        vertical-align: top;\n",
       "    }\n",
       "\n",
       "    .dataframe thead th {\n",
       "        text-align: right;\n",
       "    }\n",
       "</style>\n",
       "<table border=\"1\" class=\"dataframe\">\n",
       "  <thead>\n",
       "    <tr style=\"text-align: right;\">\n",
       "      <th></th>\n",
       "      <th>primary_key</th>\n",
       "      <th>geometry</th>\n",
       "      <th>index_right</th>\n",
       "      <th>PRECINCT</th>\n",
       "    </tr>\n",
       "  </thead>\n",
       "  <tbody>\n",
       "    <tr>\n",
       "      <th>0</th>\n",
       "      <td>20180005702_23</td>\n",
       "      <td>POINT (-86.60000 36.17000)</td>\n",
       "      <td>0.0</td>\n",
       "      <td>HERMITAGE</td>\n",
       "    </tr>\n",
       "    <tr>\n",
       "      <th>1</th>\n",
       "      <td>20180005926_11</td>\n",
       "      <td>POINT (-86.75600 36.26900)</td>\n",
       "      <td>7.0</td>\n",
       "      <td>MADISON</td>\n",
       "    </tr>\n",
       "    <tr>\n",
       "      <th>2</th>\n",
       "      <td>20180005926_21</td>\n",
       "      <td>POINT (-86.75600 36.26900)</td>\n",
       "      <td>7.0</td>\n",
       "      <td>MADISON</td>\n",
       "    </tr>\n",
       "  </tbody>\n",
       "</table>\n",
       "</div>"
      ],
      "text/plain": [
       "      primary_key                    geometry  index_right   PRECINCT\n",
       "0  20180005702_23  POINT (-86.60000 36.17000)          0.0  HERMITAGE\n",
       "1  20180005926_11  POINT (-86.75600 36.26900)          7.0    MADISON\n",
       "2  20180005926_21  POINT (-86.75600 36.26900)          7.0    MADISON"
      ]
     },
     "execution_count": 75,
     "metadata": {},
     "output_type": "execute_result"
    }
   ],
   "source": [
    "sjoin.head(3)"
   ]
  },
  {
   "cell_type": "code",
   "execution_count": null,
   "id": "0017ece2-5ae4-40e9-87b4-40ce83040330",
   "metadata": {},
   "outputs": [],
   "source": [
    "# Drop index right\n",
    "sjoin.drop(columns='index_right')"
   ]
  },
  {
   "cell_type": "code",
   "execution_count": null,
   "id": "75777430-a713-436a-aee1-01d48e6ada1e",
   "metadata": {},
   "outputs": [],
   "source": [
    "# Drop rows with duplicat 'primary_key' values"
   ]
  },
  {
   "cell_type": "code",
   "execution_count": null,
   "id": "75e34f2e-0694-4ab8-a139-336ee4a94857",
   "metadata": {},
   "outputs": [],
   "source": [
    "# Join back to incidents"
   ]
  }
 ],
 "metadata": {
  "kernelspec": {
   "display_name": "Python [conda env:geospatial] *",
   "language": "python",
   "name": "conda-env-geospatial-py"
  },
  "language_info": {
   "codemirror_mode": {
    "name": "ipython",
    "version": 3
   },
   "file_extension": ".py",
   "mimetype": "text/x-python",
   "name": "python",
   "nbconvert_exporter": "python",
   "pygments_lexer": "ipython3",
   "version": "3.10.17"
  }
 },
 "nbformat": 4,
 "nbformat_minor": 5
}
