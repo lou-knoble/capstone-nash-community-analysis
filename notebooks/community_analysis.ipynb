{
 "cells": [
  {
   "cell_type": "code",
   "execution_count": 1,
   "id": "4ce92ee1-7a16-4083-8f9c-4445f28f44c3",
   "metadata": {},
   "outputs": [],
   "source": [
    "import pandas as pd\n",
    "pd.set_option('display.max_columns', None)"
   ]
  },
  {
   "cell_type": "code",
   "execution_count": 2,
   "id": "f5085079-8ac4-4ee6-a099-c3ea0fe7407f",
   "metadata": {},
   "outputs": [],
   "source": [
    "# geospatial\n",
    "import geopandas as gpd\n",
    "import matplotlib.pyplot as plt\n",
    "import folium\n",
    "from folium.plugins import MarkerCluster\n",
    "from folium.plugins import FastMarkerCluster"
   ]
  },
  {
   "cell_type": "markdown",
   "id": "44404f99-4087-475e-8b2a-f82c179cd243",
   "metadata": {},
   "source": [
    "## Nashville Crime and <b>Community Amenities</b> Analysis\n",
    "\n",
    "This project will be an examination of how crime and accessibility of community resources vary\n",
    "across communities in Nashville and if there are any patterns or correlations to be found\n",
    "between them. I believe that it could shed light on how underprivileged communities with less\n",
    "access to amenities such as housing, green areas, and other resources influence crime rates.\n",
    "The data to be used in this analysis will include local data to Nashville and Davidson county,\n",
    "much of which is obtained through the Nashville Open Data Portal online.\n",
    "\n",
    "<h5><b>Data Question</b></h5>\n",
    "How does crime in Nashville vary across neighborhoods with different community resources,\n",
    "and what correlations or patterns are there?"
   ]
  },
  {
   "cell_type": "markdown",
   "id": "72f6afd3-80f1-4415-8bb3-4867f1a707ff",
   "metadata": {},
   "source": [
    "### Exploration & Cleaning"
   ]
  },
  {
   "cell_type": "markdown",
   "id": "ecde9970-758f-4923-a000-c854c470bd49",
   "metadata": {
    "jp-MarkdownHeadingCollapsed": true
   },
   "source": [
    "#### Greenways Data"
   ]
  },
  {
   "cell_type": "code",
   "execution_count": 3,
   "id": "ab4d0b1b-a427-4e8a-a1db-4d8983328e96",
   "metadata": {},
   "outputs": [],
   "source": [
    "greenways = gpd.read_file('../data/Greenways.geojson')"
   ]
  },
  {
   "cell_type": "code",
   "execution_count": 4,
   "id": "bec88879-919a-4ac9-b79a-56f6bf6fdae7",
   "metadata": {},
   "outputs": [
    {
     "data": {
      "text/plain": [
       "(166, 12)"
      ]
     },
     "execution_count": 4,
     "metadata": {},
     "output_type": "execute_result"
    }
   ],
   "source": [
    "greenways.shape"
   ]
  },
  {
   "cell_type": "code",
   "execution_count": 5,
   "id": "88a65d12-3b58-4fc0-9e72-9dbd740377ea",
   "metadata": {},
   "outputs": [
    {
     "data": {
      "text/html": [
       "<div>\n",
       "<style scoped>\n",
       "    .dataframe tbody tr th:only-of-type {\n",
       "        vertical-align: middle;\n",
       "    }\n",
       "\n",
       "    .dataframe tbody tr th {\n",
       "        vertical-align: top;\n",
       "    }\n",
       "\n",
       "    .dataframe thead th {\n",
       "        text-align: right;\n",
       "    }\n",
       "</style>\n",
       "<table border=\"1\" class=\"dataframe\">\n",
       "  <thead>\n",
       "    <tr style=\"text-align: right;\">\n",
       "      <th></th>\n",
       "      <th>GlobalID</th>\n",
       "      <th>Difficulty</th>\n",
       "      <th>SurfaceMaterial</th>\n",
       "      <th>Greenway</th>\n",
       "      <th>GreenwayTrailName</th>\n",
       "      <th>Mileage</th>\n",
       "      <th>Description</th>\n",
       "      <th>OwnedBy</th>\n",
       "      <th>GreenwayType</th>\n",
       "      <th>YearBuilt</th>\n",
       "      <th>OBJECTID</th>\n",
       "      <th>geometry</th>\n",
       "    </tr>\n",
       "  </thead>\n",
       "  <tbody>\n",
       "    <tr>\n",
       "      <th>0</th>\n",
       "      <td>9ab32307-9255-42bb-98b3-bcc9ee9e4577</td>\n",
       "      <td>None</td>\n",
       "      <td>Paved</td>\n",
       "      <td>Mill Creek Greenway</td>\n",
       "      <td>Orchard Bend Park</td>\n",
       "      <td>0.083224</td>\n",
       "      <td>Turner</td>\n",
       "      <td>None</td>\n",
       "      <td>Greenway</td>\n",
       "      <td>NaN</td>\n",
       "      <td>28</td>\n",
       "      <td>LINESTRING Z (-86.66974 36.02465 0.00000, -86....</td>\n",
       "    </tr>\n",
       "    <tr>\n",
       "      <th>1</th>\n",
       "      <td>05caea61-9112-419e-bb95-70c0284ee52d</td>\n",
       "      <td></td>\n",
       "      <td>Paved</td>\n",
       "      <td>Cumberland River Greenway</td>\n",
       "      <td>Brookemeade Park</td>\n",
       "      <td>0.364287</td>\n",
       "      <td>Trail To Kelley's Point, Cumberland River Over...</td>\n",
       "      <td>Metro</td>\n",
       "      <td>Multi-use</td>\n",
       "      <td>2005.0</td>\n",
       "      <td>494</td>\n",
       "      <td>MULTILINESTRING Z ((-86.90419 36.13075 0.00000...</td>\n",
       "    </tr>\n",
       "    <tr>\n",
       "      <th>2</th>\n",
       "      <td>09adeb86-5a30-449f-b88f-271c284dad9a</td>\n",
       "      <td></td>\n",
       "      <td>Paved</td>\n",
       "      <td>Cumberland River Greenway</td>\n",
       "      <td>Downtown</td>\n",
       "      <td>0.650000</td>\n",
       "      <td>Trail connecting the riverfront to Bicentenial...</td>\n",
       "      <td>Metro</td>\n",
       "      <td>Multi-use</td>\n",
       "      <td>2001.0</td>\n",
       "      <td>495</td>\n",
       "      <td>MULTILINESTRING Z ((-86.78201 36.17455 0.00000...</td>\n",
       "    </tr>\n",
       "    <tr>\n",
       "      <th>3</th>\n",
       "      <td>569f7bb2-4333-4e31-8c52-471c454aa5a9</td>\n",
       "      <td></td>\n",
       "      <td>Paved</td>\n",
       "      <td>Cumberland River Greenway</td>\n",
       "      <td>Downtown</td>\n",
       "      <td>0.542944</td>\n",
       "      <td>Rolling Mill Hill overlook. Connects to Ascend...</td>\n",
       "      <td>Metro</td>\n",
       "      <td>Multi-use</td>\n",
       "      <td>2013.0</td>\n",
       "      <td>496</td>\n",
       "      <td>LINESTRING Z (-86.76469 36.15531 0.00000, -86....</td>\n",
       "    </tr>\n",
       "    <tr>\n",
       "      <th>4</th>\n",
       "      <td>a401702f-5ba2-453c-a4eb-4907e61fa33d</td>\n",
       "      <td></td>\n",
       "      <td>Paved</td>\n",
       "      <td>Cumberland River Greenway</td>\n",
       "      <td>Metro Center Levee - Catfish Tunnel to Freelan...</td>\n",
       "      <td>1.495068</td>\n",
       "      <td>Main Trail</td>\n",
       "      <td>Metro</td>\n",
       "      <td>Multi-use</td>\n",
       "      <td>2004.0</td>\n",
       "      <td>498</td>\n",
       "      <td>MULTILINESTRING Z ((-86.80091 36.20110 0.00000...</td>\n",
       "    </tr>\n",
       "  </tbody>\n",
       "</table>\n",
       "</div>"
      ],
      "text/plain": [
       "                               GlobalID Difficulty SurfaceMaterial  \\\n",
       "0  9ab32307-9255-42bb-98b3-bcc9ee9e4577       None           Paved   \n",
       "1  05caea61-9112-419e-bb95-70c0284ee52d                      Paved   \n",
       "2  09adeb86-5a30-449f-b88f-271c284dad9a                      Paved   \n",
       "3  569f7bb2-4333-4e31-8c52-471c454aa5a9                      Paved   \n",
       "4  a401702f-5ba2-453c-a4eb-4907e61fa33d                      Paved   \n",
       "\n",
       "                    Greenway  \\\n",
       "0        Mill Creek Greenway   \n",
       "1  Cumberland River Greenway   \n",
       "2  Cumberland River Greenway   \n",
       "3  Cumberland River Greenway   \n",
       "4  Cumberland River Greenway   \n",
       "\n",
       "                                   GreenwayTrailName   Mileage  \\\n",
       "0                                  Orchard Bend Park  0.083224   \n",
       "1                                   Brookemeade Park  0.364287   \n",
       "2                                           Downtown  0.650000   \n",
       "3                                           Downtown  0.542944   \n",
       "4  Metro Center Levee - Catfish Tunnel to Freelan...  1.495068   \n",
       "\n",
       "                                         Description OwnedBy GreenwayType  \\\n",
       "0                                             Turner    None     Greenway   \n",
       "1  Trail To Kelley's Point, Cumberland River Over...   Metro    Multi-use   \n",
       "2  Trail connecting the riverfront to Bicentenial...   Metro    Multi-use   \n",
       "3  Rolling Mill Hill overlook. Connects to Ascend...   Metro    Multi-use   \n",
       "4                                         Main Trail   Metro    Multi-use   \n",
       "\n",
       "   YearBuilt  OBJECTID                                           geometry  \n",
       "0        NaN        28  LINESTRING Z (-86.66974 36.02465 0.00000, -86....  \n",
       "1     2005.0       494  MULTILINESTRING Z ((-86.90419 36.13075 0.00000...  \n",
       "2     2001.0       495  MULTILINESTRING Z ((-86.78201 36.17455 0.00000...  \n",
       "3     2013.0       496  LINESTRING Z (-86.76469 36.15531 0.00000, -86....  \n",
       "4     2004.0       498  MULTILINESTRING Z ((-86.80091 36.20110 0.00000...  "
      ]
     },
     "execution_count": 5,
     "metadata": {},
     "output_type": "execute_result"
    }
   ],
   "source": [
    "greenways.head()"
   ]
  },
  {
   "cell_type": "code",
   "execution_count": 6,
   "id": "2b461ade-965d-4fb9-ac5f-ea24ea5159d0",
   "metadata": {},
   "outputs": [
    {
     "data": {
      "text/plain": [
       "0.5055526892168675"
      ]
     },
     "execution_count": 6,
     "metadata": {},
     "output_type": "execute_result"
    }
   ],
   "source": [
    "greenways['Mileage'].mean()"
   ]
  },
  {
   "cell_type": "code",
   "execution_count": 7,
   "id": "e931d585-8a44-4a5c-914d-e90752f686ef",
   "metadata": {},
   "outputs": [
    {
     "data": {
      "text/plain": [
       "GreenwayType\n",
       "Multi-use     147\n",
       "Primitive       8\n",
       "Greenway        4\n",
       "Park Trail      4\n",
       "Multi use       1\n",
       "Name: count, dtype: int64"
      ]
     },
     "execution_count": 7,
     "metadata": {},
     "output_type": "execute_result"
    }
   ],
   "source": [
    "greenways['GreenwayType'].value_counts()"
   ]
  },
  {
   "cell_type": "code",
   "execution_count": 8,
   "id": "f79f435b-02b9-4b5a-8e24-fa0b9de46c8e",
   "metadata": {},
   "outputs": [
    {
     "data": {
      "text/html": [
       "<div>\n",
       "<style scoped>\n",
       "    .dataframe tbody tr th:only-of-type {\n",
       "        vertical-align: middle;\n",
       "    }\n",
       "\n",
       "    .dataframe tbody tr th {\n",
       "        vertical-align: top;\n",
       "    }\n",
       "\n",
       "    .dataframe thead th {\n",
       "        text-align: right;\n",
       "    }\n",
       "</style>\n",
       "<table border=\"1\" class=\"dataframe\">\n",
       "  <thead>\n",
       "    <tr style=\"text-align: right;\">\n",
       "      <th></th>\n",
       "      <th>GlobalID</th>\n",
       "      <th>Difficulty</th>\n",
       "      <th>SurfaceMaterial</th>\n",
       "      <th>Greenway</th>\n",
       "      <th>GreenwayTrailName</th>\n",
       "      <th>Mileage</th>\n",
       "      <th>Description</th>\n",
       "      <th>OwnedBy</th>\n",
       "      <th>GreenwayType</th>\n",
       "      <th>YearBuilt</th>\n",
       "      <th>OBJECTID</th>\n",
       "      <th>geometry</th>\n",
       "    </tr>\n",
       "  </thead>\n",
       "  <tbody>\n",
       "    <tr>\n",
       "      <th>22</th>\n",
       "      <td>fab7c10b-4124-4455-aec9-2f1ca958da17</td>\n",
       "      <td></td>\n",
       "      <td>Unpaved</td>\n",
       "      <td>Stones River Greenway</td>\n",
       "      <td>YMCA Connector</td>\n",
       "      <td>0.270000</td>\n",
       "      <td>Primitive Trail</td>\n",
       "      <td>Metro</td>\n",
       "      <td>Primitive</td>\n",
       "      <td>2005.0</td>\n",
       "      <td>527</td>\n",
       "      <td>MULTILINESTRING Z ((-86.64245 36.17312 0.00000...</td>\n",
       "    </tr>\n",
       "    <tr>\n",
       "      <th>73</th>\n",
       "      <td>c901e8ed-241f-446e-a050-e93f3cfb0204</td>\n",
       "      <td></td>\n",
       "      <td>Unpaved</td>\n",
       "      <td>Seven Mile Creek Greenway</td>\n",
       "      <td>Ellington Segment</td>\n",
       "      <td>0.300000</td>\n",
       "      <td>Primitive Trail</td>\n",
       "      <td>Metro</td>\n",
       "      <td>Primitive</td>\n",
       "      <td>2008.0</td>\n",
       "      <td>587</td>\n",
       "      <td>LINESTRING Z (-86.74239 36.05957 0.00000, -86....</td>\n",
       "    </tr>\n",
       "    <tr>\n",
       "      <th>100</th>\n",
       "      <td>9d61407e-35a0-47e9-b554-f117aadfe712</td>\n",
       "      <td>Moderate</td>\n",
       "      <td>Unpaved</td>\n",
       "      <td>Cumberland River Greenway</td>\n",
       "      <td>Crooked Branch Park</td>\n",
       "      <td>0.363730</td>\n",
       "      <td>Primitive Trail</td>\n",
       "      <td>Metro</td>\n",
       "      <td>Primitive</td>\n",
       "      <td>2013.0</td>\n",
       "      <td>622</td>\n",
       "      <td>LINESTRING Z (-86.64651 36.24079 0.00000, -86....</td>\n",
       "    </tr>\n",
       "    <tr>\n",
       "      <th>101</th>\n",
       "      <td>e438f7e5-9958-4029-9dfc-f490168c8c2a</td>\n",
       "      <td>Moderate</td>\n",
       "      <td>Unpaved</td>\n",
       "      <td>Cumberland River Greenway</td>\n",
       "      <td>Crooked Branch Park</td>\n",
       "      <td>0.066660</td>\n",
       "      <td>Primitive Trail</td>\n",
       "      <td>Metro</td>\n",
       "      <td>Primitive</td>\n",
       "      <td>2013.0</td>\n",
       "      <td>623</td>\n",
       "      <td>LINESTRING Z (-86.65017 36.23859 0.00000, -86....</td>\n",
       "    </tr>\n",
       "    <tr>\n",
       "      <th>102</th>\n",
       "      <td>85142b4f-ae8a-4efa-b97a-bdb066b710f2</td>\n",
       "      <td>Moderate</td>\n",
       "      <td>Unpaved</td>\n",
       "      <td>Cumberland River Greenway</td>\n",
       "      <td>Crooked Branch Park</td>\n",
       "      <td>0.065186</td>\n",
       "      <td>Primitive Trail</td>\n",
       "      <td>Metro</td>\n",
       "      <td>Primitive</td>\n",
       "      <td>2013.0</td>\n",
       "      <td>624</td>\n",
       "      <td>LINESTRING Z (-86.64885 36.24095 0.00000, -86....</td>\n",
       "    </tr>\n",
       "    <tr>\n",
       "      <th>107</th>\n",
       "      <td>90a60d9a-62f4-4d3b-83e6-c79993bd48c2</td>\n",
       "      <td></td>\n",
       "      <td>Unpaved</td>\n",
       "      <td>Shelby Bottoms Greenway</td>\n",
       "      <td>Cornelia Fort Connector - north</td>\n",
       "      <td>0.150000</td>\n",
       "      <td>Primitive Trail</td>\n",
       "      <td>Metro</td>\n",
       "      <td>Primitive</td>\n",
       "      <td>2013.0</td>\n",
       "      <td>630</td>\n",
       "      <td>LINESTRING Z (-86.69688 36.19271 0.00000, -86....</td>\n",
       "    </tr>\n",
       "    <tr>\n",
       "      <th>122</th>\n",
       "      <td>052a950b-03f9-4d74-a5fa-2b4ad3367b87</td>\n",
       "      <td></td>\n",
       "      <td>Unpaved</td>\n",
       "      <td>Seven Mile Creek Greenway</td>\n",
       "      <td>Caldwell Park Trail</td>\n",
       "      <td>0.463627</td>\n",
       "      <td>Primitive Loop Trail</td>\n",
       "      <td>Metro</td>\n",
       "      <td>Primitive</td>\n",
       "      <td>2013.0</td>\n",
       "      <td>647</td>\n",
       "      <td>LINESTRING Z (-86.72752 36.07779 0.00000, -86....</td>\n",
       "    </tr>\n",
       "    <tr>\n",
       "      <th>158</th>\n",
       "      <td>09412bc8-15ef-41e6-abd9-1c8ac9620cff</td>\n",
       "      <td>None</td>\n",
       "      <td>Unpaved</td>\n",
       "      <td>Bells Bend Greenway</td>\n",
       "      <td>Dove Farm Loop Trail</td>\n",
       "      <td>1.940000</td>\n",
       "      <td>None</td>\n",
       "      <td>None</td>\n",
       "      <td>Primitive</td>\n",
       "      <td>NaN</td>\n",
       "      <td>3770</td>\n",
       "      <td>LINESTRING Z (-86.92665 36.15633 0.00000, -86....</td>\n",
       "    </tr>\n",
       "    <tr>\n",
       "      <th>159</th>\n",
       "      <td>c56e10e2-d9b0-4a4c-84f8-93cc968d0577</td>\n",
       "      <td>None</td>\n",
       "      <td>Unpaved</td>\n",
       "      <td>Bells Bend Greenway</td>\n",
       "      <td>River Loop Trail</td>\n",
       "      <td>2.450000</td>\n",
       "      <td>None</td>\n",
       "      <td>None</td>\n",
       "      <td>None</td>\n",
       "      <td>NaN</td>\n",
       "      <td>3777</td>\n",
       "      <td>MULTILINESTRING Z ((-86.92475 36.14349 0.00000...</td>\n",
       "    </tr>\n",
       "  </tbody>\n",
       "</table>\n",
       "</div>"
      ],
      "text/plain": [
       "                                 GlobalID Difficulty SurfaceMaterial  \\\n",
       "22   fab7c10b-4124-4455-aec9-2f1ca958da17                    Unpaved   \n",
       "73   c901e8ed-241f-446e-a050-e93f3cfb0204                    Unpaved   \n",
       "100  9d61407e-35a0-47e9-b554-f117aadfe712   Moderate         Unpaved   \n",
       "101  e438f7e5-9958-4029-9dfc-f490168c8c2a   Moderate         Unpaved   \n",
       "102  85142b4f-ae8a-4efa-b97a-bdb066b710f2   Moderate         Unpaved   \n",
       "107  90a60d9a-62f4-4d3b-83e6-c79993bd48c2                    Unpaved   \n",
       "122  052a950b-03f9-4d74-a5fa-2b4ad3367b87                    Unpaved   \n",
       "158  09412bc8-15ef-41e6-abd9-1c8ac9620cff       None         Unpaved   \n",
       "159  c56e10e2-d9b0-4a4c-84f8-93cc968d0577       None         Unpaved   \n",
       "\n",
       "                      Greenway                GreenwayTrailName   Mileage  \\\n",
       "22       Stones River Greenway                   YMCA Connector  0.270000   \n",
       "73   Seven Mile Creek Greenway                Ellington Segment  0.300000   \n",
       "100  Cumberland River Greenway              Crooked Branch Park  0.363730   \n",
       "101  Cumberland River Greenway              Crooked Branch Park  0.066660   \n",
       "102  Cumberland River Greenway              Crooked Branch Park  0.065186   \n",
       "107    Shelby Bottoms Greenway  Cornelia Fort Connector - north  0.150000   \n",
       "122  Seven Mile Creek Greenway              Caldwell Park Trail  0.463627   \n",
       "158        Bells Bend Greenway             Dove Farm Loop Trail  1.940000   \n",
       "159        Bells Bend Greenway                 River Loop Trail  2.450000   \n",
       "\n",
       "              Description OwnedBy GreenwayType  YearBuilt  OBJECTID  \\\n",
       "22        Primitive Trail   Metro    Primitive     2005.0       527   \n",
       "73        Primitive Trail   Metro    Primitive     2008.0       587   \n",
       "100       Primitive Trail   Metro    Primitive     2013.0       622   \n",
       "101       Primitive Trail   Metro    Primitive     2013.0       623   \n",
       "102       Primitive Trail   Metro    Primitive     2013.0       624   \n",
       "107       Primitive Trail   Metro    Primitive     2013.0       630   \n",
       "122  Primitive Loop Trail   Metro    Primitive     2013.0       647   \n",
       "158                  None    None    Primitive        NaN      3770   \n",
       "159                  None    None         None        NaN      3777   \n",
       "\n",
       "                                              geometry  \n",
       "22   MULTILINESTRING Z ((-86.64245 36.17312 0.00000...  \n",
       "73   LINESTRING Z (-86.74239 36.05957 0.00000, -86....  \n",
       "100  LINESTRING Z (-86.64651 36.24079 0.00000, -86....  \n",
       "101  LINESTRING Z (-86.65017 36.23859 0.00000, -86....  \n",
       "102  LINESTRING Z (-86.64885 36.24095 0.00000, -86....  \n",
       "107  LINESTRING Z (-86.69688 36.19271 0.00000, -86....  \n",
       "122  LINESTRING Z (-86.72752 36.07779 0.00000, -86....  \n",
       "158  LINESTRING Z (-86.92665 36.15633 0.00000, -86....  \n",
       "159  MULTILINESTRING Z ((-86.92475 36.14349 0.00000...  "
      ]
     },
     "execution_count": 8,
     "metadata": {},
     "output_type": "execute_result"
    }
   ],
   "source": [
    "greenways[greenways['SurfaceMaterial'] == 'Unpaved']"
   ]
  },
  {
   "cell_type": "markdown",
   "id": "d9ba1c1f-c187-4036-9553-fa894b7f652d",
   "metadata": {
    "jp-MarkdownHeadingCollapsed": true
   },
   "source": [
    "##### Exploring"
   ]
  },
  {
   "cell_type": "markdown",
   "id": "4d265c6a-9d29-4723-a826-b23d4cb0f370",
   "metadata": {},
   "source": [
    "<b>Difficulty:</b> Difficulty of greenway traversal<br>\n",
    "<b>Surface Material:</b> Greenways surface material<br>\n",
    "<b>Greenway:</b> Greenway name<br>\n",
    "<b>Greenway Segment:</b> Greenway segments name<br>\n",
    "<b>Mileage:</b> Length of greenway segment in miles<br>\n",
    "<b>Description:</b> Description of greenway segment<br>\n",
    "<b>Owned By:</b> Owner of greenway segment<br>\n",
    "<b>Greenway Type:</b> Type of greenway<br>\n",
    "<b>Year Built:</b> The year that the greenway segment was constructed"
   ]
  },
  {
   "cell_type": "markdown",
   "id": "60d4ac2c-a4ab-44b1-9c7c-f96d05f5d277",
   "metadata": {
    "jp-MarkdownHeadingCollapsed": true
   },
   "source": [
    "#### Park Trails"
   ]
  },
  {
   "cell_type": "code",
   "execution_count": 9,
   "id": "3fe4320c-6820-4013-a60b-06e2878e2d23",
   "metadata": {},
   "outputs": [],
   "source": [
    "trails = gpd.read_file('../data/Park_Trails_-3337017347785075052.geojson')"
   ]
  },
  {
   "cell_type": "code",
   "execution_count": 10,
   "id": "5dbfad0f-cef5-4423-91a1-b0df9cca287b",
   "metadata": {},
   "outputs": [
    {
     "data": {
      "text/html": [
       "<div>\n",
       "<style scoped>\n",
       "    .dataframe tbody tr th:only-of-type {\n",
       "        vertical-align: middle;\n",
       "    }\n",
       "\n",
       "    .dataframe tbody tr th {\n",
       "        vertical-align: top;\n",
       "    }\n",
       "\n",
       "    .dataframe thead th {\n",
       "        text-align: right;\n",
       "    }\n",
       "</style>\n",
       "<table border=\"1\" class=\"dataframe\">\n",
       "  <thead>\n",
       "    <tr style=\"text-align: right;\">\n",
       "      <th></th>\n",
       "      <th>GlobalID</th>\n",
       "      <th>TrailName</th>\n",
       "      <th>TrailType</th>\n",
       "      <th>Description</th>\n",
       "      <th>Mileage</th>\n",
       "      <th>Difficulty</th>\n",
       "      <th>SurfaceMaterial</th>\n",
       "      <th>YearBuilt</th>\n",
       "      <th>PARK_ID</th>\n",
       "      <th>OBJECTID</th>\n",
       "      <th>geometry</th>\n",
       "    </tr>\n",
       "  </thead>\n",
       "  <tbody>\n",
       "    <tr>\n",
       "      <th>0</th>\n",
       "      <td>8be583ca-e2b5-4b84-898e-e1f6dac6d70f</td>\n",
       "      <td>Access Trail</td>\n",
       "      <td>Mountain Bike Trail</td>\n",
       "      <td></td>\n",
       "      <td>0.108945</td>\n",
       "      <td></td>\n",
       "      <td>Unpaved</td>\n",
       "      <td>NaN</td>\n",
       "      <td>PARK_172</td>\n",
       "      <td>1</td>\n",
       "      <td>LINESTRING (-86.62429 36.10385, -86.62431 36.1...</td>\n",
       "    </tr>\n",
       "    <tr>\n",
       "      <th>1</th>\n",
       "      <td>d7dda5a8-d7ce-4ff2-8b4f-8cc330c56a4f</td>\n",
       "      <td>East/West Connector</td>\n",
       "      <td>Mountain Bike Trail</td>\n",
       "      <td></td>\n",
       "      <td>0.194277</td>\n",
       "      <td></td>\n",
       "      <td>Unpaved</td>\n",
       "      <td>NaN</td>\n",
       "      <td>PARK_172</td>\n",
       "      <td>2</td>\n",
       "      <td>LINESTRING (-86.62397 36.09706, -86.62403 36.0...</td>\n",
       "    </tr>\n",
       "    <tr>\n",
       "      <th>2</th>\n",
       "      <td>94402a26-c5b4-436e-9dc9-c358ee680896</td>\n",
       "      <td>Cane Ridge Mountain Bike Trail</td>\n",
       "      <td>Mountain Bike Trail</td>\n",
       "      <td></td>\n",
       "      <td>0.005279</td>\n",
       "      <td></td>\n",
       "      <td>Unpaved</td>\n",
       "      <td>NaN</td>\n",
       "      <td>PARK_47</td>\n",
       "      <td>3</td>\n",
       "      <td>LINESTRING (-86.61937 35.99142, -86.61928 35.9...</td>\n",
       "    </tr>\n",
       "    <tr>\n",
       "      <th>3</th>\n",
       "      <td>38ef5ccb-3509-4f7c-aba8-b0c3f6d80c47</td>\n",
       "      <td>Cane Ridge Mountain Bike Trail</td>\n",
       "      <td>Mountain Bike Trail</td>\n",
       "      <td></td>\n",
       "      <td>0.002665</td>\n",
       "      <td></td>\n",
       "      <td>Unpaved</td>\n",
       "      <td>NaN</td>\n",
       "      <td>PARK_47</td>\n",
       "      <td>4</td>\n",
       "      <td>LINESTRING (-86.61928 35.99140, -86.61923 35.9...</td>\n",
       "    </tr>\n",
       "    <tr>\n",
       "      <th>4</th>\n",
       "      <td>3da17cbb-3094-4077-94a9-a21d09ad6928</td>\n",
       "      <td>Cane Ridge Mountain Bike Trail</td>\n",
       "      <td>Mountain Bike Trail</td>\n",
       "      <td></td>\n",
       "      <td>0.023682</td>\n",
       "      <td></td>\n",
       "      <td>Unpaved</td>\n",
       "      <td>NaN</td>\n",
       "      <td>PARK_47</td>\n",
       "      <td>5</td>\n",
       "      <td>LINESTRING (-86.61923 35.99139, -86.61920 35.9...</td>\n",
       "    </tr>\n",
       "  </tbody>\n",
       "</table>\n",
       "</div>"
      ],
      "text/plain": [
       "                               GlobalID                       TrailName  \\\n",
       "0  8be583ca-e2b5-4b84-898e-e1f6dac6d70f                    Access Trail   \n",
       "1  d7dda5a8-d7ce-4ff2-8b4f-8cc330c56a4f             East/West Connector   \n",
       "2  94402a26-c5b4-436e-9dc9-c358ee680896  Cane Ridge Mountain Bike Trail   \n",
       "3  38ef5ccb-3509-4f7c-aba8-b0c3f6d80c47  Cane Ridge Mountain Bike Trail   \n",
       "4  3da17cbb-3094-4077-94a9-a21d09ad6928  Cane Ridge Mountain Bike Trail   \n",
       "\n",
       "             TrailType Description   Mileage Difficulty SurfaceMaterial  \\\n",
       "0  Mountain Bike Trail              0.108945                    Unpaved   \n",
       "1  Mountain Bike Trail              0.194277                    Unpaved   \n",
       "2  Mountain Bike Trail              0.005279                    Unpaved   \n",
       "3  Mountain Bike Trail              0.002665                    Unpaved   \n",
       "4  Mountain Bike Trail              0.023682                    Unpaved   \n",
       "\n",
       "   YearBuilt   PARK_ID  OBJECTID  \\\n",
       "0        NaN  PARK_172         1   \n",
       "1        NaN  PARK_172         2   \n",
       "2        NaN   PARK_47         3   \n",
       "3        NaN   PARK_47         4   \n",
       "4        NaN   PARK_47         5   \n",
       "\n",
       "                                            geometry  \n",
       "0  LINESTRING (-86.62429 36.10385, -86.62431 36.1...  \n",
       "1  LINESTRING (-86.62397 36.09706, -86.62403 36.0...  \n",
       "2  LINESTRING (-86.61937 35.99142, -86.61928 35.9...  \n",
       "3  LINESTRING (-86.61928 35.99140, -86.61923 35.9...  \n",
       "4  LINESTRING (-86.61923 35.99139, -86.61920 35.9...  "
      ]
     },
     "execution_count": 10,
     "metadata": {},
     "output_type": "execute_result"
    }
   ],
   "source": [
    "trails.head()"
   ]
  },
  {
   "cell_type": "code",
   "execution_count": 11,
   "id": "3a740fc0-73bb-4ed6-b522-6685f43a389a",
   "metadata": {},
   "outputs": [
    {
     "data": {
      "text/plain": [
       "(238, 11)"
      ]
     },
     "execution_count": 11,
     "metadata": {},
     "output_type": "execute_result"
    }
   ],
   "source": [
    "trails.shape"
   ]
  },
  {
   "cell_type": "code",
   "execution_count": 12,
   "id": "9ee5d069-4a0a-4083-a0f8-079c8254f1b6",
   "metadata": {},
   "outputs": [
    {
     "data": {
      "text/plain": [
       "TrailType\n",
       "Park Trail             80\n",
       "Primitive              80\n",
       "Mountain Bike Trail    35\n",
       "Horse Trail            31\n",
       "Multi-use              11\n",
       "Name: count, dtype: int64"
      ]
     },
     "execution_count": 12,
     "metadata": {},
     "output_type": "execute_result"
    }
   ],
   "source": [
    "trails['TrailType'].value_counts()"
   ]
  },
  {
   "cell_type": "markdown",
   "id": "e852db06-b7ae-4ce1-ba9a-a9d49d6651f7",
   "metadata": {
    "jp-MarkdownHeadingCollapsed": true
   },
   "source": [
    "#### Combining Greenways and Park Trails"
   ]
  },
  {
   "cell_type": "code",
   "execution_count": 13,
   "id": "80148e36-21e7-426a-9385-58c5e38c16ba",
   "metadata": {},
   "outputs": [
    {
     "name": "stdout",
     "output_type": "stream",
     "text": [
      "DROP: Greenway\n",
      "DROP: GreenwayTrailName\n",
      "DROP: OwnedBy\n",
      "DROP: GreenwayType\n"
     ]
    }
   ],
   "source": [
    "# Looking for common Columns\n",
    "common_cols_a = []\n",
    "for x in list(greenways.columns):\n",
    "    if x in list(trails.columns):\n",
    "        common_cols_a.append(x)\n",
    "    else:\n",
    "        print('DROP: ' + str(x))"
   ]
  },
  {
   "cell_type": "code",
   "execution_count": 14,
   "id": "eec29c07-0e83-4b47-a60e-8b793bbeae40",
   "metadata": {},
   "outputs": [
    {
     "name": "stdout",
     "output_type": "stream",
     "text": [
      "['Description', 'Difficulty', 'GlobalID', 'Mileage', 'OBJECTID', 'SurfaceMaterial', 'YearBuilt', 'geometry']\n"
     ]
    }
   ],
   "source": [
    "common_cols_a.sort()\n",
    "print(common_cols_a)"
   ]
  },
  {
   "cell_type": "code",
   "execution_count": 15,
   "id": "c585d0bb-e5a0-46a2-ba1c-406278803ed0",
   "metadata": {},
   "outputs": [
    {
     "name": "stdout",
     "output_type": "stream",
     "text": [
      "DROP: TrailName\n",
      "DROP: TrailType\n",
      "DROP: PARK_ID\n"
     ]
    }
   ],
   "source": [
    "# Checking Reverse\n",
    "common_cols_b = []\n",
    "for x in list(trails.columns):\n",
    "    if x in list(greenways.columns):\n",
    "        common_cols_b.append(x)\n",
    "    else:\n",
    "        print('DROP: ' + str(x))"
   ]
  },
  {
   "cell_type": "code",
   "execution_count": 16,
   "id": "e71a68d5-61f2-402c-8b22-003eef87119a",
   "metadata": {},
   "outputs": [
    {
     "name": "stdout",
     "output_type": "stream",
     "text": [
      "['Description', 'Difficulty', 'GlobalID', 'Mileage', 'OBJECTID', 'SurfaceMaterial', 'YearBuilt', 'geometry']\n"
     ]
    }
   ],
   "source": [
    "common_cols_b.sort()\n",
    "print(common_cols_b)"
   ]
  },
  {
   "cell_type": "code",
   "execution_count": 17,
   "id": "62191078-5084-4ef9-8c73-2738ee52a70c",
   "metadata": {},
   "outputs": [],
   "source": [
    "# I do notice that I can simply rename 'GreenwayTrailName' in greenways and 'TrailName' in park trails to\n",
    "# include them in my dataframe concatenation.\n",
    "# Same thing with 'GreenwayType' and 'TrailType'\n",
    "# Combining 'Greenway' and 'ParkID'?"
   ]
  },
  {
   "cell_type": "code",
   "execution_count": 18,
   "id": "78af29a8-2ded-4be4-b9fe-25499ad82a9c",
   "metadata": {},
   "outputs": [
    {
     "data": {
      "text/plain": [
       "array(['Greenway', 'Multi-use', 'Park Trail', 'Primitive', None,\n",
       "       'Multi use'], dtype=object)"
      ]
     },
     "execution_count": 18,
     "metadata": {},
     "output_type": "execute_result"
    }
   ],
   "source": [
    "# Peek Greenway and Trail types\n",
    "greenways['GreenwayType'].unique()\n",
    "# There are multiple strings for 'multi use' so need to clean that after combining them."
   ]
  },
  {
   "cell_type": "code",
   "execution_count": 19,
   "id": "fcdafebf-7142-49a7-ba75-3e96d58d10ff",
   "metadata": {},
   "outputs": [
    {
     "data": {
      "text/plain": [
       "array(['Mountain Bike Trail', 'Park Trail', 'Primitive', 'Multi-use',\n",
       "       'Horse Trail', None], dtype=object)"
      ]
     },
     "execution_count": 19,
     "metadata": {},
     "output_type": "execute_result"
    }
   ],
   "source": [
    "trails['TrailType'].unique()"
   ]
  },
  {
   "cell_type": "code",
   "execution_count": 20,
   "id": "0c5c9aea-15dd-4cee-adfa-66bce14f60fb",
   "metadata": {},
   "outputs": [],
   "source": [
    "# Checking 'Greenway' and 'ParkID'"
   ]
  },
  {
   "cell_type": "code",
   "execution_count": 21,
   "id": "497a78ec-015e-4fe7-ba76-f250e3c65d3f",
   "metadata": {},
   "outputs": [
    {
     "data": {
      "text/plain": [
       "array(['Mill Creek Greenway', 'Cumberland River Greenway',\n",
       "       'Shelby Bottoms Greenway', 'Forest Hills Greenway',\n",
       "       'Gulch Greenway', 'Harpeth River Greenway',\n",
       "       'Richland Creek Greenway', 'Stones River Greenway',\n",
       "       'Peeler Park Greenway', 'Whites Creek Greenway',\n",
       "       'Seven Mile Creek Greenway', 'Seven Mile Creek Greenway ',\n",
       "       'Harpeth River Greenway ', '440 Greenway', 'Browns Creek Greenway',\n",
       "       'Whites Creek Greenway-Fontanel', 'Bells Bend Greenway'],\n",
       "      dtype=object)"
      ]
     },
     "execution_count": 21,
     "metadata": {},
     "output_type": "execute_result"
    }
   ],
   "source": [
    "greenways['Greenway'].unique()"
   ]
  },
  {
   "cell_type": "code",
   "execution_count": 22,
   "id": "2f43b1e9-81e1-4dee-b95a-22e3672fe5e0",
   "metadata": {},
   "outputs": [
    {
     "data": {
      "text/plain": [
       "array(['PARK_172', 'PARK_47', 'PARK_50', 'PARK_3', 'PARK_43',\n",
       "       'State Park', 'USACE', 'PARK_71', 'PARK_41', 'PARK_26', 'PARK_49',\n",
       "       'PARK-00009', 'PARK_53', 'PARK_166', 'PARK_31', 'PARK_46',\n",
       "       'PARK_1', 'PARK_67', 'State NA', 'PARK_80', 'PARK_70', 'PARK_161',\n",
       "       'PARK_8', 'PARK_54', 'PARK_77', 'PARK_39', 'PARK_22', 'PARK_58',\n",
       "       'PARK_36', 'PARK_200', 'PARK_21', 'PARK_174', 'PARK_57', 'PARK_19',\n",
       "       'PARK_83', 'PARK_33', 'PARK_63', 'PARK_59', 'PARK_211', 'PARK_5',\n",
       "       'PARK_62', None, 'PARK_4', 'PARK_88', 'PARK_223', 'PARK_212',\n",
       "       'PARK_73', 'PARK_89', 'State Ag', 'PARK_217', 'Fontanel',\n",
       "       'PARK_207', 'PARK_ID\\tPARK', 'PARK_218', ' '], dtype=object)"
      ]
     },
     "execution_count": 22,
     "metadata": {},
     "output_type": "execute_result"
    }
   ],
   "source": [
    "trails['PARK_ID'].unique()"
   ]
  },
  {
   "cell_type": "code",
   "execution_count": 23,
   "id": "47b433c1-945e-4347-b3aa-755a804ac2cd",
   "metadata": {},
   "outputs": [],
   "source": [
    "# Do I integrate these into one column...\n",
    "\n",
    "# Yes, they both function as specific identifiers for each installment. I would prefer to have these in one column, if they were in two, that would be another issue on its own."
   ]
  },
  {
   "cell_type": "code",
   "execution_count": 24,
   "id": "2ba93146-52a4-4da5-bcf8-bae2aa773e7c",
   "metadata": {},
   "outputs": [
    {
     "data": {
      "text/html": [
       "<div>\n",
       "<style scoped>\n",
       "    .dataframe tbody tr th:only-of-type {\n",
       "        vertical-align: middle;\n",
       "    }\n",
       "\n",
       "    .dataframe tbody tr th {\n",
       "        vertical-align: top;\n",
       "    }\n",
       "\n",
       "    .dataframe thead th {\n",
       "        text-align: right;\n",
       "    }\n",
       "</style>\n",
       "<table border=\"1\" class=\"dataframe\">\n",
       "  <thead>\n",
       "    <tr style=\"text-align: right;\">\n",
       "      <th></th>\n",
       "      <th>GlobalID</th>\n",
       "      <th>TrailName</th>\n",
       "      <th>TrailType</th>\n",
       "      <th>Description</th>\n",
       "      <th>Mileage</th>\n",
       "      <th>Difficulty</th>\n",
       "      <th>SurfaceMaterial</th>\n",
       "      <th>YearBuilt</th>\n",
       "      <th>PARK_ID</th>\n",
       "      <th>OBJECTID</th>\n",
       "      <th>geometry</th>\n",
       "    </tr>\n",
       "  </thead>\n",
       "  <tbody>\n",
       "    <tr>\n",
       "      <th>235</th>\n",
       "      <td>eb42a082-d62d-48ef-86f7-15a2a37f39ba</td>\n",
       "      <td>Mill Creek Greenway</td>\n",
       "      <td>Park Trail</td>\n",
       "      <td>Loop Trail</td>\n",
       "      <td>0.423188</td>\n",
       "      <td></td>\n",
       "      <td>Paved</td>\n",
       "      <td>2014.0</td>\n",
       "      <td>PARK_ID\\tPARK</td>\n",
       "      <td>2688</td>\n",
       "      <td>LINESTRING (-86.68647 36.01685, -86.68693 36.0...</td>\n",
       "    </tr>\n",
       "  </tbody>\n",
       "</table>\n",
       "</div>"
      ],
      "text/plain": [
       "                                 GlobalID            TrailName   TrailType  \\\n",
       "235  eb42a082-d62d-48ef-86f7-15a2a37f39ba  Mill Creek Greenway  Park Trail   \n",
       "\n",
       "    Description   Mileage Difficulty SurfaceMaterial  YearBuilt  \\\n",
       "235  Loop Trail  0.423188                      Paved     2014.0   \n",
       "\n",
       "           PARK_ID  OBJECTID  \\\n",
       "235  PARK_ID\\tPARK      2688   \n",
       "\n",
       "                                              geometry  \n",
       "235  LINESTRING (-86.68647 36.01685, -86.68693 36.0...  "
      ]
     },
     "execution_count": 24,
     "metadata": {},
     "output_type": "execute_result"
    }
   ],
   "source": [
    "# What's this... \n",
    "trails[trails['PARK_ID'] == 'PARK_ID\\tPARK']"
   ]
  },
  {
   "cell_type": "code",
   "execution_count": 25,
   "id": "707e49e6-6e8d-48a7-9a8d-a12fe4fd6d12",
   "metadata": {},
   "outputs": [
    {
     "data": {
      "text/html": [
       "<div>\n",
       "<style scoped>\n",
       "    .dataframe tbody tr th:only-of-type {\n",
       "        vertical-align: middle;\n",
       "    }\n",
       "\n",
       "    .dataframe tbody tr th {\n",
       "        vertical-align: top;\n",
       "    }\n",
       "\n",
       "    .dataframe thead th {\n",
       "        text-align: right;\n",
       "    }\n",
       "</style>\n",
       "<table border=\"1\" class=\"dataframe\">\n",
       "  <thead>\n",
       "    <tr style=\"text-align: right;\">\n",
       "      <th></th>\n",
       "      <th>GlobalID</th>\n",
       "      <th>TrailName</th>\n",
       "      <th>TrailType</th>\n",
       "      <th>Description</th>\n",
       "      <th>Mileage</th>\n",
       "      <th>Difficulty</th>\n",
       "      <th>SurfaceMaterial</th>\n",
       "      <th>YearBuilt</th>\n",
       "      <th>PARK_ID</th>\n",
       "      <th>OBJECTID</th>\n",
       "      <th>geometry</th>\n",
       "    </tr>\n",
       "  </thead>\n",
       "  <tbody>\n",
       "    <tr>\n",
       "      <th>234</th>\n",
       "      <td>f40ac0b4-d34a-432f-b916-4abaf8876697</td>\n",
       "      <td>Mill Creek Greenway</td>\n",
       "      <td>Park Trail</td>\n",
       "      <td>Primitive Neighborhood Connector</td>\n",
       "      <td>0.077455</td>\n",
       "      <td>Easy</td>\n",
       "      <td>Unpaved</td>\n",
       "      <td>2013.0</td>\n",
       "      <td>PARK_207</td>\n",
       "      <td>2687</td>\n",
       "      <td>LINESTRING (-86.68946 36.01725, -86.68948 36.0...</td>\n",
       "    </tr>\n",
       "    <tr>\n",
       "      <th>235</th>\n",
       "      <td>eb42a082-d62d-48ef-86f7-15a2a37f39ba</td>\n",
       "      <td>Mill Creek Greenway</td>\n",
       "      <td>Park Trail</td>\n",
       "      <td>Loop Trail</td>\n",
       "      <td>0.423188</td>\n",
       "      <td></td>\n",
       "      <td>Paved</td>\n",
       "      <td>2014.0</td>\n",
       "      <td>PARK_ID\\tPARK</td>\n",
       "      <td>2688</td>\n",
       "      <td>LINESTRING (-86.68647 36.01685, -86.68693 36.0...</td>\n",
       "    </tr>\n",
       "    <tr>\n",
       "      <th>236</th>\n",
       "      <td>3b84d320-9b1c-4835-8655-febd914d6009</td>\n",
       "      <td>Mill Creek Greenway</td>\n",
       "      <td>Park Trail</td>\n",
       "      <td>None</td>\n",
       "      <td>0.248555</td>\n",
       "      <td>Easy</td>\n",
       "      <td>Paved</td>\n",
       "      <td>2019.0</td>\n",
       "      <td>PARK_218</td>\n",
       "      <td>2689</td>\n",
       "      <td>LINESTRING (-86.67175 36.02712, -86.67143 36.0...</td>\n",
       "    </tr>\n",
       "  </tbody>\n",
       "</table>\n",
       "</div>"
      ],
      "text/plain": [
       "                                 GlobalID            TrailName   TrailType  \\\n",
       "234  f40ac0b4-d34a-432f-b916-4abaf8876697  Mill Creek Greenway  Park Trail   \n",
       "235  eb42a082-d62d-48ef-86f7-15a2a37f39ba  Mill Creek Greenway  Park Trail   \n",
       "236  3b84d320-9b1c-4835-8655-febd914d6009  Mill Creek Greenway  Park Trail   \n",
       "\n",
       "                          Description   Mileage Difficulty SurfaceMaterial  \\\n",
       "234  Primitive Neighborhood Connector  0.077455       Easy         Unpaved   \n",
       "235                        Loop Trail  0.423188                      Paved   \n",
       "236                              None  0.248555       Easy           Paved   \n",
       "\n",
       "     YearBuilt        PARK_ID  OBJECTID  \\\n",
       "234     2013.0       PARK_207      2687   \n",
       "235     2014.0  PARK_ID\\tPARK      2688   \n",
       "236     2019.0       PARK_218      2689   \n",
       "\n",
       "                                              geometry  \n",
       "234  LINESTRING (-86.68946 36.01725, -86.68948 36.0...  \n",
       "235  LINESTRING (-86.68647 36.01685, -86.68693 36.0...  \n",
       "236  LINESTRING (-86.67175 36.02712, -86.67143 36.0...  "
      ]
     },
     "execution_count": 25,
     "metadata": {},
     "output_type": "execute_result"
    }
   ],
   "source": [
    "trails[trails['TrailName'] == 'Mill Creek Greenway']"
   ]
  },
  {
   "cell_type": "code",
   "execution_count": 26,
   "id": "880dfaeb-a692-43a2-8d84-bd06d7f876aa",
   "metadata": {},
   "outputs": [],
   "source": [
    "# Weird but I don't think I can do much about it"
   ]
  },
  {
   "cell_type": "code",
   "execution_count": 27,
   "id": "93a4024f-4ecc-4bca-a867-5621df442a22",
   "metadata": {},
   "outputs": [],
   "source": [
    "# Renaming for concatenation\n",
    "greenways = greenways.rename(columns={'GreenwayTrailName' : 'name',\n",
    "                                      'GreenwayType' : 'type',\n",
    "                                      'Greenway' : 'Installment'}).drop(columns='OwnedBy') # <<< Dropping one column I don't need\n",
    "trails = trails.rename(columns={'TrailName' : 'name',\n",
    "                                'TrailType' : 'type',\n",
    "                                'PARK_ID' : 'Installment'})"
   ]
  },
  {
   "cell_type": "code",
   "execution_count": 28,
   "id": "0be3066f-e209-49ea-9ccf-6bf102cf95f3",
   "metadata": {},
   "outputs": [
    {
     "data": {
      "text/plain": [
       "['GlobalID',\n",
       " 'Difficulty',\n",
       " 'SurfaceMaterial',\n",
       " 'Installment',\n",
       " 'name',\n",
       " 'Mileage',\n",
       " 'Description',\n",
       " 'type',\n",
       " 'YearBuilt',\n",
       " 'OBJECTID',\n",
       " 'geometry']"
      ]
     },
     "execution_count": 28,
     "metadata": {},
     "output_type": "execute_result"
    }
   ],
   "source": [
    "# Check again\n",
    "common_cols_a = []\n",
    "for x in list(greenways.columns):\n",
    "    if x in list(trails.columns):\n",
    "        common_cols_a.append(x)\n",
    "    else:\n",
    "        print('DROP: ' + str(x))\n",
    "\n",
    "common_cols_a"
   ]
  },
  {
   "cell_type": "code",
   "execution_count": 29,
   "id": "6c867d08-0949-40d6-863e-9e9d6a781b0c",
   "metadata": {},
   "outputs": [],
   "source": [
    "# Looks good! All other column names have the exact same spelling and capitalization so it's LAUNCH TIME!\n",
    "greenways_trails = pd.concat([greenways, trails], ignore_index=True)"
   ]
  },
  {
   "cell_type": "code",
   "execution_count": 30,
   "id": "29d5299c-dacb-46c7-80b3-5f93629f169d",
   "metadata": {},
   "outputs": [
    {
     "data": {
      "text/html": [
       "<div>\n",
       "<style scoped>\n",
       "    .dataframe tbody tr th:only-of-type {\n",
       "        vertical-align: middle;\n",
       "    }\n",
       "\n",
       "    .dataframe tbody tr th {\n",
       "        vertical-align: top;\n",
       "    }\n",
       "\n",
       "    .dataframe thead th {\n",
       "        text-align: right;\n",
       "    }\n",
       "</style>\n",
       "<table border=\"1\" class=\"dataframe\">\n",
       "  <thead>\n",
       "    <tr style=\"text-align: right;\">\n",
       "      <th></th>\n",
       "      <th>GlobalID</th>\n",
       "      <th>Difficulty</th>\n",
       "      <th>SurfaceMaterial</th>\n",
       "      <th>Installment</th>\n",
       "      <th>name</th>\n",
       "      <th>Mileage</th>\n",
       "      <th>Description</th>\n",
       "      <th>type</th>\n",
       "      <th>YearBuilt</th>\n",
       "      <th>OBJECTID</th>\n",
       "      <th>geometry</th>\n",
       "    </tr>\n",
       "  </thead>\n",
       "  <tbody>\n",
       "    <tr>\n",
       "      <th>0</th>\n",
       "      <td>9ab32307-9255-42bb-98b3-bcc9ee9e4577</td>\n",
       "      <td>None</td>\n",
       "      <td>Paved</td>\n",
       "      <td>Mill Creek Greenway</td>\n",
       "      <td>Orchard Bend Park</td>\n",
       "      <td>0.083224</td>\n",
       "      <td>Turner</td>\n",
       "      <td>Greenway</td>\n",
       "      <td>NaN</td>\n",
       "      <td>28</td>\n",
       "      <td>LINESTRING Z (-86.66974 36.02465 0.00000, -86....</td>\n",
       "    </tr>\n",
       "    <tr>\n",
       "      <th>1</th>\n",
       "      <td>05caea61-9112-419e-bb95-70c0284ee52d</td>\n",
       "      <td></td>\n",
       "      <td>Paved</td>\n",
       "      <td>Cumberland River Greenway</td>\n",
       "      <td>Brookemeade Park</td>\n",
       "      <td>0.364287</td>\n",
       "      <td>Trail To Kelley's Point, Cumberland River Over...</td>\n",
       "      <td>Multi-use</td>\n",
       "      <td>2005.0</td>\n",
       "      <td>494</td>\n",
       "      <td>MULTILINESTRING Z ((-86.90419 36.13075 0.00000...</td>\n",
       "    </tr>\n",
       "    <tr>\n",
       "      <th>2</th>\n",
       "      <td>09adeb86-5a30-449f-b88f-271c284dad9a</td>\n",
       "      <td></td>\n",
       "      <td>Paved</td>\n",
       "      <td>Cumberland River Greenway</td>\n",
       "      <td>Downtown</td>\n",
       "      <td>0.650000</td>\n",
       "      <td>Trail connecting the riverfront to Bicentenial...</td>\n",
       "      <td>Multi-use</td>\n",
       "      <td>2001.0</td>\n",
       "      <td>495</td>\n",
       "      <td>MULTILINESTRING Z ((-86.78201 36.17455 0.00000...</td>\n",
       "    </tr>\n",
       "    <tr>\n",
       "      <th>3</th>\n",
       "      <td>569f7bb2-4333-4e31-8c52-471c454aa5a9</td>\n",
       "      <td></td>\n",
       "      <td>Paved</td>\n",
       "      <td>Cumberland River Greenway</td>\n",
       "      <td>Downtown</td>\n",
       "      <td>0.542944</td>\n",
       "      <td>Rolling Mill Hill overlook. Connects to Ascend...</td>\n",
       "      <td>Multi-use</td>\n",
       "      <td>2013.0</td>\n",
       "      <td>496</td>\n",
       "      <td>LINESTRING Z (-86.76469 36.15531 0.00000, -86....</td>\n",
       "    </tr>\n",
       "    <tr>\n",
       "      <th>4</th>\n",
       "      <td>a401702f-5ba2-453c-a4eb-4907e61fa33d</td>\n",
       "      <td></td>\n",
       "      <td>Paved</td>\n",
       "      <td>Cumberland River Greenway</td>\n",
       "      <td>Metro Center Levee - Catfish Tunnel to Freelan...</td>\n",
       "      <td>1.495068</td>\n",
       "      <td>Main Trail</td>\n",
       "      <td>Multi-use</td>\n",
       "      <td>2004.0</td>\n",
       "      <td>498</td>\n",
       "      <td>MULTILINESTRING Z ((-86.80091 36.20110 0.00000...</td>\n",
       "    </tr>\n",
       "  </tbody>\n",
       "</table>\n",
       "</div>"
      ],
      "text/plain": [
       "                               GlobalID Difficulty SurfaceMaterial  \\\n",
       "0  9ab32307-9255-42bb-98b3-bcc9ee9e4577       None           Paved   \n",
       "1  05caea61-9112-419e-bb95-70c0284ee52d                      Paved   \n",
       "2  09adeb86-5a30-449f-b88f-271c284dad9a                      Paved   \n",
       "3  569f7bb2-4333-4e31-8c52-471c454aa5a9                      Paved   \n",
       "4  a401702f-5ba2-453c-a4eb-4907e61fa33d                      Paved   \n",
       "\n",
       "                 Installment  \\\n",
       "0        Mill Creek Greenway   \n",
       "1  Cumberland River Greenway   \n",
       "2  Cumberland River Greenway   \n",
       "3  Cumberland River Greenway   \n",
       "4  Cumberland River Greenway   \n",
       "\n",
       "                                                name   Mileage  \\\n",
       "0                                  Orchard Bend Park  0.083224   \n",
       "1                                   Brookemeade Park  0.364287   \n",
       "2                                           Downtown  0.650000   \n",
       "3                                           Downtown  0.542944   \n",
       "4  Metro Center Levee - Catfish Tunnel to Freelan...  1.495068   \n",
       "\n",
       "                                         Description       type  YearBuilt  \\\n",
       "0                                             Turner   Greenway        NaN   \n",
       "1  Trail To Kelley's Point, Cumberland River Over...  Multi-use     2005.0   \n",
       "2  Trail connecting the riverfront to Bicentenial...  Multi-use     2001.0   \n",
       "3  Rolling Mill Hill overlook. Connects to Ascend...  Multi-use     2013.0   \n",
       "4                                         Main Trail  Multi-use     2004.0   \n",
       "\n",
       "   OBJECTID                                           geometry  \n",
       "0        28  LINESTRING Z (-86.66974 36.02465 0.00000, -86....  \n",
       "1       494  MULTILINESTRING Z ((-86.90419 36.13075 0.00000...  \n",
       "2       495  MULTILINESTRING Z ((-86.78201 36.17455 0.00000...  \n",
       "3       496  LINESTRING Z (-86.76469 36.15531 0.00000, -86....  \n",
       "4       498  MULTILINESTRING Z ((-86.80091 36.20110 0.00000...  "
      ]
     },
     "execution_count": 30,
     "metadata": {},
     "output_type": "execute_result"
    }
   ],
   "source": [
    "# Voila\n",
    "greenways_trails.head()"
   ]
  },
  {
   "cell_type": "markdown",
   "id": "1af496e8-6c2e-4b0f-b9ed-20bee4324f47",
   "metadata": {
    "jp-MarkdownHeadingCollapsed": true
   },
   "source": [
    "#### Short Term Rentals"
   ]
  },
  {
   "cell_type": "code",
   "execution_count": 31,
   "id": "da9923a1-aa6e-476c-ac5a-a30f860e9eaf",
   "metadata": {},
   "outputs": [],
   "source": [
    "short_term_rentals = gpd.read_file('../data/Residential_Short_Term_Rental_Permits_view_9011625907413496580.geojson')"
   ]
  },
  {
   "cell_type": "code",
   "execution_count": 32,
   "id": "11ec8b8a-d16c-452c-a95f-8f21fc981b2d",
   "metadata": {},
   "outputs": [
    {
     "data": {
      "text/html": [
       "<div>\n",
       "<style scoped>\n",
       "    .dataframe tbody tr th:only-of-type {\n",
       "        vertical-align: middle;\n",
       "    }\n",
       "\n",
       "    .dataframe tbody tr th {\n",
       "        vertical-align: top;\n",
       "    }\n",
       "\n",
       "    .dataframe thead th {\n",
       "        text-align: right;\n",
       "    }\n",
       "</style>\n",
       "<table border=\"1\" class=\"dataframe\">\n",
       "  <thead>\n",
       "    <tr style=\"text-align: right;\">\n",
       "      <th></th>\n",
       "      <th>Permit__</th>\n",
       "      <th>Permit_Subtype_Description</th>\n",
       "      <th>Date_Entered</th>\n",
       "      <th>Date_Issued</th>\n",
       "      <th>Address</th>\n",
       "      <th>City</th>\n",
       "      <th>State</th>\n",
       "      <th>Subdivision_Lot</th>\n",
       "      <th>Permit_Type</th>\n",
       "      <th>Permit_SubType</th>\n",
       "      <th>Purpose</th>\n",
       "      <th>Council_Dist</th>\n",
       "      <th>Census_Tract</th>\n",
       "      <th>Expiration_Date</th>\n",
       "      <th>Permit_Owner_Name</th>\n",
       "      <th>Permit_Owner_Addr1</th>\n",
       "      <th>Permit_Owner_Addr2</th>\n",
       "      <th>Permit_Owner_Addr3</th>\n",
       "      <th>Permit_Owner_City</th>\n",
       "      <th>Permit_Owner_State</th>\n",
       "      <th>Permit_Owner_Zip</th>\n",
       "      <th>Permit_Status</th>\n",
       "      <th>Applicant</th>\n",
       "      <th>Applicant_Home_Phone</th>\n",
       "      <th>Applicant_Mobile_Phone</th>\n",
       "      <th>Applicant_Work_Phone</th>\n",
       "      <th>Applicant_Work_Phone_Ext</th>\n",
       "      <th>Contact</th>\n",
       "      <th>Contact_Home_Phone</th>\n",
       "      <th>Contact_Mobile_Phone</th>\n",
       "      <th>Contact_Work_Phone</th>\n",
       "      <th>Contact_Work_Phone_Ext</th>\n",
       "      <th>Lon</th>\n",
       "      <th>Lat</th>\n",
       "      <th>ObjectId</th>\n",
       "      <th>ZIP</th>\n",
       "      <th>Parcel</th>\n",
       "      <th>geometry</th>\n",
       "    </tr>\n",
       "  </thead>\n",
       "  <tbody>\n",
       "    <tr>\n",
       "      <th>0</th>\n",
       "      <td>201511887</td>\n",
       "      <td>Short Term Rental - Non-Owner Occupied</td>\n",
       "      <td>Wed, 01 Apr 2015 05:00:00 GMT</td>\n",
       "      <td>Thu, 09 Jul 2015 05:00:00 GMT</td>\n",
       "      <td>133 HAYNES PARK DR</td>\n",
       "      <td>NASHVILLE</td>\n",
       "      <td>TN</td>\n",
       "      <td>LOT 187 HAYNES PARK SUB SEC 2</td>\n",
       "      <td>CASR</td>\n",
       "      <td>CAZ10A002</td>\n",
       "      <td>By making this application for a Residential S...</td>\n",
       "      <td>1</td>\n",
       "      <td>37012801</td>\n",
       "      <td>Tue, 08 Aug 2023 00:00:00 GMT</td>\n",
       "      <td>KCJB FAMILY TRUST</td>\n",
       "      <td>None</td>\n",
       "      <td>8210 MOORES LN</td>\n",
       "      <td>None</td>\n",
       "      <td>BRENTWOOD</td>\n",
       "      <td>TN</td>\n",
       "      <td>37027</td>\n",
       "      <td>EXPIRED</td>\n",
       "      <td>Fox, Stephanie S.</td>\n",
       "      <td>None</td>\n",
       "      <td>None</td>\n",
       "      <td>None</td>\n",
       "      <td>None</td>\n",
       "      <td>Fox, Stephanie S.</td>\n",
       "      <td>None</td>\n",
       "      <td>None</td>\n",
       "      <td>None</td>\n",
       "      <td>None</td>\n",
       "      <td>-86.834922</td>\n",
       "      <td>36.209292</td>\n",
       "      <td>1</td>\n",
       "      <td>37218</td>\n",
       "      <td>06904012500</td>\n",
       "      <td>POINT (-9666419.30900 4329457.98320)</td>\n",
       "    </tr>\n",
       "  </tbody>\n",
       "</table>\n",
       "</div>"
      ],
      "text/plain": [
       "    Permit__              Permit_Subtype_Description  \\\n",
       "0  201511887  Short Term Rental - Non-Owner Occupied   \n",
       "\n",
       "                    Date_Entered                    Date_Issued  \\\n",
       "0  Wed, 01 Apr 2015 05:00:00 GMT  Thu, 09 Jul 2015 05:00:00 GMT   \n",
       "\n",
       "              Address       City State                Subdivision_Lot  \\\n",
       "0  133 HAYNES PARK DR  NASHVILLE    TN  LOT 187 HAYNES PARK SUB SEC 2   \n",
       "\n",
       "  Permit_Type Permit_SubType  \\\n",
       "0        CASR      CAZ10A002   \n",
       "\n",
       "                                             Purpose  Council_Dist  \\\n",
       "0  By making this application for a Residential S...             1   \n",
       "\n",
       "   Census_Tract                Expiration_Date  Permit_Owner_Name  \\\n",
       "0      37012801  Tue, 08 Aug 2023 00:00:00 GMT  KCJB FAMILY TRUST   \n",
       "\n",
       "  Permit_Owner_Addr1 Permit_Owner_Addr2 Permit_Owner_Addr3 Permit_Owner_City  \\\n",
       "0               None     8210 MOORES LN               None         BRENTWOOD   \n",
       "\n",
       "  Permit_Owner_State Permit_Owner_Zip Permit_Status          Applicant  \\\n",
       "0                 TN            37027       EXPIRED  Fox, Stephanie S.   \n",
       "\n",
       "  Applicant_Home_Phone Applicant_Mobile_Phone Applicant_Work_Phone  \\\n",
       "0                 None                   None                 None   \n",
       "\n",
       "  Applicant_Work_Phone_Ext            Contact Contact_Home_Phone  \\\n",
       "0                     None  Fox, Stephanie S.               None   \n",
       "\n",
       "  Contact_Mobile_Phone Contact_Work_Phone Contact_Work_Phone_Ext        Lon  \\\n",
       "0                 None               None                   None -86.834922   \n",
       "\n",
       "         Lat  ObjectId    ZIP       Parcel  \\\n",
       "0  36.209292         1  37218  06904012500   \n",
       "\n",
       "                               geometry  \n",
       "0  POINT (-9666419.30900 4329457.98320)  "
      ]
     },
     "execution_count": 32,
     "metadata": {},
     "output_type": "execute_result"
    }
   ],
   "source": [
    "short_term_rentals.head(1)"
   ]
  },
  {
   "cell_type": "code",
   "execution_count": 33,
   "id": "59aa3901-165a-4b73-b0a6-d87058ffcaec",
   "metadata": {},
   "outputs": [],
   "source": [
    "# I don't need any contact information\n",
    "short_term_rentals = short_term_rentals.drop(columns = ['Applicant_Home_Phone', 'Applicant_Mobile_Phone',\n",
    "       'Applicant_Work_Phone', 'Applicant_Work_Phone_Ext',\n",
    "       'Contact_Home_Phone', 'Contact_Mobile_Phone', 'Contact_Work_Phone',\n",
    "       'Contact_Work_Phone_Ext'])"
   ]
  },
  {
   "cell_type": "code",
   "execution_count": 34,
   "id": "4d843297-c7db-4c29-b32e-c637a5d1687c",
   "metadata": {},
   "outputs": [
    {
     "data": {
      "text/plain": [
       "Permit_Status\n",
       "ISSUED       7543\n",
       "EXPIRED      6959\n",
       "CANCELLED    1838\n",
       "REVOKED        95\n",
       "EXPIREEXT      37\n",
       "PENDING        32\n",
       "HOLD           19\n",
       "REFUNDED        3\n",
       "DENIED-D        2\n",
       "DENIED          2\n",
       "VOID            1\n",
       "Name: count, dtype: int64"
      ]
     },
     "execution_count": 34,
     "metadata": {},
     "output_type": "execute_result"
    }
   ],
   "source": [
    "short_term_rentals['Permit_Status'].value_counts()"
   ]
  },
  {
   "cell_type": "code",
   "execution_count": 35,
   "id": "0d0f8090-ecf0-4442-9170-e94fdc425dcc",
   "metadata": {},
   "outputs": [],
   "source": [
    "# Filtering for active Short Term Rental permits\n",
    "active_STRs = short_term_rentals[short_term_rentals['Permit_Status'] == 'ISSUED']"
   ]
  },
  {
   "cell_type": "code",
   "execution_count": 36,
   "id": "7caa8db9-795b-4f0f-aa8f-de2b1084c4f2",
   "metadata": {},
   "outputs": [
    {
     "data": {
      "text/plain": [
       "Permit_Status\n",
       "ISSUED    7543\n",
       "Name: count, dtype: int64"
      ]
     },
     "execution_count": 36,
     "metadata": {},
     "output_type": "execute_result"
    }
   ],
   "source": [
    "# Checking\n",
    "active_STRs['Permit_Status'].value_counts()"
   ]
  },
  {
   "cell_type": "code",
   "execution_count": null,
   "id": "9985f937-aebd-493b-b9b2-f31b52ff4722",
   "metadata": {},
   "outputs": [],
   "source": []
  },
  {
   "cell_type": "code",
   "execution_count": null,
   "id": "050e4bcd-8195-4834-b395-bf1895aaef6c",
   "metadata": {},
   "outputs": [],
   "source": []
  },
  {
   "cell_type": "markdown",
   "id": "df86c502-d47b-4be4-bdbe-c4f7aa8cb07d",
   "metadata": {},
   "source": [
    "#### Nashville Next"
   ]
  },
  {
   "cell_type": "markdown",
   "id": "535318a0-addd-4260-a9a5-b1e3fcf5b58f",
   "metadata": {},
   "source": [
    "QUESTIONS:\n",
    "- What is the anchor park network and what are the specific plans for 'anchor parks?'\n",
    "- Can you shed some light on what the tiers are? Are they a priority system?\n",
    "- As far as features, what do Center, Transition or Infill, and Special Uses mean?"
   ]
  },
  {
   "cell_type": "code",
   "execution_count": 37,
   "id": "79701c06-6d64-4ae1-99db-0edc9d131bd3",
   "metadata": {},
   "outputs": [],
   "source": [
    "nash_next = gpd.read_file('../data/NashvilleNext_Concept_Map.geojson')"
   ]
  },
  {
   "cell_type": "code",
   "execution_count": 38,
   "id": "f5f72f48-de81-4af0-a965-0b6753078377",
   "metadata": {},
   "outputs": [
    {
     "data": {
      "text/html": [
       "<div>\n",
       "<style scoped>\n",
       "    .dataframe tbody tr th:only-of-type {\n",
       "        vertical-align: middle;\n",
       "    }\n",
       "\n",
       "    .dataframe tbody tr th {\n",
       "        vertical-align: top;\n",
       "    }\n",
       "\n",
       "    .dataframe thead th {\n",
       "        text-align: right;\n",
       "    }\n",
       "</style>\n",
       "<table border=\"1\" class=\"dataframe\">\n",
       "  <thead>\n",
       "    <tr style=\"text-align: right;\">\n",
       "      <th></th>\n",
       "      <th>OBJECTID</th>\n",
       "      <th>Name</th>\n",
       "      <th>Tier</th>\n",
       "      <th>Network</th>\n",
       "      <th>FeatureType</th>\n",
       "      <th>geometry</th>\n",
       "    </tr>\n",
       "  </thead>\n",
       "  <tbody>\n",
       "    <tr>\n",
       "      <th>0</th>\n",
       "      <td>1</td>\n",
       "      <td>Anchor Parks</td>\n",
       "      <td></td>\n",
       "      <td>Anchor Park</td>\n",
       "      <td>Anchor Park</td>\n",
       "      <td>MULTIPOLYGON (((-86.87317 36.08708, -86.87312 ...</td>\n",
       "    </tr>\n",
       "    <tr>\n",
       "      <th>1</th>\n",
       "      <td>2</td>\n",
       "      <td>East Nashville - Gallatin Rd/E Trinity Ln</td>\n",
       "      <td>First</td>\n",
       "      <td></td>\n",
       "      <td>Center</td>\n",
       "      <td>POLYGON ((-86.73471 36.20726, -86.73481 36.205...</td>\n",
       "    </tr>\n",
       "    <tr>\n",
       "      <th>2</th>\n",
       "      <td>3</td>\n",
       "      <td>100 Oaks Area</td>\n",
       "      <td>First</td>\n",
       "      <td></td>\n",
       "      <td>Center</td>\n",
       "      <td>POLYGON ((-86.75155 36.11600, -86.75178 36.113...</td>\n",
       "    </tr>\n",
       "    <tr>\n",
       "      <th>3</th>\n",
       "      <td>4</td>\n",
       "      <td>8th Ave S/Melrose/Berry Hill</td>\n",
       "      <td>First</td>\n",
       "      <td></td>\n",
       "      <td>Center</td>\n",
       "      <td>POLYGON ((-86.77257 36.12655, -86.77337 36.121...</td>\n",
       "    </tr>\n",
       "    <tr>\n",
       "      <th>4</th>\n",
       "      <td>5</td>\n",
       "      <td>Antioch - Bell Rd/Murfreesboro Pk</td>\n",
       "      <td>Second</td>\n",
       "      <td></td>\n",
       "      <td>Center</td>\n",
       "      <td>POLYGON ((-86.63672 36.07483, -86.63642 36.074...</td>\n",
       "    </tr>\n",
       "    <tr>\n",
       "      <th>5</th>\n",
       "      <td>6</td>\n",
       "      <td>Antioch - Crossings/Hickory Hollow</td>\n",
       "      <td>First</td>\n",
       "      <td></td>\n",
       "      <td>Center</td>\n",
       "      <td>MULTIPOLYGON (((-86.66036 36.05466, -86.66020 ...</td>\n",
       "    </tr>\n",
       "    <tr>\n",
       "      <th>6</th>\n",
       "      <td>7</td>\n",
       "      <td>Bellevue - Bellevue Mall Area</td>\n",
       "      <td>Third</td>\n",
       "      <td></td>\n",
       "      <td>Center</td>\n",
       "      <td>POLYGON ((-86.94341 36.07690, -86.94350 36.076...</td>\n",
       "    </tr>\n",
       "    <tr>\n",
       "      <th>7</th>\n",
       "      <td>8</td>\n",
       "      <td>Bellevue - Biltmore/McCrory/I40</td>\n",
       "      <td>Third</td>\n",
       "      <td></td>\n",
       "      <td>Center</td>\n",
       "      <td>POLYGON ((-87.01336 36.07744, -87.01336 36.077...</td>\n",
       "    </tr>\n",
       "    <tr>\n",
       "      <th>8</th>\n",
       "      <td>9</td>\n",
       "      <td>Bellevue - Charlotte Pk/Old Hickory Blvd</td>\n",
       "      <td>Second</td>\n",
       "      <td></td>\n",
       "      <td>Center</td>\n",
       "      <td>POLYGON ((-86.92184 36.11929, -86.92099 36.118...</td>\n",
       "    </tr>\n",
       "    <tr>\n",
       "      <th>9</th>\n",
       "      <td>10</td>\n",
       "      <td>Bellevue - Hwy 100</td>\n",
       "      <td>Third</td>\n",
       "      <td></td>\n",
       "      <td>Center</td>\n",
       "      <td>POLYGON ((-86.95118 36.04780, -86.95088 36.047...</td>\n",
       "    </tr>\n",
       "  </tbody>\n",
       "</table>\n",
       "</div>"
      ],
      "text/plain": [
       "   OBJECTID                                       Name    Tier      Network  \\\n",
       "0         1                               Anchor Parks          Anchor Park   \n",
       "1         2  East Nashville - Gallatin Rd/E Trinity Ln   First                \n",
       "2         3                              100 Oaks Area   First                \n",
       "3         4               8th Ave S/Melrose/Berry Hill   First                \n",
       "4         5          Antioch - Bell Rd/Murfreesboro Pk  Second                \n",
       "5         6         Antioch - Crossings/Hickory Hollow   First                \n",
       "6         7              Bellevue - Bellevue Mall Area   Third                \n",
       "7         8            Bellevue - Biltmore/McCrory/I40   Third                \n",
       "8         9   Bellevue - Charlotte Pk/Old Hickory Blvd  Second                \n",
       "9        10                         Bellevue - Hwy 100   Third                \n",
       "\n",
       "   FeatureType                                           geometry  \n",
       "0  Anchor Park  MULTIPOLYGON (((-86.87317 36.08708, -86.87312 ...  \n",
       "1       Center  POLYGON ((-86.73471 36.20726, -86.73481 36.205...  \n",
       "2       Center  POLYGON ((-86.75155 36.11600, -86.75178 36.113...  \n",
       "3       Center  POLYGON ((-86.77257 36.12655, -86.77337 36.121...  \n",
       "4       Center  POLYGON ((-86.63672 36.07483, -86.63642 36.074...  \n",
       "5       Center  MULTIPOLYGON (((-86.66036 36.05466, -86.66020 ...  \n",
       "6       Center  POLYGON ((-86.94341 36.07690, -86.94350 36.076...  \n",
       "7       Center  POLYGON ((-87.01336 36.07744, -87.01336 36.077...  \n",
       "8       Center  POLYGON ((-86.92184 36.11929, -86.92099 36.118...  \n",
       "9       Center  POLYGON ((-86.95118 36.04780, -86.95088 36.047...  "
      ]
     },
     "execution_count": 38,
     "metadata": {},
     "output_type": "execute_result"
    }
   ],
   "source": [
    "nash_next.head(10)"
   ]
  },
  {
   "cell_type": "code",
   "execution_count": 39,
   "id": "63fd0d2e-4539-4029-9133-488766270a3c",
   "metadata": {},
   "outputs": [
    {
     "data": {
      "text/plain": [
       "array(['Anchor Park', 'Center', 'Transition or Infill', 'Special Uses',\n",
       "       'Neighborhood', 'Green network'], dtype=object)"
      ]
     },
     "execution_count": 39,
     "metadata": {},
     "output_type": "execute_result"
    }
   ],
   "source": [
    "nash_next['FeatureType'].unique()"
   ]
  },
  {
   "cell_type": "code",
   "execution_count": 40,
   "id": "82c205c1-4173-4519-abf5-dd31eeea2e7b",
   "metadata": {},
   "outputs": [
    {
     "data": {
      "text/plain": [
       "(151, 6)"
      ]
     },
     "execution_count": 40,
     "metadata": {},
     "output_type": "execute_result"
    }
   ],
   "source": [
    "nash_next[nash_next['FeatureType'] == 'Green network'].shape"
   ]
  },
  {
   "cell_type": "code",
   "execution_count": null,
   "id": "fbf215c0-30ac-4018-b8d1-04f742b3b34e",
   "metadata": {},
   "outputs": [],
   "source": []
  },
  {
   "cell_type": "code",
   "execution_count": null,
   "id": "5e510e1f-868e-49b0-b974-5bf762765fb7",
   "metadata": {},
   "outputs": [],
   "source": []
  }
 ],
 "metadata": {
  "kernelspec": {
   "display_name": "Python [conda env:geospatial] *",
   "language": "python",
   "name": "conda-env-geospatial-py"
  },
  "language_info": {
   "codemirror_mode": {
    "name": "ipython",
    "version": 3
   },
   "file_extension": ".py",
   "mimetype": "text/x-python",
   "name": "python",
   "nbconvert_exporter": "python",
   "pygments_lexer": "ipython3",
   "version": "3.10.17"
  }
 },
 "nbformat": 4,
 "nbformat_minor": 5
}
